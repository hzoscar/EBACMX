{
 "cells": [
  {
   "attachments": {},
   "cell_type": "markdown",
   "metadata": {},
   "source": [
    "## Actividad modulo 27 - Regresión lineal multivariable"
   ]
  },
  {
   "attachments": {},
   "cell_type": "markdown",
   "metadata": {},
   "source": [
    "#### I took the dataset from:\n",
    "- https://www.kaggle.com/datasets/ashydv/housing-dataset"
   ]
  },
  {
   "attachments": {},
   "cell_type": "markdown",
   "metadata": {},
   "source": [
    "### Descripción de los campos\n",
    "\n",
    "- Price (#)\n",
    "- Area (#)\n",
    "- Bedroom (#)\n",
    "- Bathroom (#)\n",
    "- Stories (#)\n",
    "- Mainroad (yes/no)\n",
    "- guestroom (yes/no)\n",
    "- basement (yes/no)\n",
    "- hotwaterheating (yes/no)\n",
    "- airconditioning (yes/no)\n",
    "- parking (#)\n",
    "- prefarea(yes/no)\n",
    "- furnishingstatus (furnished, semi-furnished, ununfurnished)\n",
    "\n",
    "- En este caso la idea seria predecir el precio de las casas, basado en los 545 registros del dataset"
   ]
  },
  {
   "cell_type": "code",
   "execution_count": 114,
   "metadata": {},
   "outputs": [],
   "source": [
    "import pandas as pd\n",
    "import numpy as np\n",
    "import os\n",
    "import seaborn as sns\n",
    "import matplotlib.pyplot as plt\n",
    "\n",
    "os.chdir('E:\\WORK IN PROGRESS\\Data Analytics course\\parte 2 python\\week 27')\n",
    "\n",
    "df = pd.read_csv('Housing.csv')"
   ]
  },
  {
   "attachments": {},
   "cell_type": "markdown",
   "metadata": {},
   "source": [
    "## Exploratory Data Analysis (EDA)"
   ]
  },
  {
   "cell_type": "code",
   "execution_count": 115,
   "metadata": {},
   "outputs": [
    {
     "data": {
      "text/html": [
       "<div>\n",
       "<style scoped>\n",
       "    .dataframe tbody tr th:only-of-type {\n",
       "        vertical-align: middle;\n",
       "    }\n",
       "\n",
       "    .dataframe tbody tr th {\n",
       "        vertical-align: top;\n",
       "    }\n",
       "\n",
       "    .dataframe thead th {\n",
       "        text-align: right;\n",
       "    }\n",
       "</style>\n",
       "<table border=\"1\" class=\"dataframe\">\n",
       "  <thead>\n",
       "    <tr style=\"text-align: right;\">\n",
       "      <th></th>\n",
       "      <th>price</th>\n",
       "      <th>area</th>\n",
       "      <th>bedrooms</th>\n",
       "      <th>bathrooms</th>\n",
       "      <th>stories</th>\n",
       "      <th>mainroad</th>\n",
       "      <th>guestroom</th>\n",
       "      <th>basement</th>\n",
       "      <th>hotwaterheating</th>\n",
       "      <th>airconditioning</th>\n",
       "      <th>parking</th>\n",
       "      <th>prefarea</th>\n",
       "      <th>furnishingstatus</th>\n",
       "    </tr>\n",
       "  </thead>\n",
       "  <tbody>\n",
       "    <tr>\n",
       "      <th>153</th>\n",
       "      <td>5530000</td>\n",
       "      <td>3300</td>\n",
       "      <td>3</td>\n",
       "      <td>3</td>\n",
       "      <td>2</td>\n",
       "      <td>yes</td>\n",
       "      <td>no</td>\n",
       "      <td>yes</td>\n",
       "      <td>no</td>\n",
       "      <td>no</td>\n",
       "      <td>0</td>\n",
       "      <td>no</td>\n",
       "      <td>semi-furnished</td>\n",
       "    </tr>\n",
       "    <tr>\n",
       "      <th>256</th>\n",
       "      <td>4480000</td>\n",
       "      <td>4000</td>\n",
       "      <td>3</td>\n",
       "      <td>1</td>\n",
       "      <td>2</td>\n",
       "      <td>yes</td>\n",
       "      <td>no</td>\n",
       "      <td>no</td>\n",
       "      <td>no</td>\n",
       "      <td>no</td>\n",
       "      <td>2</td>\n",
       "      <td>no</td>\n",
       "      <td>furnished</td>\n",
       "    </tr>\n",
       "    <tr>\n",
       "      <th>507</th>\n",
       "      <td>2590000</td>\n",
       "      <td>3600</td>\n",
       "      <td>2</td>\n",
       "      <td>1</td>\n",
       "      <td>1</td>\n",
       "      <td>yes</td>\n",
       "      <td>no</td>\n",
       "      <td>no</td>\n",
       "      <td>no</td>\n",
       "      <td>no</td>\n",
       "      <td>0</td>\n",
       "      <td>no</td>\n",
       "      <td>unfurnished</td>\n",
       "    </tr>\n",
       "    <tr>\n",
       "      <th>268</th>\n",
       "      <td>4382000</td>\n",
       "      <td>4950</td>\n",
       "      <td>4</td>\n",
       "      <td>1</td>\n",
       "      <td>2</td>\n",
       "      <td>yes</td>\n",
       "      <td>no</td>\n",
       "      <td>no</td>\n",
       "      <td>no</td>\n",
       "      <td>yes</td>\n",
       "      <td>0</td>\n",
       "      <td>no</td>\n",
       "      <td>semi-furnished</td>\n",
       "    </tr>\n",
       "    <tr>\n",
       "      <th>227</th>\n",
       "      <td>4690000</td>\n",
       "      <td>6000</td>\n",
       "      <td>2</td>\n",
       "      <td>1</td>\n",
       "      <td>1</td>\n",
       "      <td>yes</td>\n",
       "      <td>no</td>\n",
       "      <td>yes</td>\n",
       "      <td>no</td>\n",
       "      <td>yes</td>\n",
       "      <td>1</td>\n",
       "      <td>no</td>\n",
       "      <td>furnished</td>\n",
       "    </tr>\n",
       "  </tbody>\n",
       "</table>\n",
       "</div>"
      ],
      "text/plain": [
       "       price  area  bedrooms  bathrooms  stories mainroad guestroom basement  \\\n",
       "153  5530000  3300         3          3        2      yes        no      yes   \n",
       "256  4480000  4000         3          1        2      yes        no       no   \n",
       "507  2590000  3600         2          1        1      yes        no       no   \n",
       "268  4382000  4950         4          1        2      yes        no       no   \n",
       "227  4690000  6000         2          1        1      yes        no      yes   \n",
       "\n",
       "    hotwaterheating airconditioning  parking prefarea furnishingstatus  \n",
       "153              no              no        0       no   semi-furnished  \n",
       "256              no              no        2       no        furnished  \n",
       "507              no              no        0       no      unfurnished  \n",
       "268              no             yes        0       no   semi-furnished  \n",
       "227              no             yes        1       no        furnished  "
      ]
     },
     "execution_count": 115,
     "metadata": {},
     "output_type": "execute_result"
    }
   ],
   "source": [
    "df.sample(5)"
   ]
  },
  {
   "cell_type": "code",
   "execution_count": 116,
   "metadata": {},
   "outputs": [
    {
     "name": "stdout",
     "output_type": "stream",
     "text": [
      "Existen 0 valores no existentes\n"
     ]
    }
   ],
   "source": [
    "# Validar cuantas celdas en total son nulas\n",
    "print ('Existen', df.isnull().sum().sum(),'valores no existentes')"
   ]
  },
  {
   "cell_type": "code",
   "execution_count": 117,
   "metadata": {},
   "outputs": [
    {
     "name": "stdout",
     "output_type": "stream",
     "text": [
      "<class 'pandas.core.frame.DataFrame'>\n",
      "RangeIndex: 545 entries, 0 to 544\n",
      "Data columns (total 13 columns):\n",
      " #   Column            Non-Null Count  Dtype \n",
      "---  ------            --------------  ----- \n",
      " 0   price             545 non-null    int64 \n",
      " 1   area              545 non-null    int64 \n",
      " 2   bedrooms          545 non-null    int64 \n",
      " 3   bathrooms         545 non-null    int64 \n",
      " 4   stories           545 non-null    int64 \n",
      " 5   mainroad          545 non-null    object\n",
      " 6   guestroom         545 non-null    object\n",
      " 7   basement          545 non-null    object\n",
      " 8   hotwaterheating   545 non-null    object\n",
      " 9   airconditioning   545 non-null    object\n",
      " 10  parking           545 non-null    int64 \n",
      " 11  prefarea          545 non-null    object\n",
      " 12  furnishingstatus  545 non-null    object\n",
      "dtypes: int64(6), object(7)\n",
      "memory usage: 55.5+ KB\n"
     ]
    }
   ],
   "source": [
    "df.info()\n"
   ]
  },
  {
   "cell_type": "code",
   "execution_count": 118,
   "metadata": {},
   "outputs": [],
   "source": [
    "pd.set_option('display.float_format', lambda x: '%.3f' % x)"
   ]
  },
  {
   "cell_type": "code",
   "execution_count": 119,
   "metadata": {},
   "outputs": [
    {
     "data": {
      "text/html": [
       "<div>\n",
       "<style scoped>\n",
       "    .dataframe tbody tr th:only-of-type {\n",
       "        vertical-align: middle;\n",
       "    }\n",
       "\n",
       "    .dataframe tbody tr th {\n",
       "        vertical-align: top;\n",
       "    }\n",
       "\n",
       "    .dataframe thead th {\n",
       "        text-align: right;\n",
       "    }\n",
       "</style>\n",
       "<table border=\"1\" class=\"dataframe\">\n",
       "  <thead>\n",
       "    <tr style=\"text-align: right;\">\n",
       "      <th></th>\n",
       "      <th>count</th>\n",
       "      <th>mean</th>\n",
       "      <th>std</th>\n",
       "      <th>min</th>\n",
       "      <th>25%</th>\n",
       "      <th>50%</th>\n",
       "      <th>75%</th>\n",
       "      <th>max</th>\n",
       "    </tr>\n",
       "  </thead>\n",
       "  <tbody>\n",
       "    <tr>\n",
       "      <th>price</th>\n",
       "      <td>545.000</td>\n",
       "      <td>4766729.248</td>\n",
       "      <td>1870439.616</td>\n",
       "      <td>1750000.000</td>\n",
       "      <td>3430000.000</td>\n",
       "      <td>4340000.000</td>\n",
       "      <td>5740000.000</td>\n",
       "      <td>13300000.000</td>\n",
       "    </tr>\n",
       "    <tr>\n",
       "      <th>area</th>\n",
       "      <td>545.000</td>\n",
       "      <td>5150.541</td>\n",
       "      <td>2170.141</td>\n",
       "      <td>1650.000</td>\n",
       "      <td>3600.000</td>\n",
       "      <td>4600.000</td>\n",
       "      <td>6360.000</td>\n",
       "      <td>16200.000</td>\n",
       "    </tr>\n",
       "    <tr>\n",
       "      <th>bedrooms</th>\n",
       "      <td>545.000</td>\n",
       "      <td>2.965</td>\n",
       "      <td>0.738</td>\n",
       "      <td>1.000</td>\n",
       "      <td>2.000</td>\n",
       "      <td>3.000</td>\n",
       "      <td>3.000</td>\n",
       "      <td>6.000</td>\n",
       "    </tr>\n",
       "    <tr>\n",
       "      <th>bathrooms</th>\n",
       "      <td>545.000</td>\n",
       "      <td>1.286</td>\n",
       "      <td>0.502</td>\n",
       "      <td>1.000</td>\n",
       "      <td>1.000</td>\n",
       "      <td>1.000</td>\n",
       "      <td>2.000</td>\n",
       "      <td>4.000</td>\n",
       "    </tr>\n",
       "    <tr>\n",
       "      <th>stories</th>\n",
       "      <td>545.000</td>\n",
       "      <td>1.806</td>\n",
       "      <td>0.867</td>\n",
       "      <td>1.000</td>\n",
       "      <td>1.000</td>\n",
       "      <td>2.000</td>\n",
       "      <td>2.000</td>\n",
       "      <td>4.000</td>\n",
       "    </tr>\n",
       "    <tr>\n",
       "      <th>parking</th>\n",
       "      <td>545.000</td>\n",
       "      <td>0.694</td>\n",
       "      <td>0.862</td>\n",
       "      <td>0.000</td>\n",
       "      <td>0.000</td>\n",
       "      <td>0.000</td>\n",
       "      <td>1.000</td>\n",
       "      <td>3.000</td>\n",
       "    </tr>\n",
       "  </tbody>\n",
       "</table>\n",
       "</div>"
      ],
      "text/plain": [
       "            count        mean         std         min         25%         50%  \\\n",
       "price     545.000 4766729.248 1870439.616 1750000.000 3430000.000 4340000.000   \n",
       "area      545.000    5150.541    2170.141    1650.000    3600.000    4600.000   \n",
       "bedrooms  545.000       2.965       0.738       1.000       2.000       3.000   \n",
       "bathrooms 545.000       1.286       0.502       1.000       1.000       1.000   \n",
       "stories   545.000       1.806       0.867       1.000       1.000       2.000   \n",
       "parking   545.000       0.694       0.862       0.000       0.000       0.000   \n",
       "\n",
       "                  75%          max  \n",
       "price     5740000.000 13300000.000  \n",
       "area         6360.000    16200.000  \n",
       "bedrooms        3.000        6.000  \n",
       "bathrooms       2.000        4.000  \n",
       "stories         2.000        4.000  \n",
       "parking         1.000        3.000  "
      ]
     },
     "execution_count": 119,
     "metadata": {},
     "output_type": "execute_result"
    }
   ],
   "source": [
    "# Obtener los principales estadisticos por cada uno\n",
    "df.describe().T"
   ]
  },
  {
   "cell_type": "code",
   "execution_count": 120,
   "metadata": {},
   "outputs": [
    {
     "data": {
      "text/plain": [
       "price               219\n",
       "area                284\n",
       "bedrooms              6\n",
       "bathrooms             4\n",
       "stories               4\n",
       "mainroad              2\n",
       "guestroom             2\n",
       "basement              2\n",
       "hotwaterheating       2\n",
       "airconditioning       2\n",
       "parking               4\n",
       "prefarea              2\n",
       "furnishingstatus      3\n",
       "dtype: int64"
      ]
     },
     "execution_count": 120,
     "metadata": {},
     "output_type": "execute_result"
    }
   ],
   "source": [
    "# Se ve el total de los valores unicos por cada columna\n",
    "# Al parecer es un buen data set de datos, no tiene tanta variabilidad en las respuestas, lo que hace que se a mas facil su prediccion\n",
    "# Ademas se confirma en los valores yes/no y furnished, que tienen 2 y 3 valores, correspondientemente\n",
    "df.nunique()"
   ]
  },
  {
   "cell_type": "markdown",
   "metadata": {},
   "source": [
    "### Feature Engineering"
   ]
  },
  {
   "cell_type": "code",
   "execution_count": 121,
   "metadata": {},
   "outputs": [],
   "source": [
    "# Antes de seguir se cambian las columnas que tienen valores en caneda a numeros\n",
    "# yes/no por 1/0\n",
    "# furnished/semi-furnished/unfornished:1/2/3\n",
    "object_columns=[col for col in df.columns if (df[col].dtypes=='object')]\n",
    "object_columns.remove('furnishingstatus')\n",
    "for j in object_columns:\n",
    "   df[j]=df[j].map({'yes':1,'no':0})\n",
    "df['furnishingstatus']=df['furnishingstatus'].map({'furnished':1,'semi-furnished':2,'unfurnished':3})"
   ]
  },
  {
   "cell_type": "code",
   "execution_count": 122,
   "metadata": {},
   "outputs": [
    {
     "data": {
      "text/html": [
       "<div>\n",
       "<style scoped>\n",
       "    .dataframe tbody tr th:only-of-type {\n",
       "        vertical-align: middle;\n",
       "    }\n",
       "\n",
       "    .dataframe tbody tr th {\n",
       "        vertical-align: top;\n",
       "    }\n",
       "\n",
       "    .dataframe thead th {\n",
       "        text-align: right;\n",
       "    }\n",
       "</style>\n",
       "<table border=\"1\" class=\"dataframe\">\n",
       "  <thead>\n",
       "    <tr style=\"text-align: right;\">\n",
       "      <th></th>\n",
       "      <th>price</th>\n",
       "      <th>area</th>\n",
       "      <th>bedrooms</th>\n",
       "      <th>bathrooms</th>\n",
       "      <th>stories</th>\n",
       "      <th>mainroad</th>\n",
       "      <th>guestroom</th>\n",
       "      <th>basement</th>\n",
       "      <th>hotwaterheating</th>\n",
       "      <th>airconditioning</th>\n",
       "      <th>parking</th>\n",
       "      <th>prefarea</th>\n",
       "      <th>furnishingstatus</th>\n",
       "    </tr>\n",
       "  </thead>\n",
       "  <tbody>\n",
       "    <tr>\n",
       "      <th>34</th>\n",
       "      <td>8120000</td>\n",
       "      <td>6840</td>\n",
       "      <td>5</td>\n",
       "      <td>1</td>\n",
       "      <td>2</td>\n",
       "      <td>1</td>\n",
       "      <td>1</td>\n",
       "      <td>1</td>\n",
       "      <td>0</td>\n",
       "      <td>1</td>\n",
       "      <td>1</td>\n",
       "      <td>0</td>\n",
       "      <td>1</td>\n",
       "    </tr>\n",
       "    <tr>\n",
       "      <th>108</th>\n",
       "      <td>6107500</td>\n",
       "      <td>3240</td>\n",
       "      <td>4</td>\n",
       "      <td>1</td>\n",
       "      <td>3</td>\n",
       "      <td>1</td>\n",
       "      <td>0</td>\n",
       "      <td>0</td>\n",
       "      <td>0</td>\n",
       "      <td>0</td>\n",
       "      <td>1</td>\n",
       "      <td>0</td>\n",
       "      <td>2</td>\n",
       "    </tr>\n",
       "    <tr>\n",
       "      <th>290</th>\n",
       "      <td>4200000</td>\n",
       "      <td>2610</td>\n",
       "      <td>4</td>\n",
       "      <td>3</td>\n",
       "      <td>2</td>\n",
       "      <td>0</td>\n",
       "      <td>0</td>\n",
       "      <td>0</td>\n",
       "      <td>0</td>\n",
       "      <td>0</td>\n",
       "      <td>0</td>\n",
       "      <td>0</td>\n",
       "      <td>2</td>\n",
       "    </tr>\n",
       "    <tr>\n",
       "      <th>510</th>\n",
       "      <td>2520000</td>\n",
       "      <td>2880</td>\n",
       "      <td>3</td>\n",
       "      <td>1</td>\n",
       "      <td>1</td>\n",
       "      <td>0</td>\n",
       "      <td>0</td>\n",
       "      <td>0</td>\n",
       "      <td>0</td>\n",
       "      <td>0</td>\n",
       "      <td>0</td>\n",
       "      <td>0</td>\n",
       "      <td>3</td>\n",
       "    </tr>\n",
       "    <tr>\n",
       "      <th>483</th>\n",
       "      <td>2940000</td>\n",
       "      <td>6615</td>\n",
       "      <td>3</td>\n",
       "      <td>1</td>\n",
       "      <td>2</td>\n",
       "      <td>1</td>\n",
       "      <td>0</td>\n",
       "      <td>0</td>\n",
       "      <td>0</td>\n",
       "      <td>0</td>\n",
       "      <td>0</td>\n",
       "      <td>0</td>\n",
       "      <td>2</td>\n",
       "    </tr>\n",
       "  </tbody>\n",
       "</table>\n",
       "</div>"
      ],
      "text/plain": [
       "       price  area  bedrooms  bathrooms  stories  mainroad  guestroom  \\\n",
       "34   8120000  6840         5          1        2         1          1   \n",
       "108  6107500  3240         4          1        3         1          0   \n",
       "290  4200000  2610         4          3        2         0          0   \n",
       "510  2520000  2880         3          1        1         0          0   \n",
       "483  2940000  6615         3          1        2         1          0   \n",
       "\n",
       "     basement  hotwaterheating  airconditioning  parking  prefarea  \\\n",
       "34          1                0                1        1         0   \n",
       "108         0                0                0        1         0   \n",
       "290         0                0                0        0         0   \n",
       "510         0                0                0        0         0   \n",
       "483         0                0                0        0         0   \n",
       "\n",
       "     furnishingstatus  \n",
       "34                  1  \n",
       "108                 2  \n",
       "290                 2  \n",
       "510                 3  \n",
       "483                 2  "
      ]
     },
     "execution_count": 122,
     "metadata": {},
     "output_type": "execute_result"
    }
   ],
   "source": [
    "# Se revisa la nueva estructura\n",
    "df.sample(5)"
   ]
  },
  {
   "cell_type": "code",
   "execution_count": 123,
   "metadata": {},
   "outputs": [
    {
     "name": "stdout",
     "output_type": "stream",
     "text": [
      "<class 'pandas.core.frame.DataFrame'>\n",
      "RangeIndex: 545 entries, 0 to 544\n",
      "Data columns (total 13 columns):\n",
      " #   Column            Non-Null Count  Dtype\n",
      "---  ------            --------------  -----\n",
      " 0   price             545 non-null    int64\n",
      " 1   area              545 non-null    int64\n",
      " 2   bedrooms          545 non-null    int64\n",
      " 3   bathrooms         545 non-null    int64\n",
      " 4   stories           545 non-null    int64\n",
      " 5   mainroad          545 non-null    int64\n",
      " 6   guestroom         545 non-null    int64\n",
      " 7   basement          545 non-null    int64\n",
      " 8   hotwaterheating   545 non-null    int64\n",
      " 9   airconditioning   545 non-null    int64\n",
      " 10  parking           545 non-null    int64\n",
      " 11  prefarea          545 non-null    int64\n",
      " 12  furnishingstatus  545 non-null    int64\n",
      "dtypes: int64(13)\n",
      "memory usage: 55.5 KB\n"
     ]
    }
   ],
   "source": [
    "df.info()"
   ]
  },
  {
   "cell_type": "code",
   "execution_count": 124,
   "metadata": {},
   "outputs": [
    {
     "data": {
      "image/png": "[encoded data removed]",
      "text/plain": [
       "<Figure size 1800x1600 with 16 Axes>"
      ]
     },
     "metadata": {},
     "output_type": "display_data"
    }
   ],
   "source": [
    "# Grafico exploratorio de todas las columnas \n",
    "cols_num=df.columns.to_list()\n",
    "\n",
    "fig, axes = plt.subplots(nrows=4,ncols=4, figsize=(18,16))\n",
    "for i, column in enumerate(cols_num):\n",
    "    sns.histplot(df[column],ax=axes[i//4,i%4],kde=False)"
   ]
  },
  {
   "attachments": {},
   "cell_type": "markdown",
   "metadata": {},
   "source": [
    "## Analisis Correlacion / Bivariado"
   ]
  },
  {
   "cell_type": "code",
   "execution_count": 125,
   "metadata": {},
   "outputs": [
    {
     "data": {
      "image/png": "[encoded data removed]",
      "text/plain": [
       "<Figure size 2200x800 with 2 Axes>"
      ]
     },
     "metadata": {},
     "output_type": "display_data"
    }
   ],
   "source": [
    "# Grafica de Correlacion\n",
    "plt.figure(figsize=(22,8))\n",
    "corr_df = corr= df.corr(method='pearson')\n",
    "df_lt=corr_df.where(np.tril(np.ones(corr_df.shape)).astype(bool))\n",
    "hmap=sns.heatmap(df_lt, cmap='YlGnBu',annot=True)"
   ]
  },
  {
   "attachments": {},
   "cell_type": "markdown",
   "metadata": {},
   "source": [
    "### Insights\n",
    "- No se encuentra una correlación significativa entre las variables independientes. Por lo cual no es necesario eliminar ninguna de ellas."
   ]
  },
  {
   "attachments": {},
   "cell_type": "markdown",
   "metadata": {},
   "source": [
    "### Balance de clases"
   ]
  },
  {
   "cell_type": "code",
   "execution_count": 126,
   "metadata": {},
   "outputs": [
    {
     "data": {
      "text/plain": [
       "['bedrooms',\n",
       " 'bathrooms',\n",
       " 'stories',\n",
       " 'mainroad',\n",
       " 'guestroom',\n",
       " 'basement',\n",
       " 'hotwaterheating',\n",
       " 'airconditioning',\n",
       " 'parking',\n",
       " 'prefarea',\n",
       " 'furnishingstatus']"
      ]
     },
     "execution_count": 126,
     "metadata": {},
     "output_type": "execute_result"
    }
   ],
   "source": [
    "columns= df.columns.to_list()\n",
    "categ_columns = [column for column in columns if (column != 'area') & (column !='price')]\n",
    "categ_columns"
   ]
  },
  {
   "cell_type": "code",
   "execution_count": 127,
   "metadata": {},
   "outputs": [
    {
     "name": "stdout",
     "output_type": "stream",
     "text": [
      "\n",
      "bedrooms\n",
      "   bedrooms  total  percent\n",
      "0         1      2    0.367\n",
      "1         2    136   24.954\n",
      "2         3    300   55.046\n",
      "3         4     95   17.431\n",
      "4         5     10    1.835\n",
      "5         6      2    0.367\n",
      "\n",
      "bathrooms\n",
      "   bathrooms  total  percent\n",
      "0          1    401   73.578\n",
      "1          2    133   24.404\n",
      "2          3     10    1.835\n",
      "3          4      1    0.183\n",
      "\n",
      "stories\n",
      "   stories  total  percent\n",
      "0        1    227   41.651\n",
      "1        2    238   43.670\n",
      "2        3     39    7.156\n",
      "3        4     41    7.523\n",
      "\n",
      "mainroad\n",
      "   mainroad  total  percent\n",
      "0         0     77   14.128\n",
      "1         1    468   85.872\n",
      "\n",
      "guestroom\n",
      "   guestroom  total  percent\n",
      "0          0    448   82.202\n",
      "1          1     97   17.798\n",
      "\n",
      "basement\n",
      "   basement  total  percent\n",
      "0         0    354   64.954\n",
      "1         1    191   35.046\n",
      "\n",
      "hotwaterheating\n",
      "   hotwaterheating  total  percent\n",
      "0                0    520   95.413\n",
      "1                1     25    4.587\n",
      "\n",
      "airconditioning\n",
      "   airconditioning  total  percent\n",
      "0                0    373   68.440\n",
      "1                1    172   31.560\n",
      "\n",
      "parking\n",
      "   parking  total  percent\n",
      "0        0    299   54.862\n",
      "1        1    126   23.119\n",
      "2        2    108   19.817\n",
      "3        3     12    2.202\n",
      "\n",
      "prefarea\n",
      "   prefarea  total  percent\n",
      "0         0    417   76.514\n",
      "1         1    128   23.486\n",
      "\n",
      "furnishingstatus\n",
      "   furnishingstatus  total  percent\n",
      "0                 1    140   25.688\n",
      "1                 2    227   41.651\n",
      "2                 3    178   32.661\n"
     ]
    }
   ],
   "source": [
    "for column in categ_columns:\n",
    "    helper = df.groupby(column)[column].count().rename('total').reset_index()\n",
    "\n",
    "    helper['percent']=(helper['total']/helper['total'].sum())*100\n",
    "    print('\\n' + column)\n",
    "    print(helper)"
   ]
  },
  {
   "attachments": {},
   "cell_type": "markdown",
   "metadata": {},
   "source": [
    "#### Parking\n",
    "\n",
    "    - cambio los valores de '3' por '2' asi la opcion 2 se entiende como + de 1 parking"
   ]
  },
  {
   "cell_type": "code",
   "execution_count": 128,
   "metadata": {},
   "outputs": [],
   "source": [
    "df['parking'].replace({3:2},inplace=True)"
   ]
  },
  {
   "attachments": {},
   "cell_type": "markdown",
   "metadata": {},
   "source": [
    "#### Bathrooms\n",
    "    - cambio los valores de '3' y '4' por '2' asi la opcion 2 se entiende como + de 1 banos"
   ]
  },
  {
   "cell_type": "code",
   "execution_count": 129,
   "metadata": {},
   "outputs": [],
   "source": [
    "df['bathrooms'].replace({3:2,4:2},inplace=True)"
   ]
  },
  {
   "attachments": {},
   "cell_type": "markdown",
   "metadata": {},
   "source": [
    "#### Bedrooms\n",
    "    - cambio los valores de '5' y '6' por '4' asi la opcion 4 se entiende como + de 3 banos\n",
    "    - elimino los valores de '1' bedroom"
   ]
  },
  {
   "cell_type": "code",
   "execution_count": 130,
   "metadata": {},
   "outputs": [],
   "source": [
    "df['bedrooms'].replace({5:4,6:4},inplace=True)\n",
    "\n",
    "df.drop(df[df['bedrooms']==1].index,inplace=True)"
   ]
  },
  {
   "cell_type": "code",
   "execution_count": 131,
   "metadata": {},
   "outputs": [
    {
     "name": "stdout",
     "output_type": "stream",
     "text": [
      "\n",
      "bedrooms\n",
      "   bedrooms  total  percent\n",
      "0         2    136   25.046\n",
      "1         3    300   55.249\n",
      "2         4    107   19.705\n",
      "\n",
      "bathrooms\n",
      "   bathrooms  total  percent\n",
      "0          1    399   73.481\n",
      "1          2    144   26.519\n",
      "\n",
      "stories\n",
      "   stories  total  percent\n",
      "0        1    225   41.436\n",
      "1        2    238   43.831\n",
      "2        3     39    7.182\n",
      "3        4     41    7.551\n",
      "\n",
      "mainroad\n",
      "   mainroad  total  percent\n",
      "0         0     76   13.996\n",
      "1         1    467   86.004\n",
      "\n",
      "guestroom\n",
      "   guestroom  total  percent\n",
      "0          0    446   82.136\n",
      "1          1     97   17.864\n",
      "\n",
      "basement\n",
      "   basement  total  percent\n",
      "0         0    352   64.825\n",
      "1         1    191   35.175\n",
      "\n",
      "hotwaterheating\n",
      "   hotwaterheating  total  percent\n",
      "0                0    518   95.396\n",
      "1                1     25    4.604\n",
      "\n",
      "airconditioning\n",
      "   airconditioning  total  percent\n",
      "0                0    371   68.324\n",
      "1                1    172   31.676\n",
      "\n",
      "parking\n",
      "   parking  total  percent\n",
      "0        0    297   54.696\n",
      "1        1    126   23.204\n",
      "2        2    120   22.099\n",
      "\n",
      "prefarea\n",
      "   prefarea  total  percent\n",
      "0         0    415   76.427\n",
      "1         1    128   23.573\n",
      "\n",
      "furnishingstatus\n",
      "   furnishingstatus  total  percent\n",
      "0                 1    139   25.599\n",
      "1                 2    227   41.805\n",
      "2                 3    177   32.597\n"
     ]
    }
   ],
   "source": [
    "for column in categ_columns:\n",
    "    helper = df.groupby(column)[column].count().rename('total').reset_index()\n",
    "\n",
    "    helper['percent']=(helper['total']/helper['total'].sum())*100\n",
    "    print('\\n' + column)\n",
    "    print(helper)"
   ]
  },
  {
   "attachments": {},
   "cell_type": "markdown",
   "metadata": {},
   "source": [
    "### Generación de variables dummy en el set de datos"
   ]
  },
  {
   "cell_type": "code",
   "execution_count": 132,
   "metadata": {},
   "outputs": [
    {
     "data": {
      "text/plain": [
       "price               219\n",
       "area                284\n",
       "bedrooms              3\n",
       "bathrooms             2\n",
       "stories               4\n",
       "mainroad              2\n",
       "guestroom             2\n",
       "basement              2\n",
       "hotwaterheating       2\n",
       "airconditioning       2\n",
       "parking               3\n",
       "prefarea              2\n",
       "furnishingstatus      3\n",
       "dtype: int64"
      ]
     },
     "execution_count": 132,
     "metadata": {},
     "output_type": "execute_result"
    }
   ],
   "source": [
    "df.nunique()"
   ]
  },
  {
   "cell_type": "code",
   "execution_count": 133,
   "metadata": {},
   "outputs": [
    {
     "name": "stdout",
     "output_type": "stream",
     "text": [
      "<class 'pandas.core.frame.DataFrame'>\n",
      "Int64Index: 543 entries, 0 to 544\n",
      "Data columns (total 13 columns):\n",
      " #   Column            Non-Null Count  Dtype   \n",
      "---  ------            --------------  -----   \n",
      " 0   price             543 non-null    int64   \n",
      " 1   area              543 non-null    int64   \n",
      " 2   bedrooms          543 non-null    category\n",
      " 3   bathrooms         543 non-null    category\n",
      " 4   stories           543 non-null    category\n",
      " 5   mainroad          543 non-null    category\n",
      " 6   guestroom         543 non-null    category\n",
      " 7   basement          543 non-null    category\n",
      " 8   hotwaterheating   543 non-null    category\n",
      " 9   airconditioning   543 non-null    category\n",
      " 10  parking           543 non-null    category\n",
      " 11  prefarea          543 non-null    category\n",
      " 12  furnishingstatus  543 non-null    category\n",
      "dtypes: category(11), int64(2)\n",
      "memory usage: 20.0 KB\n"
     ]
    }
   ],
   "source": [
    "for col in categ_columns:\n",
    "    df[col]= df[col].astype('category')\n",
    "\n",
    "df.info()"
   ]
  },
  {
   "cell_type": "code",
   "execution_count": 134,
   "metadata": {},
   "outputs": [
    {
     "data": {
      "text/html": [
       "<div>\n",
       "<style scoped>\n",
       "    .dataframe tbody tr th:only-of-type {\n",
       "        vertical-align: middle;\n",
       "    }\n",
       "\n",
       "    .dataframe tbody tr th {\n",
       "        vertical-align: top;\n",
       "    }\n",
       "\n",
       "    .dataframe thead th {\n",
       "        text-align: right;\n",
       "    }\n",
       "</style>\n",
       "<table border=\"1\" class=\"dataframe\">\n",
       "  <thead>\n",
       "    <tr style=\"text-align: right;\">\n",
       "      <th></th>\n",
       "      <th>price</th>\n",
       "      <th>area</th>\n",
       "      <th>bedrooms_3</th>\n",
       "      <th>bedrooms_4</th>\n",
       "      <th>bathrooms_2</th>\n",
       "      <th>stories_2</th>\n",
       "      <th>stories_3</th>\n",
       "      <th>stories_4</th>\n",
       "      <th>mainroad_1</th>\n",
       "      <th>guestroom_1</th>\n",
       "      <th>basement_1</th>\n",
       "      <th>hotwaterheating_1</th>\n",
       "      <th>airconditioning_1</th>\n",
       "      <th>parking_1</th>\n",
       "      <th>parking_2</th>\n",
       "      <th>prefarea_1</th>\n",
       "      <th>furnishingstatus_2</th>\n",
       "      <th>furnishingstatus_3</th>\n",
       "    </tr>\n",
       "  </thead>\n",
       "  <tbody>\n",
       "    <tr>\n",
       "      <th>83</th>\n",
       "      <td>6580000</td>\n",
       "      <td>6000</td>\n",
       "      <td>1</td>\n",
       "      <td>0</td>\n",
       "      <td>1</td>\n",
       "      <td>0</td>\n",
       "      <td>0</td>\n",
       "      <td>1</td>\n",
       "      <td>1</td>\n",
       "      <td>0</td>\n",
       "      <td>0</td>\n",
       "      <td>0</td>\n",
       "      <td>1</td>\n",
       "      <td>0</td>\n",
       "      <td>0</td>\n",
       "      <td>0</td>\n",
       "      <td>1</td>\n",
       "      <td>0</td>\n",
       "    </tr>\n",
       "    <tr>\n",
       "      <th>315</th>\n",
       "      <td>4095000</td>\n",
       "      <td>5600</td>\n",
       "      <td>0</td>\n",
       "      <td>0</td>\n",
       "      <td>0</td>\n",
       "      <td>0</td>\n",
       "      <td>0</td>\n",
       "      <td>0</td>\n",
       "      <td>1</td>\n",
       "      <td>0</td>\n",
       "      <td>0</td>\n",
       "      <td>0</td>\n",
       "      <td>1</td>\n",
       "      <td>0</td>\n",
       "      <td>0</td>\n",
       "      <td>0</td>\n",
       "      <td>1</td>\n",
       "      <td>0</td>\n",
       "    </tr>\n",
       "    <tr>\n",
       "      <th>437</th>\n",
       "      <td>3290000</td>\n",
       "      <td>5880</td>\n",
       "      <td>1</td>\n",
       "      <td>0</td>\n",
       "      <td>0</td>\n",
       "      <td>0</td>\n",
       "      <td>0</td>\n",
       "      <td>0</td>\n",
       "      <td>1</td>\n",
       "      <td>0</td>\n",
       "      <td>0</td>\n",
       "      <td>0</td>\n",
       "      <td>0</td>\n",
       "      <td>1</td>\n",
       "      <td>0</td>\n",
       "      <td>0</td>\n",
       "      <td>0</td>\n",
       "      <td>1</td>\n",
       "    </tr>\n",
       "    <tr>\n",
       "      <th>393</th>\n",
       "      <td>3500000</td>\n",
       "      <td>7424</td>\n",
       "      <td>1</td>\n",
       "      <td>0</td>\n",
       "      <td>0</td>\n",
       "      <td>0</td>\n",
       "      <td>0</td>\n",
       "      <td>0</td>\n",
       "      <td>0</td>\n",
       "      <td>0</td>\n",
       "      <td>0</td>\n",
       "      <td>0</td>\n",
       "      <td>0</td>\n",
       "      <td>0</td>\n",
       "      <td>0</td>\n",
       "      <td>0</td>\n",
       "      <td>0</td>\n",
       "      <td>1</td>\n",
       "    </tr>\n",
       "    <tr>\n",
       "      <th>247</th>\n",
       "      <td>4550000</td>\n",
       "      <td>8400</td>\n",
       "      <td>0</td>\n",
       "      <td>1</td>\n",
       "      <td>0</td>\n",
       "      <td>0</td>\n",
       "      <td>0</td>\n",
       "      <td>1</td>\n",
       "      <td>1</td>\n",
       "      <td>0</td>\n",
       "      <td>0</td>\n",
       "      <td>0</td>\n",
       "      <td>0</td>\n",
       "      <td>0</td>\n",
       "      <td>1</td>\n",
       "      <td>0</td>\n",
       "      <td>0</td>\n",
       "      <td>1</td>\n",
       "    </tr>\n",
       "  </tbody>\n",
       "</table>\n",
       "</div>"
      ],
      "text/plain": [
       "       price  area  bedrooms_3  bedrooms_4  bathrooms_2  stories_2  stories_3  \\\n",
       "83   6580000  6000           1           0            1          0          0   \n",
       "315  4095000  5600           0           0            0          0          0   \n",
       "437  3290000  5880           1           0            0          0          0   \n",
       "393  3500000  7424           1           0            0          0          0   \n",
       "247  4550000  8400           0           1            0          0          0   \n",
       "\n",
       "     stories_4  mainroad_1  guestroom_1  basement_1  hotwaterheating_1  \\\n",
       "83           1           1            0           0                  0   \n",
       "315          0           1            0           0                  0   \n",
       "437          0           1            0           0                  0   \n",
       "393          0           0            0           0                  0   \n",
       "247          1           1            0           0                  0   \n",
       "\n",
       "     airconditioning_1  parking_1  parking_2  prefarea_1  furnishingstatus_2  \\\n",
       "83                   1          0          0           0                   1   \n",
       "315                  1          0          0           0                   1   \n",
       "437                  0          1          0           0                   0   \n",
       "393                  0          0          0           0                   0   \n",
       "247                  0          0          1           0                   0   \n",
       "\n",
       "     furnishingstatus_3  \n",
       "83                    0  \n",
       "315                   0  \n",
       "437                   1  \n",
       "393                   1  \n",
       "247                   1  "
      ]
     },
     "execution_count": 134,
     "metadata": {},
     "output_type": "execute_result"
    }
   ],
   "source": [
    "df= pd.get_dummies(df,drop_first=True)\n",
    "df.sample(5)"
   ]
  },
  {
   "attachments": {},
   "cell_type": "markdown",
   "metadata": {},
   "source": [
    "### Data split"
   ]
  },
  {
   "cell_type": "code",
   "execution_count": 135,
   "metadata": {},
   "outputs": [],
   "source": [
    "from sklearn.linear_model import LinearRegression\n",
    "from sklearn.model_selection import train_test_split # Libreria para hacer split entre train y test\n",
    "from sklearn.metrics import mean_squared_error\n",
    "\n",
    "# Construccion de los dataframes X e y para la regresion\n",
    "# Variables independientes\n",
    "X = df.drop(['price'],axis=1)\n",
    "# Variables dependientes\n",
    "y=df[['price']]\n",
    "\n",
    "# Divide a los dataframes en 70 y 30\n",
    "X_train, X_test, y_train, y_test= train_test_split(X,y, test_size=0.3, random_state=1)"
   ]
  },
  {
   "attachments": {},
   "cell_type": "markdown",
   "metadata": {},
   "source": [
    "### El modelo de Regresion"
   ]
  },
  {
   "cell_type": "code",
   "execution_count": 136,
   "metadata": {},
   "outputs": [
    {
     "data": {
      "text/html": [
       "<style>#sk-container-id-6 {color: black;background-color: white;}#sk-container-id-6 pre{padding: 0;}#sk-container-id-6 div.sk-toggleable {background-color: white;}#sk-container-id-6 label.sk-toggleable__label {cursor: pointer;display: block;width: 100%;margin-bottom: 0;padding: 0.3em;box-sizing: border-box;text-align: center;}#sk-container-id-6 label.sk-toggleable__label-arrow:before {content: \"▸\";float: left;margin-right: 0.25em;color: #696969;}#sk-container-id-6 label.sk-toggleable__label-arrow:hover:before {color: black;}#sk-container-id-6 div.sk-estimator:hover label.sk-toggleable__label-arrow:before {color: black;}#sk-container-id-6 div.sk-toggleable__content {max-height: 0;max-width: 0;overflow: hidden;text-align: left;background-color: #f0f8ff;}#sk-container-id-6 div.sk-toggleable__content pre {margin: 0.2em;color: black;border-radius: 0.25em;background-color: #f0f8ff;}#sk-container-id-6 input.sk-toggleable__control:checked~div.sk-toggleable__content {max-height: 200px;max-width: 100%;overflow: auto;}#sk-container-id-6 input.sk-toggleable__control:checked~label.sk-toggleable__label-arrow:before {content: \"▾\";}#sk-container-id-6 div.sk-estimator input.sk-toggleable__control:checked~label.sk-toggleable__label {background-color: #d4ebff;}#sk-container-id-6 div.sk-label input.sk-toggleable__control:checked~label.sk-toggleable__label {background-color: #d4ebff;}#sk-container-id-6 input.sk-hidden--visually {border: 0;clip: rect(1px 1px 1px 1px);clip: rect(1px, 1px, 1px, 1px);height: 1px;margin: -1px;overflow: hidden;padding: 0;position: absolute;width: 1px;}#sk-container-id-6 div.sk-estimator {font-family: monospace;background-color: #f0f8ff;border: 1px dotted black;border-radius: 0.25em;box-sizing: border-box;margin-bottom: 0.5em;}#sk-container-id-6 div.sk-estimator:hover {background-color: #d4ebff;}#sk-container-id-6 div.sk-parallel-item::after {content: \"\";width: 100%;border-bottom: 1px solid gray;flex-grow: 1;}#sk-container-id-6 div.sk-label:hover label.sk-toggleable__label {background-color: #d4ebff;}#sk-container-id-6 div.sk-serial::before {content: \"\";position: absolute;border-left: 1px solid gray;box-sizing: border-box;top: 0;bottom: 0;left: 50%;z-index: 0;}#sk-container-id-6 div.sk-serial {display: flex;flex-direction: column;align-items: center;background-color: white;padding-right: 0.2em;padding-left: 0.2em;position: relative;}#sk-container-id-6 div.sk-item {position: relative;z-index: 1;}#sk-container-id-6 div.sk-parallel {display: flex;align-items: stretch;justify-content: center;background-color: white;position: relative;}#sk-container-id-6 div.sk-item::before, #sk-container-id-6 div.sk-parallel-item::before {content: \"\";position: absolute;border-left: 1px solid gray;box-sizing: border-box;top: 0;bottom: 0;left: 50%;z-index: -1;}#sk-container-id-6 div.sk-parallel-item {display: flex;flex-direction: column;z-index: 1;position: relative;background-color: white;}#sk-container-id-6 div.sk-parallel-item:first-child::after {align-self: flex-end;width: 50%;}#sk-container-id-6 div.sk-parallel-item:last-child::after {align-self: flex-start;width: 50%;}#sk-container-id-6 div.sk-parallel-item:only-child::after {width: 0;}#sk-container-id-6 div.sk-dashed-wrapped {border: 1px dashed gray;margin: 0 0.4em 0.5em 0.4em;box-sizing: border-box;padding-bottom: 0.4em;background-color: white;}#sk-container-id-6 div.sk-label label {font-family: monospace;font-weight: bold;display: inline-block;line-height: 1.2em;}#sk-container-id-6 div.sk-label-container {text-align: center;}#sk-container-id-6 div.sk-container {/* jupyter's `normalize.less` sets `[hidden] { display: none; }` but bootstrap.min.css set `[hidden] { display: none !important; }` so we also need the `!important` here to be able to override the default hidden behavior on the sphinx rendered scikit-learn.org. See: https://github.com/scikit-learn/scikit-learn/issues/21755 */display: inline-block !important;position: relative;}#sk-container-id-6 div.sk-text-repr-fallback {display: none;}</style><div id=\"sk-container-id-6\" class=\"sk-top-container\"><div class=\"sk-text-repr-fallback\"><pre>LinearRegression()</pre><b>In a Jupyter environment, please rerun this cell to show the HTML representation or trust the notebook. <br />On GitHub, the HTML representation is unable to render, please try loading this page with nbviewer.org.</b></div><div class=\"sk-container\" hidden><div class=\"sk-item\"><div class=\"sk-estimator sk-toggleable\"><input class=\"sk-toggleable__control sk-hidden--visually\" id=\"sk-estimator-id-6\" type=\"checkbox\" checked><label for=\"sk-estimator-id-6\" class=\"sk-toggleable__label sk-toggleable__label-arrow\">LinearRegression</label><div class=\"sk-toggleable__content\"><pre>LinearRegression()</pre></div></div></div></div></div>"
      ],
      "text/plain": [
       "LinearRegression()"
      ]
     },
     "execution_count": 136,
     "metadata": {},
     "output_type": "execute_result"
    }
   ],
   "source": [
    "# Ejecuta la regresion lineal\n",
    "\n",
    "# Construye el regresor\n",
    "regression_model=LinearRegression()\n",
    "\n",
    "# Genera el fit de la regresion en con funcion fit\n",
    "regression_model.fit(X_train,y_train)"
   ]
  },
  {
   "cell_type": "code",
   "execution_count": 137,
   "metadata": {},
   "outputs": [
    {
     "data": {
      "text/plain": [
       "0.6677872717804468"
      ]
     },
     "execution_count": 137,
     "metadata": {},
     "output_type": "execute_result"
    }
   ],
   "source": [
    "# Obtiene el coeficiente de regresion de entrenamiento (R2)\n",
    "regression_model.score(X_train,y_train)"
   ]
  },
  {
   "cell_type": "code",
   "execution_count": 138,
   "metadata": {},
   "outputs": [
    {
     "data": {
      "text/plain": [
       "0.666227118877776"
      ]
     },
     "execution_count": 138,
     "metadata": {},
     "output_type": "execute_result"
    }
   ],
   "source": [
    "# Coeficiente de regresion de test\n",
    "# Es el R2, o cuanto explica el modelo de la data de test\n",
    "regression_model.score(X_test,y_test)"
   ]
  },
  {
   "attachments": {},
   "cell_type": "markdown",
   "metadata": {},
   "source": [
    "#### Insights\n",
    "\n",
    "- No se precibe una gran diferencia entre el R2 de este modelo de regresion \n",
    "y el del hecho durante la lecion"
   ]
  },
  {
   "attachments": {},
   "cell_type": "markdown",
   "metadata": {},
   "source": [
    "#### Otras medidas del modelo"
   ]
  },
  {
   "cell_type": "code",
   "execution_count": 139,
   "metadata": {},
   "outputs": [],
   "source": [
    "# Otras Medidas de Modelo\n",
    "from sklearn.metrics import mean_absolute_error, mean_squared_error\n",
    "\n",
    "y_pred= regression_model.predict(X_test)\n",
    "# Suma absoluta de las diferencias\n",
    "mae = mean_absolute_error(y_test,y_pred)\n",
    "# Suma absoluta de las diferencias al cuadrado\n",
    "mse = mean_squared_error(y_test, y_pred)\n",
    "# Raiz cuadrada de la suma absoluta de las diferencias al cuadrado\n",
    "rmse = np.sqrt(mse)"
   ]
  },
  {
   "cell_type": "code",
   "execution_count": 140,
   "metadata": {},
   "outputs": [
    {
     "name": "stdout",
     "output_type": "stream",
     "text": [
      "Mean absolute error: 847499.75\n",
      "Mean squared error: 1377413021560.65\n",
      "Root mean squared error: 1173632.40\n"
     ]
    }
   ],
   "source": [
    "print(f'Mean absolute error: {mae:.2f}')\n",
    "print(f'Mean squared error: {mse:.2f}')\n",
    "print(f'Root mean squared error: {rmse:.2f}')"
   ]
  },
  {
   "cell_type": "code",
   "execution_count": 141,
   "metadata": {},
   "outputs": [
    {
     "name": "stdout",
     "output_type": "stream",
     "text": [
      "                            OLS Regression Results                            \n",
      "==============================================================================\n",
      "Dep. Variable:                  price   R-squared:                       0.668\n",
      "Model:                            OLS   Adj. R-squared:                  0.652\n",
      "Method:                 Least Squares   F-statistic:                     42.80\n",
      "Date:                Thu, 30 Mar 2023   Prob (F-statistic):           8.53e-76\n",
      "Time:                        16:49:47   Log-Likelihood:                -5801.5\n",
      "No. Observations:                 380   AIC:                         1.164e+04\n",
      "Df Residuals:                     362   BIC:                         1.171e+04\n",
      "Df Model:                          17                                         \n",
      "Covariance Type:            nonrobust                                         \n",
      "======================================================================================\n",
      "                         coef    std err          t      P>|t|      [0.025      0.975]\n",
      "--------------------------------------------------------------------------------------\n",
      "const               1.578e+06   2.45e+05      6.436      0.000     1.1e+06    2.06e+06\n",
      "area                 254.2440     27.893      9.115      0.000     199.392     309.097\n",
      "bedrooms_3          2.238e+05   1.54e+05      1.452      0.147   -7.94e+04    5.27e+05\n",
      "bedrooms_4          2.669e+05   2.06e+05      1.299      0.195   -1.37e+05    6.71e+05\n",
      "bathrooms_2         9.911e+05   1.39e+05      7.139      0.000    7.18e+05    1.26e+06\n",
      "stories_2           3.762e+05    1.4e+05      2.681      0.008       1e+05    6.52e+05\n",
      "stories_3           8.435e+05   2.58e+05      3.266      0.001    3.36e+05    1.35e+06\n",
      "stories_4           1.575e+06   2.55e+05      6.176      0.000    1.07e+06    2.08e+06\n",
      "mainroad_1          4.643e+05   1.78e+05      2.605      0.010    1.14e+05    8.15e+05\n",
      "guestroom_1         2.657e+05   1.63e+05      1.630      0.104   -5.49e+04    5.86e+05\n",
      "basement_1          4.011e+05   1.32e+05      3.036      0.003    1.41e+05    6.61e+05\n",
      "hotwaterheating_1   1.108e+06   2.72e+05      4.078      0.000    5.74e+05    1.64e+06\n",
      "airconditioning_1   6.868e+05   1.29e+05      5.333      0.000    4.34e+05     9.4e+05\n",
      "parking_1           3.874e+05    1.4e+05      2.772      0.006    1.13e+05    6.62e+05\n",
      "parking_2           5.528e+05   1.49e+05      3.704      0.000    2.59e+05    8.46e+05\n",
      "prefarea_1          5.648e+05   1.43e+05      3.953      0.000    2.84e+05    8.46e+05\n",
      "furnishingstatus_2 -1.344e+04   1.39e+05     -0.097      0.923   -2.87e+05     2.6e+05\n",
      "furnishingstatus_3 -3.222e+05   1.54e+05     -2.094      0.037   -6.25e+05   -1.97e+04\n",
      "==============================================================================\n",
      "Omnibus:                       77.451   Durbin-Watson:                   2.080\n",
      "Prob(Omnibus):                  0.000   Jarque-Bera (JB):              194.943\n",
      "Skew:                           0.989   Prob(JB):                     4.66e-43\n",
      "Kurtosis:                       5.898   Cond. No.                     3.49e+04\n",
      "==============================================================================\n",
      "\n",
      "Notes:\n",
      "[1] Standard Errors assume that the covariance matrix of the errors is correctly specified.\n",
      "[2] The condition number is large, 3.49e+04. This might indicate that there are\n",
      "strong multicollinearity or other numerical problems.\n"
     ]
    }
   ],
   "source": [
    "from sklearn import datasets, linear_model\n",
    "from sklearn.linear_model import LinearRegression\n",
    "import statsmodels.api as sm\n",
    "from scipy import stats\n",
    "\n",
    "X2 = sm.add_constant(X_train)\n",
    "est = sm.OLS(y_train, X2)\n",
    "est2 = est.fit()\n",
    "print(est2.summary())"
   ]
  },
  {
   "attachments": {},
   "cell_type": "markdown",
   "metadata": {},
   "source": [
    "#### Insights\n",
    "\n",
    "- La mayoria de las variables son estadisticamente significativas\n",
    "- Al parecer hay un problema de multicolinearidad con las variables independientes.\n",
    "- Una posible rta es que el numero de banos depende del numero de habitaciones que tiene el\n",
    "apartamento. A mayor numero de habitaciones, mayor numero de banos."
   ]
  },
  {
   "attachments": {},
   "cell_type": "markdown",
   "metadata": {},
   "source": [
    "#### importancia de variables"
   ]
  },
  {
   "cell_type": "code",
   "execution_count": 142,
   "metadata": {},
   "outputs": [
    {
     "name": "stdout",
     "output_type": "stream",
     "text": [
      "Coef area = 254.24400328624608\n",
      "Coef bedrooms_3 = 223805.9089968321\n",
      "Coef bedrooms_4 = 266940.17296603194\n",
      "Coef bathrooms_2 = 991136.0265089186\n",
      "Coef stories_2 = 376192.51984639396\n",
      "Coef stories_3 = 843493.7551981165\n",
      "Coef stories_4 = 1574539.669540347\n",
      "Coef mainroad_1 = 464254.0462820121\n",
      "Coef guestroom_1 = 265720.0627023259\n",
      "Coef basement_1 = 401146.1781159133\n",
      "Coef hotwaterheating_1 = 1108374.242582496\n",
      "Coef airconditioning_1 = 686791.1215761018\n",
      "Coef parking_1 = 387373.1306411324\n",
      "Coef parking_2 = 552796.9471235962\n",
      "Coef prefarea_1 = 564830.1558158637\n",
      "Coef furnishingstatus_2 = -13442.77351442361\n",
      "Coef furnishingstatus_3 = -322240.66035238776\n"
     ]
    }
   ],
   "source": [
    "# Obtiene los coeficientes de la ecuacion\n",
    "for idx, col_name in enumerate(X_train.columns):\n",
    "    print('Coef {} = {}'.format(col_name, regression_model.coef_[0][idx]))"
   ]
  },
  {
   "cell_type": "code",
   "execution_count": 143,
   "metadata": {},
   "outputs": [
    {
     "name": "stderr",
     "output_type": "stream",
     "text": [
      "C:\\Users\\oscah\\AppData\\Local\\Temp\\ipykernel_6040\\2710748712.py:7: FutureWarning: The frame.append method is deprecated and will be removed from pandas in a future version. Use pandas.concat instead.\n",
      "  coeff_data = coeff_data .append({'Coeff': regression_model.intercept_[0],'Var':'Intercept'}, ignore_index=True)\n",
      "C:\\Users\\oscah\\AppData\\Local\\Temp\\ipykernel_6040\\2710748712.py:11: FutureWarning: The frame.append method is deprecated and will be removed from pandas in a future version. Use pandas.concat instead.\n",
      "  coeff_data = coeff_data.append({'Var':col_name,'Coeff':regression_model.coef_[0][idx]}, ignore_index=True)\n",
      "C:\\Users\\oscah\\AppData\\Local\\Temp\\ipykernel_6040\\2710748712.py:11: FutureWarning: The frame.append method is deprecated and will be removed from pandas in a future version. Use pandas.concat instead.\n",
      "  coeff_data = coeff_data.append({'Var':col_name,'Coeff':regression_model.coef_[0][idx]}, ignore_index=True)\n",
      "C:\\Users\\oscah\\AppData\\Local\\Temp\\ipykernel_6040\\2710748712.py:11: FutureWarning: The frame.append method is deprecated and will be removed from pandas in a future version. Use pandas.concat instead.\n",
      "  coeff_data = coeff_data.append({'Var':col_name,'Coeff':regression_model.coef_[0][idx]}, ignore_index=True)\n",
      "C:\\Users\\oscah\\AppData\\Local\\Temp\\ipykernel_6040\\2710748712.py:11: FutureWarning: The frame.append method is deprecated and will be removed from pandas in a future version. Use pandas.concat instead.\n",
      "  coeff_data = coeff_data.append({'Var':col_name,'Coeff':regression_model.coef_[0][idx]}, ignore_index=True)\n",
      "C:\\Users\\oscah\\AppData\\Local\\Temp\\ipykernel_6040\\2710748712.py:11: FutureWarning: The frame.append method is deprecated and will be removed from pandas in a future version. Use pandas.concat instead.\n",
      "  coeff_data = coeff_data.append({'Var':col_name,'Coeff':regression_model.coef_[0][idx]}, ignore_index=True)\n",
      "C:\\Users\\oscah\\AppData\\Local\\Temp\\ipykernel_6040\\2710748712.py:11: FutureWarning: The frame.append method is deprecated and will be removed from pandas in a future version. Use pandas.concat instead.\n",
      "  coeff_data = coeff_data.append({'Var':col_name,'Coeff':regression_model.coef_[0][idx]}, ignore_index=True)\n",
      "C:\\Users\\oscah\\AppData\\Local\\Temp\\ipykernel_6040\\2710748712.py:11: FutureWarning: The frame.append method is deprecated and will be removed from pandas in a future version. Use pandas.concat instead.\n",
      "  coeff_data = coeff_data.append({'Var':col_name,'Coeff':regression_model.coef_[0][idx]}, ignore_index=True)\n",
      "C:\\Users\\oscah\\AppData\\Local\\Temp\\ipykernel_6040\\2710748712.py:11: FutureWarning: The frame.append method is deprecated and will be removed from pandas in a future version. Use pandas.concat instead.\n",
      "  coeff_data = coeff_data.append({'Var':col_name,'Coeff':regression_model.coef_[0][idx]}, ignore_index=True)\n",
      "C:\\Users\\oscah\\AppData\\Local\\Temp\\ipykernel_6040\\2710748712.py:11: FutureWarning: The frame.append method is deprecated and will be removed from pandas in a future version. Use pandas.concat instead.\n",
      "  coeff_data = coeff_data.append({'Var':col_name,'Coeff':regression_model.coef_[0][idx]}, ignore_index=True)\n",
      "C:\\Users\\oscah\\AppData\\Local\\Temp\\ipykernel_6040\\2710748712.py:11: FutureWarning: The frame.append method is deprecated and will be removed from pandas in a future version. Use pandas.concat instead.\n",
      "  coeff_data = coeff_data.append({'Var':col_name,'Coeff':regression_model.coef_[0][idx]}, ignore_index=True)\n",
      "C:\\Users\\oscah\\AppData\\Local\\Temp\\ipykernel_6040\\2710748712.py:11: FutureWarning: The frame.append method is deprecated and will be removed from pandas in a future version. Use pandas.concat instead.\n",
      "  coeff_data = coeff_data.append({'Var':col_name,'Coeff':regression_model.coef_[0][idx]}, ignore_index=True)\n",
      "C:\\Users\\oscah\\AppData\\Local\\Temp\\ipykernel_6040\\2710748712.py:11: FutureWarning: The frame.append method is deprecated and will be removed from pandas in a future version. Use pandas.concat instead.\n",
      "  coeff_data = coeff_data.append({'Var':col_name,'Coeff':regression_model.coef_[0][idx]}, ignore_index=True)\n",
      "C:\\Users\\oscah\\AppData\\Local\\Temp\\ipykernel_6040\\2710748712.py:11: FutureWarning: The frame.append method is deprecated and will be removed from pandas in a future version. Use pandas.concat instead.\n",
      "  coeff_data = coeff_data.append({'Var':col_name,'Coeff':regression_model.coef_[0][idx]}, ignore_index=True)\n",
      "C:\\Users\\oscah\\AppData\\Local\\Temp\\ipykernel_6040\\2710748712.py:11: FutureWarning: The frame.append method is deprecated and will be removed from pandas in a future version. Use pandas.concat instead.\n",
      "  coeff_data = coeff_data.append({'Var':col_name,'Coeff':regression_model.coef_[0][idx]}, ignore_index=True)\n",
      "C:\\Users\\oscah\\AppData\\Local\\Temp\\ipykernel_6040\\2710748712.py:11: FutureWarning: The frame.append method is deprecated and will be removed from pandas in a future version. Use pandas.concat instead.\n",
      "  coeff_data = coeff_data.append({'Var':col_name,'Coeff':regression_model.coef_[0][idx]}, ignore_index=True)\n",
      "C:\\Users\\oscah\\AppData\\Local\\Temp\\ipykernel_6040\\2710748712.py:11: FutureWarning: The frame.append method is deprecated and will be removed from pandas in a future version. Use pandas.concat instead.\n",
      "  coeff_data = coeff_data.append({'Var':col_name,'Coeff':regression_model.coef_[0][idx]}, ignore_index=True)\n",
      "C:\\Users\\oscah\\AppData\\Local\\Temp\\ipykernel_6040\\2710748712.py:11: FutureWarning: The frame.append method is deprecated and will be removed from pandas in a future version. Use pandas.concat instead.\n",
      "  coeff_data = coeff_data.append({'Var':col_name,'Coeff':regression_model.coef_[0][idx]}, ignore_index=True)\n"
     ]
    },
    {
     "data": {
      "text/html": [
       "<div>\n",
       "<style scoped>\n",
       "    .dataframe tbody tr th:only-of-type {\n",
       "        vertical-align: middle;\n",
       "    }\n",
       "\n",
       "    .dataframe tbody tr th {\n",
       "        vertical-align: top;\n",
       "    }\n",
       "\n",
       "    .dataframe thead th {\n",
       "        text-align: right;\n",
       "    }\n",
       "</style>\n",
       "<table border=\"1\" class=\"dataframe\">\n",
       "  <thead>\n",
       "    <tr style=\"text-align: right;\">\n",
       "      <th></th>\n",
       "      <th>Coeff</th>\n",
       "      <th>Var</th>\n",
       "    </tr>\n",
       "  </thead>\n",
       "  <tbody>\n",
       "    <tr>\n",
       "      <th>0</th>\n",
       "      <td>1578427.468</td>\n",
       "      <td>Intercept</td>\n",
       "    </tr>\n",
       "    <tr>\n",
       "      <th>1</th>\n",
       "      <td>254.244</td>\n",
       "      <td>area</td>\n",
       "    </tr>\n",
       "    <tr>\n",
       "      <th>2</th>\n",
       "      <td>223805.909</td>\n",
       "      <td>bedrooms_3</td>\n",
       "    </tr>\n",
       "    <tr>\n",
       "      <th>3</th>\n",
       "      <td>266940.173</td>\n",
       "      <td>bedrooms_4</td>\n",
       "    </tr>\n",
       "    <tr>\n",
       "      <th>4</th>\n",
       "      <td>991136.027</td>\n",
       "      <td>bathrooms_2</td>\n",
       "    </tr>\n",
       "    <tr>\n",
       "      <th>5</th>\n",
       "      <td>376192.520</td>\n",
       "      <td>stories_2</td>\n",
       "    </tr>\n",
       "    <tr>\n",
       "      <th>6</th>\n",
       "      <td>843493.755</td>\n",
       "      <td>stories_3</td>\n",
       "    </tr>\n",
       "    <tr>\n",
       "      <th>7</th>\n",
       "      <td>1574539.670</td>\n",
       "      <td>stories_4</td>\n",
       "    </tr>\n",
       "    <tr>\n",
       "      <th>8</th>\n",
       "      <td>464254.046</td>\n",
       "      <td>mainroad_1</td>\n",
       "    </tr>\n",
       "    <tr>\n",
       "      <th>9</th>\n",
       "      <td>265720.063</td>\n",
       "      <td>guestroom_1</td>\n",
       "    </tr>\n",
       "    <tr>\n",
       "      <th>10</th>\n",
       "      <td>401146.178</td>\n",
       "      <td>basement_1</td>\n",
       "    </tr>\n",
       "    <tr>\n",
       "      <th>11</th>\n",
       "      <td>1108374.243</td>\n",
       "      <td>hotwaterheating_1</td>\n",
       "    </tr>\n",
       "    <tr>\n",
       "      <th>12</th>\n",
       "      <td>686791.122</td>\n",
       "      <td>airconditioning_1</td>\n",
       "    </tr>\n",
       "    <tr>\n",
       "      <th>13</th>\n",
       "      <td>387373.131</td>\n",
       "      <td>parking_1</td>\n",
       "    </tr>\n",
       "    <tr>\n",
       "      <th>14</th>\n",
       "      <td>552796.947</td>\n",
       "      <td>parking_2</td>\n",
       "    </tr>\n",
       "    <tr>\n",
       "      <th>15</th>\n",
       "      <td>564830.156</td>\n",
       "      <td>prefarea_1</td>\n",
       "    </tr>\n",
       "    <tr>\n",
       "      <th>16</th>\n",
       "      <td>-13442.774</td>\n",
       "      <td>furnishingstatus_2</td>\n",
       "    </tr>\n",
       "    <tr>\n",
       "      <th>17</th>\n",
       "      <td>-322240.660</td>\n",
       "      <td>furnishingstatus_3</td>\n",
       "    </tr>\n",
       "  </tbody>\n",
       "</table>\n",
       "</div>"
      ],
      "text/plain": [
       "         Coeff                 Var\n",
       "0  1578427.468           Intercept\n",
       "1      254.244                area\n",
       "2   223805.909          bedrooms_3\n",
       "3   266940.173          bedrooms_4\n",
       "4   991136.027         bathrooms_2\n",
       "5   376192.520           stories_2\n",
       "6   843493.755           stories_3\n",
       "7  1574539.670           stories_4\n",
       "8   464254.046          mainroad_1\n",
       "9   265720.063         guestroom_1\n",
       "10  401146.178          basement_1\n",
       "11 1108374.243   hotwaterheating_1\n",
       "12  686791.122   airconditioning_1\n",
       "13  387373.131           parking_1\n",
       "14  552796.947           parking_2\n",
       "15  564830.156          prefarea_1\n",
       "16  -13442.774  furnishingstatus_2\n",
       "17 -322240.660  furnishingstatus_3"
      ]
     },
     "execution_count": 143,
     "metadata": {},
     "output_type": "execute_result"
    }
   ],
   "source": [
    "# Obtiene los coeficientes en un Dataframe\n",
    "# Se usa la funcion enumerate\n",
    "# Tener en cuenta el uso de [0] ya que algunas variables vienen en arrays , para obtener el valor completo\n",
    "coeff_data = pd.DataFrame()\n",
    "\n",
    "#Intercept\n",
    "coeff_data = coeff_data .append({'Coeff': regression_model.intercept_[0],'Var':'Intercept'}, ignore_index=True)\n",
    "\n",
    "# Coeficientes\n",
    "for idx, col_name in enumerate(X_train.columns):\n",
    "    coeff_data = coeff_data.append({'Var':col_name,'Coeff':regression_model.coef_[0][idx]}, ignore_index=True)\n",
    "coeff_data"
   ]
  },
  {
   "attachments": {},
   "cell_type": "markdown",
   "metadata": {},
   "source": [
    "#### Insights\n",
    "\n",
    "- En promedio, un aumento de 1m cuadrado genera un aumento de $254 en el precio de la vivienda.\n",
    "- Los coeficientes que representan una mayor impacto al precio de la vivienda en promedio son:\n",
    "    * Tener agua caliente y,\n",
    "    * Que la vivienda este ubicada en un cuarto piso \n",
    "- Como era de esperarse, el hecho de que la vivienda no este o parcialmente amueblada indica una\n",
    "reduccion en el precio de la vivienda.\n"
   ]
  },
  {
   "attachments": {},
   "cell_type": "markdown",
   "metadata": {},
   "source": [
    "#### predicción de los resultados del modelo"
   ]
  },
  {
   "cell_type": "code",
   "execution_count": 144,
   "metadata": {},
   "outputs": [
    {
     "name": "stdout",
     "output_type": "stream",
     "text": [
      "      Actual   Predicted\n",
      "244  4550000 5213511.664\n",
      "132  5810000 5105398.344\n",
      "385  3570000 2645889.026\n",
      "133  5810000 4694902.856\n",
      "481  2940000 2264886.277\n",
      "..       ...         ...\n",
      "330  3990000 4358017.984\n",
      "542  1750000 2640804.146\n",
      "433  3290000 3480259.650\n",
      "80   6629000 6215278.719\n",
      "46   7525000 7431791.391\n",
      "\n",
      "[163 rows x 2 columns]\n"
     ]
    }
   ],
   "source": [
    "# Comparacion de Prediccion vs Actual\n",
    "\n",
    "df_preds = pd.DataFrame({'Actual':y_test.squeeze(), 'Predicted':y_pred.squeeze()})\n",
    "print(df_preds)"
   ]
  },
  {
   "attachments": {},
   "cell_type": "markdown",
   "metadata": {},
   "source": [
    "#### Visualización de los resultados del modelo de regresión"
   ]
  },
  {
   "cell_type": "code",
   "execution_count": 145,
   "metadata": {},
   "outputs": [
    {
     "data": {
      "text/plain": [
       "Text(0.5, 1.0, 'Comparacion de Prediccion (x) vs Real (y)')"
      ]
     },
     "execution_count": 145,
     "metadata": {},
     "output_type": "execute_result"
    },
    {
     "data": {
      "image/png": "[encoded data removed]",
      "text/plain": [
       "<Figure size 640x480 with 1 Axes>"
      ]
     },
     "metadata": {},
     "output_type": "display_data"
    }
   ],
   "source": [
    "plt.scatter(y_test, y_pred)\n",
    "plt.title('Comparacion de Prediccion (x) vs Real (y)')"
   ]
  },
  {
   "attachments": {},
   "cell_type": "markdown",
   "metadata": {},
   "source": [
    "### Bonus: Regression with standardized coefficients"
   ]
  },
  {
   "cell_type": "code",
   "execution_count": 146,
   "metadata": {},
   "outputs": [
    {
     "data": {
      "text/html": [
       "<div>\n",
       "<style scoped>\n",
       "    .dataframe tbody tr th:only-of-type {\n",
       "        vertical-align: middle;\n",
       "    }\n",
       "\n",
       "    .dataframe tbody tr th {\n",
       "        vertical-align: top;\n",
       "    }\n",
       "\n",
       "    .dataframe thead th {\n",
       "        text-align: right;\n",
       "    }\n",
       "</style>\n",
       "<table border=\"1\" class=\"dataframe\">\n",
       "  <thead>\n",
       "    <tr style=\"text-align: right;\">\n",
       "      <th></th>\n",
       "      <th>price</th>\n",
       "      <th>area</th>\n",
       "      <th>bedrooms_3</th>\n",
       "      <th>bedrooms_4</th>\n",
       "      <th>bathrooms_2</th>\n",
       "      <th>stories_2</th>\n",
       "      <th>stories_3</th>\n",
       "      <th>stories_4</th>\n",
       "      <th>mainroad_1</th>\n",
       "      <th>guestroom_1</th>\n",
       "      <th>basement_1</th>\n",
       "      <th>hotwaterheating_1</th>\n",
       "      <th>airconditioning_1</th>\n",
       "      <th>parking_1</th>\n",
       "      <th>parking_2</th>\n",
       "      <th>prefarea_1</th>\n",
       "      <th>furnishingstatus_2</th>\n",
       "      <th>furnishingstatus_3</th>\n",
       "    </tr>\n",
       "  </thead>\n",
       "  <tbody>\n",
       "    <tr>\n",
       "      <th>520</th>\n",
       "      <td>-1.244</td>\n",
       "      <td>1.172</td>\n",
       "      <td>-1.111</td>\n",
       "      <td>-0.495</td>\n",
       "      <td>-0.601</td>\n",
       "      <td>-0.883</td>\n",
       "      <td>-0.278</td>\n",
       "      <td>-0.286</td>\n",
       "      <td>0.403</td>\n",
       "      <td>-0.466</td>\n",
       "      <td>-0.737</td>\n",
       "      <td>-0.220</td>\n",
       "      <td>-0.681</td>\n",
       "      <td>-0.550</td>\n",
       "      <td>-0.533</td>\n",
       "      <td>-0.555</td>\n",
       "      <td>-0.848</td>\n",
       "      <td>1.438</td>\n",
       "    </tr>\n",
       "    <tr>\n",
       "      <th>243</th>\n",
       "      <td>-0.120</td>\n",
       "      <td>-1.201</td>\n",
       "      <td>0.900</td>\n",
       "      <td>-0.495</td>\n",
       "      <td>-0.601</td>\n",
       "      <td>1.132</td>\n",
       "      <td>-0.278</td>\n",
       "      <td>-0.286</td>\n",
       "      <td>0.403</td>\n",
       "      <td>-0.466</td>\n",
       "      <td>1.358</td>\n",
       "      <td>-0.220</td>\n",
       "      <td>-0.681</td>\n",
       "      <td>-0.550</td>\n",
       "      <td>-0.533</td>\n",
       "      <td>-0.555</td>\n",
       "      <td>-0.848</td>\n",
       "      <td>-0.695</td>\n",
       "    </tr>\n",
       "    <tr>\n",
       "      <th>432</th>\n",
       "      <td>-0.795</td>\n",
       "      <td>0.417</td>\n",
       "      <td>0.900</td>\n",
       "      <td>-0.495</td>\n",
       "      <td>-0.601</td>\n",
       "      <td>-0.883</td>\n",
       "      <td>-0.278</td>\n",
       "      <td>-0.286</td>\n",
       "      <td>0.403</td>\n",
       "      <td>2.144</td>\n",
       "      <td>1.358</td>\n",
       "      <td>-0.220</td>\n",
       "      <td>-0.681</td>\n",
       "      <td>-0.550</td>\n",
       "      <td>-0.533</td>\n",
       "      <td>-0.555</td>\n",
       "      <td>-0.848</td>\n",
       "      <td>-0.695</td>\n",
       "    </tr>\n",
       "    <tr>\n",
       "      <th>401</th>\n",
       "      <td>-0.682</td>\n",
       "      <td>2.002</td>\n",
       "      <td>0.900</td>\n",
       "      <td>-0.495</td>\n",
       "      <td>-0.601</td>\n",
       "      <td>1.132</td>\n",
       "      <td>-0.278</td>\n",
       "      <td>-0.286</td>\n",
       "      <td>0.403</td>\n",
       "      <td>-0.466</td>\n",
       "      <td>-0.737</td>\n",
       "      <td>-0.220</td>\n",
       "      <td>-0.681</td>\n",
       "      <td>-0.550</td>\n",
       "      <td>1.877</td>\n",
       "      <td>1.801</td>\n",
       "      <td>-0.848</td>\n",
       "      <td>1.438</td>\n",
       "    </tr>\n",
       "    <tr>\n",
       "      <th>225</th>\n",
       "      <td>-0.011</td>\n",
       "      <td>0.592</td>\n",
       "      <td>-1.111</td>\n",
       "      <td>-0.495</td>\n",
       "      <td>-0.601</td>\n",
       "      <td>-0.883</td>\n",
       "      <td>-0.278</td>\n",
       "      <td>-0.286</td>\n",
       "      <td>0.403</td>\n",
       "      <td>-0.466</td>\n",
       "      <td>-0.737</td>\n",
       "      <td>-0.220</td>\n",
       "      <td>1.469</td>\n",
       "      <td>-0.550</td>\n",
       "      <td>1.877</td>\n",
       "      <td>-0.555</td>\n",
       "      <td>1.180</td>\n",
       "      <td>-0.695</td>\n",
       "    </tr>\n",
       "  </tbody>\n",
       "</table>\n",
       "</div>"
      ],
      "text/plain": [
       "     price   area  bedrooms_3  bedrooms_4  bathrooms_2  stories_2  stories_3  \\\n",
       "520 -1.244  1.172      -1.111      -0.495       -0.601     -0.883     -0.278   \n",
       "243 -0.120 -1.201       0.900      -0.495       -0.601      1.132     -0.278   \n",
       "432 -0.795  0.417       0.900      -0.495       -0.601     -0.883     -0.278   \n",
       "401 -0.682  2.002       0.900      -0.495       -0.601      1.132     -0.278   \n",
       "225 -0.011  0.592      -1.111      -0.495       -0.601     -0.883     -0.278   \n",
       "\n",
       "     stories_4  mainroad_1  guestroom_1  basement_1  hotwaterheating_1  \\\n",
       "520     -0.286       0.403       -0.466      -0.737             -0.220   \n",
       "243     -0.286       0.403       -0.466       1.358             -0.220   \n",
       "432     -0.286       0.403        2.144       1.358             -0.220   \n",
       "401     -0.286       0.403       -0.466      -0.737             -0.220   \n",
       "225     -0.286       0.403       -0.466      -0.737             -0.220   \n",
       "\n",
       "     airconditioning_1  parking_1  parking_2  prefarea_1  furnishingstatus_2  \\\n",
       "520             -0.681     -0.550     -0.533      -0.555              -0.848   \n",
       "243             -0.681     -0.550     -0.533      -0.555              -0.848   \n",
       "432             -0.681     -0.550     -0.533      -0.555              -0.848   \n",
       "401             -0.681     -0.550      1.877       1.801              -0.848   \n",
       "225              1.469     -0.550      1.877      -0.555               1.180   \n",
       "\n",
       "     furnishingstatus_3  \n",
       "520               1.438  \n",
       "243              -0.695  \n",
       "432              -0.695  \n",
       "401               1.438  \n",
       "225              -0.695  "
      ]
     },
     "execution_count": 146,
     "metadata": {},
     "output_type": "execute_result"
    }
   ],
   "source": [
    "from sklearn.preprocessing import StandardScaler\n",
    "df1=df.copy()\n",
    "columns_df1= df1.columns.to_list()\n",
    "\n",
    "scaler = StandardScaler()\n",
    "for column in columns_df1:\n",
    "    df1[column]=StandardScaler().fit_transform(df1[[column]])\n",
    "\n",
    "df1.sample(5)"
   ]
  },
  {
   "cell_type": "code",
   "execution_count": 147,
   "metadata": {},
   "outputs": [],
   "source": [
    "# Construccion de los dataframes X e y para la regresion\n",
    "# Variables independientes\n",
    "X1 = df1.drop(['price'],axis=1)\n",
    "# Variables dependientes\n",
    "y1=df1[['price']]\n",
    "\n",
    "# Divide a los dataframes en 70 y 30\n",
    "X1_train, X1_test, y1_train, y1_test= train_test_split(X1,y1, test_size=0.3, random_state=1)"
   ]
  },
  {
   "cell_type": "code",
   "execution_count": 148,
   "metadata": {},
   "outputs": [
    {
     "data": {
      "text/html": [
       "<style>#sk-container-id-7 {color: black;background-color: white;}#sk-container-id-7 pre{padding: 0;}#sk-container-id-7 div.sk-toggleable {background-color: white;}#sk-container-id-7 label.sk-toggleable__label {cursor: pointer;display: block;width: 100%;margin-bottom: 0;padding: 0.3em;box-sizing: border-box;text-align: center;}#sk-container-id-7 label.sk-toggleable__label-arrow:before {content: \"▸\";float: left;margin-right: 0.25em;color: #696969;}#sk-container-id-7 label.sk-toggleable__label-arrow:hover:before {color: black;}#sk-container-id-7 div.sk-estimator:hover label.sk-toggleable__label-arrow:before {color: black;}#sk-container-id-7 div.sk-toggleable__content {max-height: 0;max-width: 0;overflow: hidden;text-align: left;background-color: #f0f8ff;}#sk-container-id-7 div.sk-toggleable__content pre {margin: 0.2em;color: black;border-radius: 0.25em;background-color: #f0f8ff;}#sk-container-id-7 input.sk-toggleable__control:checked~div.sk-toggleable__content {max-height: 200px;max-width: 100%;overflow: auto;}#sk-container-id-7 input.sk-toggleable__control:checked~label.sk-toggleable__label-arrow:before {content: \"▾\";}#sk-container-id-7 div.sk-estimator input.sk-toggleable__control:checked~label.sk-toggleable__label {background-color: #d4ebff;}#sk-container-id-7 div.sk-label input.sk-toggleable__control:checked~label.sk-toggleable__label {background-color: #d4ebff;}#sk-container-id-7 input.sk-hidden--visually {border: 0;clip: rect(1px 1px 1px 1px);clip: rect(1px, 1px, 1px, 1px);height: 1px;margin: -1px;overflow: hidden;padding: 0;position: absolute;width: 1px;}#sk-container-id-7 div.sk-estimator {font-family: monospace;background-color: #f0f8ff;border: 1px dotted black;border-radius: 0.25em;box-sizing: border-box;margin-bottom: 0.5em;}#sk-container-id-7 div.sk-estimator:hover {background-color: #d4ebff;}#sk-container-id-7 div.sk-parallel-item::after {content: \"\";width: 100%;border-bottom: 1px solid gray;flex-grow: 1;}#sk-container-id-7 div.sk-label:hover label.sk-toggleable__label {background-color: #d4ebff;}#sk-container-id-7 div.sk-serial::before {content: \"\";position: absolute;border-left: 1px solid gray;box-sizing: border-box;top: 0;bottom: 0;left: 50%;z-index: 0;}#sk-container-id-7 div.sk-serial {display: flex;flex-direction: column;align-items: center;background-color: white;padding-right: 0.2em;padding-left: 0.2em;position: relative;}#sk-container-id-7 div.sk-item {position: relative;z-index: 1;}#sk-container-id-7 div.sk-parallel {display: flex;align-items: stretch;justify-content: center;background-color: white;position: relative;}#sk-container-id-7 div.sk-item::before, #sk-container-id-7 div.sk-parallel-item::before {content: \"\";position: absolute;border-left: 1px solid gray;box-sizing: border-box;top: 0;bottom: 0;left: 50%;z-index: -1;}#sk-container-id-7 div.sk-parallel-item {display: flex;flex-direction: column;z-index: 1;position: relative;background-color: white;}#sk-container-id-7 div.sk-parallel-item:first-child::after {align-self: flex-end;width: 50%;}#sk-container-id-7 div.sk-parallel-item:last-child::after {align-self: flex-start;width: 50%;}#sk-container-id-7 div.sk-parallel-item:only-child::after {width: 0;}#sk-container-id-7 div.sk-dashed-wrapped {border: 1px dashed gray;margin: 0 0.4em 0.5em 0.4em;box-sizing: border-box;padding-bottom: 0.4em;background-color: white;}#sk-container-id-7 div.sk-label label {font-family: monospace;font-weight: bold;display: inline-block;line-height: 1.2em;}#sk-container-id-7 div.sk-label-container {text-align: center;}#sk-container-id-7 div.sk-container {/* jupyter's `normalize.less` sets `[hidden] { display: none; }` but bootstrap.min.css set `[hidden] { display: none !important; }` so we also need the `!important` here to be able to override the default hidden behavior on the sphinx rendered scikit-learn.org. See: https://github.com/scikit-learn/scikit-learn/issues/21755 */display: inline-block !important;position: relative;}#sk-container-id-7 div.sk-text-repr-fallback {display: none;}</style><div id=\"sk-container-id-7\" class=\"sk-top-container\"><div class=\"sk-text-repr-fallback\"><pre>LinearRegression()</pre><b>In a Jupyter environment, please rerun this cell to show the HTML representation or trust the notebook. <br />On GitHub, the HTML representation is unable to render, please try loading this page with nbviewer.org.</b></div><div class=\"sk-container\" hidden><div class=\"sk-item\"><div class=\"sk-estimator sk-toggleable\"><input class=\"sk-toggleable__control sk-hidden--visually\" id=\"sk-estimator-id-7\" type=\"checkbox\" checked><label for=\"sk-estimator-id-7\" class=\"sk-toggleable__label sk-toggleable__label-arrow\">LinearRegression</label><div class=\"sk-toggleable__content\"><pre>LinearRegression()</pre></div></div></div></div></div>"
      ],
      "text/plain": [
       "LinearRegression()"
      ]
     },
     "execution_count": 148,
     "metadata": {},
     "output_type": "execute_result"
    }
   ],
   "source": [
    "# Ejecuta la regresion lineal\n",
    "# Construye el regresor\n",
    "regression_model=LinearRegression()\n",
    "\n",
    "# Genera el fit de la regresion en con funcion fit\n",
    "regression_model.fit(X1_train,y1_train)"
   ]
  },
  {
   "cell_type": "code",
   "execution_count": 149,
   "metadata": {},
   "outputs": [
    {
     "data": {
      "text/plain": [
       "0.667787271780447"
      ]
     },
     "execution_count": 149,
     "metadata": {},
     "output_type": "execute_result"
    }
   ],
   "source": [
    "# Obtiene el coeficiente de regresion de entrenamiento (R2)\n",
    "regression_model.score(X1_train,y1_train)"
   ]
  },
  {
   "cell_type": "code",
   "execution_count": 150,
   "metadata": {},
   "outputs": [
    {
     "data": {
      "text/plain": [
       "0.6662271188777761"
      ]
     },
     "execution_count": 150,
     "metadata": {},
     "output_type": "execute_result"
    }
   ],
   "source": [
    "# Coeficiente de regresion de test\n",
    "# Es el R2, o cuanto explica el modelo de la data de test\n",
    "regression_model.score(X1_test,y1_test)"
   ]
  },
  {
   "cell_type": "code",
   "execution_count": 151,
   "metadata": {},
   "outputs": [
    {
     "name": "stdout",
     "output_type": "stream",
     "text": [
      "                            OLS Regression Results                            \n",
      "==============================================================================\n",
      "Dep. Variable:                  price   R-squared:                       0.668\n",
      "Model:                            OLS   Adj. R-squared:                  0.652\n",
      "Method:                 Least Squares   F-statistic:                     42.80\n",
      "Date:                Thu, 30 Mar 2023   Prob (F-statistic):           8.53e-76\n",
      "Time:                        16:50:50   Log-Likelihood:                -314.25\n",
      "No. Observations:                 380   AIC:                             664.5\n",
      "Df Residuals:                     362   BIC:                             735.4\n",
      "Df Model:                          17                                         \n",
      "Covariance Type:            nonrobust                                         \n",
      "======================================================================================\n",
      "                         coef    std err          t      P>|t|      [0.025      0.975]\n",
      "--------------------------------------------------------------------------------------\n",
      "const                 -0.0057      0.029     -0.194      0.846      -0.063       0.052\n",
      "area                   0.2954      0.032      9.115      0.000       0.232       0.359\n",
      "bedrooms_3             0.0596      0.041      1.452      0.147      -0.021       0.140\n",
      "bedrooms_4             0.0568      0.044      1.299      0.195      -0.029       0.143\n",
      "bathrooms_2            0.2342      0.033      7.139      0.000       0.170       0.299\n",
      "stories_2              0.0999      0.037      2.681      0.008       0.027       0.173\n",
      "stories_3              0.1166      0.036      3.266      0.001       0.046       0.187\n",
      "stories_4              0.2227      0.036      6.176      0.000       0.152       0.294\n",
      "mainroad_1             0.0862      0.033      2.605      0.010       0.021       0.151\n",
      "guestroom_1            0.0545      0.033      1.630      0.104      -0.011       0.120\n",
      "basement_1             0.1026      0.034      3.036      0.003       0.036       0.169\n",
      "hotwaterheating_1      0.1244      0.030      4.078      0.000       0.064       0.184\n",
      "airconditioning_1      0.1711      0.032      5.333      0.000       0.108       0.234\n",
      "parking_1              0.0875      0.032      2.772      0.006       0.025       0.150\n",
      "parking_2              0.1228      0.033      3.704      0.000       0.058       0.188\n",
      "prefarea_1             0.1284      0.032      3.953      0.000       0.065       0.192\n",
      "furnishingstatus_2    -0.0035      0.037     -0.097      0.923      -0.076       0.069\n",
      "furnishingstatus_3    -0.0809      0.039     -2.094      0.037      -0.157      -0.005\n",
      "==============================================================================\n",
      "Omnibus:                       77.451   Durbin-Watson:                   2.080\n",
      "Prob(Omnibus):                  0.000   Jarque-Bera (JB):              194.943\n",
      "Skew:                           0.989   Prob(JB):                     4.66e-43\n",
      "Kurtosis:                       5.898   Cond. No.                         3.33\n",
      "==============================================================================\n",
      "\n",
      "Notes:\n",
      "[1] Standard Errors assume that the covariance matrix of the errors is correctly specified.\n"
     ]
    }
   ],
   "source": [
    "X2 = sm.add_constant(X1_train)\n",
    "est = sm.OLS(y1_train, X2)\n",
    "est2 = est.fit()\n",
    "print(est2.summary())"
   ]
  },
  {
   "cell_type": "code",
   "execution_count": null,
   "metadata": {},
   "outputs": [],
   "source": []
  }
 ],
 "metadata": {
  "kernelspec": {
   "display_name": "analyticscourse",
   "language": "python",
   "name": "python3"
  },
  "language_info": {
   "codemirror_mode": {
    "name": "ipython",
    "version": 3
   },
   "file_extension": ".py",
   "mimetype": "text/x-python",
   "name": "python",
   "nbconvert_exporter": "python",
   "pygments_lexer": "ipython3",
   "version": "3.9.16"
  },
  "orig_nbformat": 4
 },
 "nbformat": 4,
 "nbformat_minor": 2
}

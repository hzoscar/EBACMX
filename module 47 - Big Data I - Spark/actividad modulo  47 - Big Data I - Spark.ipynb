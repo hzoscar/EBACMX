{
 "cells": [
  {
   "cell_type": "markdown",
   "metadata": {},
   "source": [
    "## Actividad modulo 47 - Big Data I - Spark"
   ]
  },
  {
   "cell_type": "markdown",
   "metadata": {},
   "source": [
    "○ Configuración de plataforma Spark"
   ]
  },
  {
   "cell_type": "code",
   "execution_count": 1,
   "metadata": {},
   "outputs": [],
   "source": [
    "# Importar sesion de Spark\n",
    "from pyspark.sql import SparkSession"
   ]
  },
  {
   "cell_type": "code",
   "execution_count": 2,
   "metadata": {},
   "outputs": [],
   "source": [
    "spark = SparkSession \\\n",
    "    .builder \\\n",
    "    .appName(\"actividadmodulo47\")\\\n",
    "    .getOrCreate()"
   ]
  },
  {
   "cell_type": "markdown",
   "metadata": {},
   "source": [
    "○ Importación de datos de Housing a una estructura Spark"
   ]
  },
  {
   "cell_type": "code",
   "execution_count": 3,
   "metadata": {},
   "outputs": [],
   "source": [
    "path_archivo= \"D:/WORK IN PROGRESS/Data Analytics course/parte 7 spark/week 47/Housing.csv\"\n",
    "# Lee el archivo CSV con read.csv\n",
    "# Diferente del read_csv de padnas!\n",
    "df = spark.read.csv(path_archivo)"
   ]
  },
  {
   "cell_type": "code",
   "execution_count": 4,
   "metadata": {},
   "outputs": [
    {
     "name": "stdout",
     "output_type": "stream",
     "text": [
      "+--------+-----+--------+---------+-------+--------+---------+--------+---------------+---------------+-------+--------+----------------+\n",
      "|     _c0|  _c1|     _c2|      _c3|    _c4|     _c5|      _c6|     _c7|            _c8|            _c9|   _c10|    _c11|            _c12|\n",
      "+--------+-----+--------+---------+-------+--------+---------+--------+---------------+---------------+-------+--------+----------------+\n",
      "|   price| area|bedrooms|bathrooms|stories|mainroad|guestroom|basement|hotwaterheating|airconditioning|parking|prefarea|furnishingstatus|\n",
      "|13300000| 7420|       4|        2|      3|     yes|       no|      no|             no|            yes|      2|     yes|       furnished|\n",
      "|12250000| 8960|       4|        4|      4|     yes|       no|      no|             no|            yes|      3|      no|       furnished|\n",
      "|12250000| 9960|       3|        2|      2|     yes|       no|     yes|             no|             no|      2|     yes|  semi-furnished|\n",
      "|12215000| 7500|       4|        2|      2|     yes|       no|     yes|             no|            yes|      3|     yes|       furnished|\n",
      "|11410000| 7420|       4|        1|      2|     yes|      yes|     yes|             no|            yes|      2|      no|       furnished|\n",
      "|10850000| 7500|       3|        3|      1|     yes|       no|     yes|             no|            yes|      2|     yes|  semi-furnished|\n",
      "|10150000| 8580|       4|        3|      4|     yes|       no|      no|             no|            yes|      2|     yes|  semi-furnished|\n",
      "|10150000|16200|       5|        3|      2|     yes|       no|      no|             no|             no|      0|      no|     unfurnished|\n",
      "| 9870000| 8100|       4|        1|      2|     yes|      yes|     yes|             no|            yes|      2|     yes|       furnished|\n",
      "+--------+-----+--------+---------+-------+--------+---------+--------+---------------+---------------+-------+--------+----------------+\n",
      "only showing top 10 rows\n",
      "\n"
     ]
    }
   ],
   "source": [
    "# Muestra las primeras 10 filas del archivo\n",
    "\n",
    "df.show(10)"
   ]
  },
  {
   "cell_type": "code",
   "execution_count": 5,
   "metadata": {},
   "outputs": [],
   "source": [
    "# Los encabezados se estan tomando cmo si fueran datos, hay que usar header\n",
    "df = spark.read.csv(path_archivo, header=True)"
   ]
  },
  {
   "cell_type": "code",
   "execution_count": 6,
   "metadata": {},
   "outputs": [
    {
     "name": "stdout",
     "output_type": "stream",
     "text": [
      "+--------+----+--------+---------+-------+--------+---------+--------+---------------+---------------+-------+--------+----------------+\n",
      "|   price|area|bedrooms|bathrooms|stories|mainroad|guestroom|basement|hotwaterheating|airconditioning|parking|prefarea|furnishingstatus|\n",
      "+--------+----+--------+---------+-------+--------+---------+--------+---------------+---------------+-------+--------+----------------+\n",
      "|13300000|7420|       4|        2|      3|     yes|       no|      no|             no|            yes|      2|     yes|       furnished|\n",
      "|12250000|8960|       4|        4|      4|     yes|       no|      no|             no|            yes|      3|      no|       furnished|\n",
      "|12250000|9960|       3|        2|      2|     yes|       no|     yes|             no|             no|      2|     yes|  semi-furnished|\n",
      "|12215000|7500|       4|        2|      2|     yes|       no|     yes|             no|            yes|      3|     yes|       furnished|\n",
      "|11410000|7420|       4|        1|      2|     yes|      yes|     yes|             no|            yes|      2|      no|       furnished|\n",
      "+--------+----+--------+---------+-------+--------+---------+--------+---------------+---------------+-------+--------+----------------+\n",
      "only showing top 5 rows\n",
      "\n"
     ]
    }
   ],
   "source": [
    "df.show(5)"
   ]
  },
  {
   "cell_type": "code",
   "execution_count": 7,
   "metadata": {},
   "outputs": [
    {
     "data": {
      "text/plain": [
       "[('price', 'string'),\n",
       " ('area', 'string'),\n",
       " ('bedrooms', 'string'),\n",
       " ('bathrooms', 'string'),\n",
       " ('stories', 'string'),\n",
       " ('mainroad', 'string'),\n",
       " ('guestroom', 'string'),\n",
       " ('basement', 'string'),\n",
       " ('hotwaterheating', 'string'),\n",
       " ('airconditioning', 'string'),\n",
       " ('parking', 'string'),\n",
       " ('prefarea', 'string'),\n",
       " ('furnishingstatus', 'string')]"
      ]
     },
     "execution_count": 7,
     "metadata": {},
     "output_type": "execute_result"
    }
   ],
   "source": [
    "df.dtypes"
   ]
  },
  {
   "cell_type": "code",
   "execution_count": 8,
   "metadata": {},
   "outputs": [
    {
     "data": {
      "text/plain": [
       "545"
      ]
     },
     "execution_count": 8,
     "metadata": {},
     "output_type": "execute_result"
    }
   ],
   "source": [
    "# cuenta el numero de lineas\n",
    "df.count()"
   ]
  },
  {
   "cell_type": "code",
   "execution_count": 10,
   "metadata": {},
   "outputs": [],
   "source": [
    "# cambia el tipo de dato de string to floattype\n",
    "\n",
    "from pyspark.sql.types import IntegerType, FloatType\n",
    "\n",
    "df= df.withColumn('price',df.price.cast(IntegerType()))\n",
    "df= df.withColumn('area',df.area.cast(IntegerType()))\n",
    "df= df.withColumn('bedrooms',df.bedrooms.cast(IntegerType()))\n",
    "df= df.withColumn('bathrooms',df.bathrooms.cast(IntegerType()))\n",
    "df= df.withColumn('stories',df.stories.cast(IntegerType()))"
   ]
  },
  {
   "cell_type": "code",
   "execution_count": 11,
   "metadata": {},
   "outputs": [
    {
     "name": "stdout",
     "output_type": "stream",
     "text": [
      "root\n",
      " |-- price: integer (nullable = true)\n",
      " |-- area: integer (nullable = true)\n",
      " |-- bedrooms: integer (nullable = true)\n",
      " |-- bathrooms: integer (nullable = true)\n",
      " |-- stories: integer (nullable = true)\n",
      " |-- mainroad: string (nullable = true)\n",
      " |-- guestroom: string (nullable = true)\n",
      " |-- basement: string (nullable = true)\n",
      " |-- hotwaterheating: string (nullable = true)\n",
      " |-- airconditioning: string (nullable = true)\n",
      " |-- parking: string (nullable = true)\n",
      " |-- prefarea: string (nullable = true)\n",
      " |-- furnishingstatus: string (nullable = true)\n",
      "\n"
     ]
    }
   ],
   "source": [
    "# Imprime la informacion de columnas de una manera jerarquica\n",
    "df.printSchema()"
   ]
  },
  {
   "cell_type": "markdown",
   "metadata": {},
   "source": [
    "○ Selección de datos de housing con filtros simples:"
   ]
  },
  {
   "cell_type": "markdown",
   "metadata": {},
   "source": [
    "1) listado completo de columnas ordenado \n",
    "por price"
   ]
  },
  {
   "cell_type": "code",
   "execution_count": 14,
   "metadata": {},
   "outputs": [
    {
     "name": "stdout",
     "output_type": "stream",
     "text": [
      "+--------+-----+--------+---------+-------+--------+---------+--------+---------------+---------------+-------+--------+----------------+\n",
      "|   price| area|bedrooms|bathrooms|stories|mainroad|guestroom|basement|hotwaterheating|airconditioning|parking|prefarea|furnishingstatus|\n",
      "+--------+-----+--------+---------+-------+--------+---------+--------+---------------+---------------+-------+--------+----------------+\n",
      "|13300000| 7420|       4|        2|      3|     yes|       no|      no|             no|            yes|      2|     yes|       furnished|\n",
      "|12250000| 8960|       4|        4|      4|     yes|       no|      no|             no|            yes|      3|      no|       furnished|\n",
      "|12250000| 9960|       3|        2|      2|     yes|       no|     yes|             no|             no|      2|     yes|  semi-furnished|\n",
      "|12215000| 7500|       4|        2|      2|     yes|       no|     yes|             no|            yes|      3|     yes|       furnished|\n",
      "|11410000| 7420|       4|        1|      2|     yes|      yes|     yes|             no|            yes|      2|      no|       furnished|\n",
      "|10850000| 7500|       3|        3|      1|     yes|       no|     yes|             no|            yes|      2|     yes|  semi-furnished|\n",
      "|10150000| 8580|       4|        3|      4|     yes|       no|      no|             no|            yes|      2|     yes|  semi-furnished|\n",
      "|10150000|16200|       5|        3|      2|     yes|       no|      no|             no|             no|      0|      no|     unfurnished|\n",
      "| 9870000| 8100|       4|        1|      2|     yes|      yes|     yes|             no|            yes|      2|     yes|       furnished|\n",
      "| 9800000| 5750|       3|        2|      4|     yes|      yes|      no|             no|            yes|      1|     yes|     unfurnished|\n",
      "+--------+-----+--------+---------+-------+--------+---------+--------+---------------+---------------+-------+--------+----------------+\n",
      "only showing top 10 rows\n",
      "\n"
     ]
    }
   ],
   "source": [
    "# Se importa el objeto functions en F1 para seleccionar la columna\n",
    "import pyspark.sql.functions as F1\n",
    "\n",
    "# Se ordena por una columna\n",
    "df.sort(F1.col('price').desc()).show(10)"
   ]
  },
  {
   "cell_type": "markdown",
   "metadata": {},
   "source": [
    "2) para las casas con mayor numero de habitaciones, calcular el promedio de precio, y \n",
    "tamaño en m2"
   ]
  },
  {
   "cell_type": "code",
   "execution_count": 29,
   "metadata": {},
   "outputs": [
    {
     "name": "stdout",
     "output_type": "stream",
     "text": [
      "+--------+-----+\n",
      "|bedrooms|count|\n",
      "+--------+-----+\n",
      "|       3|  300|\n",
      "|       2|  136|\n",
      "|       4|   95|\n",
      "|       5|   10|\n",
      "|       1|    2|\n",
      "|       6|    2|\n",
      "+--------+-----+\n",
      "\n"
     ]
    }
   ],
   "source": [
    "from pyspark.sql.functions import desc\n",
    "\n",
    "df.groupBy('bedrooms').count().orderBy(desc(\"count\")).show()\n",
    "\n",
    "# Los apartamentos que tienen el mayor numero de habitaciones son los de 3 habitaciones\n"
   ]
  },
  {
   "cell_type": "code",
   "execution_count": 32,
   "metadata": {},
   "outputs": [
    {
     "name": "stdout",
     "output_type": "stream",
     "text": [
      "+--------+-----------------+---------+\n",
      "|bedrooms|       avg(price)|avg(area)|\n",
      "+--------+-----------------+---------+\n",
      "|       3|4954598.133333334|  5226.62|\n",
      "+--------+-----------------+---------+\n",
      "\n"
     ]
    }
   ],
   "source": [
    "# Tabla temporal\n",
    "df.createOrReplaceTempView(\"apartamentos3habitaciones\")\n",
    "# Comando SQL\n",
    "sql_str = \"select bedrooms, avg(price), avg(area) from apartamentos3habitaciones where bedrooms=3 group by 1\"\n",
    "# Ejecuto SQL\n",
    "spark.sql(sql_str).show()"
   ]
  },
  {
   "cell_type": "markdown",
   "metadata": {},
   "source": [
    "○ Agrupamiento en Spark, por número de habitaciones y baños, del precio. Ej: # habitaciones | # \n",
    "baños | precio promedio, esto por furnishingstatus"
   ]
  },
  {
   "cell_type": "code",
   "execution_count": 45,
   "metadata": {},
   "outputs": [
    {
     "name": "stdout",
     "output_type": "stream",
     "text": [
      "+----------------+-------------------+------------+------------------+\n",
      "|furnishingstatus|numero_habitaciones|numero_banos|   precio_promedio|\n",
      "+----------------+-------------------+------------+------------------+\n",
      "|  semi-furnished|                227|         227|  4907524.22907489|\n",
      "|     unfurnished|                178|         178|4013831.4606741574|\n",
      "|       furnished|                140|         140|         5495696.0|\n",
      "+----------------+-------------------+------------+------------------+\n",
      "\n"
     ]
    }
   ],
   "source": [
    "# Tabla temporal\n",
    "df.createOrReplaceTempView(\"agrupamientos\")\n",
    "# Comando SQL\n",
    "sql_str = \"select furnishingstatus, count(bedrooms) as numero_habitaciones, count(bathrooms) as numero_banos, avg(price) as precio_promedio from agrupamientos group by 1\"\n",
    "# Ejecuto SQL\n",
    "spark.sql(sql_str).show()"
   ]
  }
 ],
 "metadata": {
  "kernelspec": {
   "display_name": "My Spark Environment",
   "language": "python",
   "name": "spark"
  },
  "language_info": {
   "codemirror_mode": {
    "name": "ipython",
    "version": 3
   },
   "file_extension": ".py",
   "mimetype": "text/x-python",
   "name": "python",
   "nbconvert_exporter": "python",
   "pygments_lexer": "ipython3",
   "version": "3.11.4"
  },
  "orig_nbformat": 4
 },
 "nbformat": 4,
 "nbformat_minor": 2
}

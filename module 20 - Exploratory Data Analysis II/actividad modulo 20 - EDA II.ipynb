{
 "cells": [
  {
   "attachments": {},
   "cell_type": "markdown",
   "metadata": {},
   "source": [
    "# Ejercicio Exploratory Data Analysis – Project 2"
   ]
  },
  {
   "attachments": {},
   "cell_type": "markdown",
   "metadata": {},
   "source": [
    "### Lectura del archivo vgsales.csv y uso de librerías pandas, plotly, etc."
   ]
  },
  {
   "cell_type": "code",
   "execution_count": 24,
   "metadata": {},
   "outputs": [],
   "source": [
    "import pandas as pd\n",
    "import numpy as np\n",
    "import os\n",
    "import seaborn as sns\n",
    "import matplotlib.pyplot as plt\n",
    "\n",
    "os.chdir('E:\\WORK IN PROGRESS\\Data Analytics course\\parte 2 python\\week 20')"
   ]
  },
  {
   "attachments": {},
   "cell_type": "markdown",
   "metadata": {},
   "source": [
    "#### I took the databalse from:\n",
    "- https://www.kaggle.com/datasets/pranavkrishna/vgsales"
   ]
  },
  {
   "cell_type": "code",
   "execution_count": 25,
   "metadata": {},
   "outputs": [],
   "source": [
    "df = pd.read_csv('vgsales.csv')"
   ]
  },
  {
   "cell_type": "code",
   "execution_count": 26,
   "metadata": {},
   "outputs": [
    {
     "data": {
      "text/plain": [
       "(16598, 11)"
      ]
     },
     "execution_count": 26,
     "metadata": {},
     "output_type": "execute_result"
    }
   ],
   "source": [
    "df.shape"
   ]
  },
  {
   "cell_type": "code",
   "execution_count": 27,
   "metadata": {},
   "outputs": [
    {
     "data": {
      "text/html": [
       "<div>\n",
       "<style scoped>\n",
       "    .dataframe tbody tr th:only-of-type {\n",
       "        vertical-align: middle;\n",
       "    }\n",
       "\n",
       "    .dataframe tbody tr th {\n",
       "        vertical-align: top;\n",
       "    }\n",
       "\n",
       "    .dataframe thead th {\n",
       "        text-align: right;\n",
       "    }\n",
       "</style>\n",
       "<table border=\"1\" class=\"dataframe\">\n",
       "  <thead>\n",
       "    <tr style=\"text-align: right;\">\n",
       "      <th></th>\n",
       "      <th>Rank</th>\n",
       "      <th>Name</th>\n",
       "      <th>Platform</th>\n",
       "      <th>Year</th>\n",
       "      <th>Genre</th>\n",
       "      <th>Publisher</th>\n",
       "      <th>NA_Sales</th>\n",
       "      <th>EU_Sales</th>\n",
       "      <th>JP_Sales</th>\n",
       "      <th>Other_Sales</th>\n",
       "      <th>Global_Sales</th>\n",
       "    </tr>\n",
       "  </thead>\n",
       "  <tbody>\n",
       "    <tr>\n",
       "      <th>7317</th>\n",
       "      <td>7319</td>\n",
       "      <td>Are You Smarter Than a 5th Grader? Back to School</td>\n",
       "      <td>Wii</td>\n",
       "      <td>2010.0</td>\n",
       "      <td>Misc</td>\n",
       "      <td>Nintendo</td>\n",
       "      <td>0.20</td>\n",
       "      <td>0.00</td>\n",
       "      <td>0.00</td>\n",
       "      <td>0.02</td>\n",
       "      <td>0.21</td>\n",
       "    </tr>\n",
       "    <tr>\n",
       "      <th>9288</th>\n",
       "      <td>9290</td>\n",
       "      <td>MLB 14: The Show</td>\n",
       "      <td>PSV</td>\n",
       "      <td>2014.0</td>\n",
       "      <td>Sports</td>\n",
       "      <td>Sony Computer Entertainment America</td>\n",
       "      <td>0.11</td>\n",
       "      <td>0.00</td>\n",
       "      <td>0.00</td>\n",
       "      <td>0.02</td>\n",
       "      <td>0.14</td>\n",
       "    </tr>\n",
       "    <tr>\n",
       "      <th>6286</th>\n",
       "      <td>6288</td>\n",
       "      <td>Suikoden Tierkreis</td>\n",
       "      <td>DS</td>\n",
       "      <td>2008.0</td>\n",
       "      <td>Role-Playing</td>\n",
       "      <td>Konami Digital Entertainment</td>\n",
       "      <td>0.09</td>\n",
       "      <td>0.01</td>\n",
       "      <td>0.15</td>\n",
       "      <td>0.01</td>\n",
       "      <td>0.27</td>\n",
       "    </tr>\n",
       "    <tr>\n",
       "      <th>546</th>\n",
       "      <td>547</td>\n",
       "      <td>Assassin's Creed IV: Black Flag</td>\n",
       "      <td>PS4</td>\n",
       "      <td>2013.0</td>\n",
       "      <td>Action</td>\n",
       "      <td>Ubisoft</td>\n",
       "      <td>1.07</td>\n",
       "      <td>1.31</td>\n",
       "      <td>0.06</td>\n",
       "      <td>0.31</td>\n",
       "      <td>2.74</td>\n",
       "    </tr>\n",
       "    <tr>\n",
       "      <th>3223</th>\n",
       "      <td>3225</td>\n",
       "      <td>Shin Megami Tensei: Persona 3 FES</td>\n",
       "      <td>PS2</td>\n",
       "      <td>2007.0</td>\n",
       "      <td>Role-Playing</td>\n",
       "      <td>Tecmo Koei</td>\n",
       "      <td>0.22</td>\n",
       "      <td>0.20</td>\n",
       "      <td>0.16</td>\n",
       "      <td>0.05</td>\n",
       "      <td>0.63</td>\n",
       "    </tr>\n",
       "  </tbody>\n",
       "</table>\n",
       "</div>"
      ],
      "text/plain": [
       "      Rank                                               Name Platform  \\\n",
       "7317  7319  Are You Smarter Than a 5th Grader? Back to School      Wii   \n",
       "9288  9290                                   MLB 14: The Show      PSV   \n",
       "6286  6288                                 Suikoden Tierkreis       DS   \n",
       "546    547                    Assassin's Creed IV: Black Flag      PS4   \n",
       "3223  3225                  Shin Megami Tensei: Persona 3 FES      PS2   \n",
       "\n",
       "        Year         Genre                            Publisher  NA_Sales  \\\n",
       "7317  2010.0          Misc                             Nintendo      0.20   \n",
       "9288  2014.0        Sports  Sony Computer Entertainment America      0.11   \n",
       "6286  2008.0  Role-Playing         Konami Digital Entertainment      0.09   \n",
       "546   2013.0        Action                              Ubisoft      1.07   \n",
       "3223  2007.0  Role-Playing                           Tecmo Koei      0.22   \n",
       "\n",
       "      EU_Sales  JP_Sales  Other_Sales  Global_Sales  \n",
       "7317      0.00      0.00         0.02          0.21  \n",
       "9288      0.00      0.00         0.02          0.14  \n",
       "6286      0.01      0.15         0.01          0.27  \n",
       "546       1.31      0.06         0.31          2.74  \n",
       "3223      0.20      0.16         0.05          0.63  "
      ]
     },
     "execution_count": 27,
     "metadata": {},
     "output_type": "execute_result"
    }
   ],
   "source": [
    "df.sample(5)"
   ]
  },
  {
   "attachments": {},
   "cell_type": "markdown",
   "metadata": {},
   "source": [
    "## Preparacion de datos"
   ]
  },
  {
   "cell_type": "code",
   "execution_count": 29,
   "metadata": {},
   "outputs": [
    {
     "data": {
      "text/plain": [
       "Rank              0\n",
       "Name              0\n",
       "Platform          0\n",
       "Year            271\n",
       "Genre             0\n",
       "Publisher        58\n",
       "NA_Sales          0\n",
       "EU_Sales          0\n",
       "JP_Sales          0\n",
       "Other_Sales       0\n",
       "Global_Sales      0\n",
       "dtype: int64"
      ]
     },
     "execution_count": 29,
     "metadata": {},
     "output_type": "execute_result"
    }
   ],
   "source": [
    "# Verifico si hay valores modulos en el dataset\n",
    "missing_values_count=df.isnull().sum()\n",
    "missing_values_count"
   ]
  },
  {
   "cell_type": "code",
   "execution_count": 30,
   "metadata": {},
   "outputs": [],
   "source": [
    "# Elimina los valores nulos\n",
    "df = df.dropna().reset_index(drop=True)"
   ]
  },
  {
   "cell_type": "code",
   "execution_count": 31,
   "metadata": {},
   "outputs": [
    {
     "data": {
      "text/plain": [
       "Rank            0\n",
       "Name            0\n",
       "Platform        0\n",
       "Year            0\n",
       "Genre           0\n",
       "Publisher       0\n",
       "NA_Sales        0\n",
       "EU_Sales        0\n",
       "JP_Sales        0\n",
       "Other_Sales     0\n",
       "Global_Sales    0\n",
       "dtype: int64"
      ]
     },
     "execution_count": 31,
     "metadata": {},
     "output_type": "execute_result"
    }
   ],
   "source": [
    "# verifico que hayan sido eliminados\n",
    "missing_values_count=df.isnull().sum()\n",
    "missing_values_count"
   ]
  },
  {
   "cell_type": "code",
   "execution_count": 32,
   "metadata": {},
   "outputs": [
    {
     "name": "stdout",
     "output_type": "stream",
     "text": [
      "<class 'pandas.core.frame.DataFrame'>\n",
      "RangeIndex: 16291 entries, 0 to 16290\n",
      "Data columns (total 11 columns):\n",
      " #   Column        Non-Null Count  Dtype  \n",
      "---  ------        --------------  -----  \n",
      " 0   Rank          16291 non-null  int64  \n",
      " 1   Name          16291 non-null  object \n",
      " 2   Platform      16291 non-null  object \n",
      " 3   Year          16291 non-null  float64\n",
      " 4   Genre         16291 non-null  object \n",
      " 5   Publisher     16291 non-null  object \n",
      " 6   NA_Sales      16291 non-null  float64\n",
      " 7   EU_Sales      16291 non-null  float64\n",
      " 8   JP_Sales      16291 non-null  float64\n",
      " 9   Other_Sales   16291 non-null  float64\n",
      " 10  Global_Sales  16291 non-null  float64\n",
      "dtypes: float64(6), int64(1), object(4)\n",
      "memory usage: 1.4+ MB\n"
     ]
    }
   ],
   "source": [
    "df.info()"
   ]
  },
  {
   "cell_type": "code",
   "execution_count": 33,
   "metadata": {},
   "outputs": [],
   "source": [
    "# Cambio el tipo de datos para la columna \"Year\".\n",
    "df['Year']= df['Year'].astype('int64')"
   ]
  },
  {
   "cell_type": "code",
   "execution_count": 37,
   "metadata": {},
   "outputs": [
    {
     "data": {
      "text/plain": [
       "Year\n",
       "1980       9\n",
       "1981      46\n",
       "1982      36\n",
       "1983      17\n",
       "1984      14\n",
       "1985      14\n",
       "1986      21\n",
       "1987      16\n",
       "1988      15\n",
       "1989      17\n",
       "1990      16\n",
       "1991      41\n",
       "1992      43\n",
       "1993      60\n",
       "1994     121\n",
       "1995     219\n",
       "1996     263\n",
       "1997     289\n",
       "1998     379\n",
       "1999     338\n",
       "2000     349\n",
       "2001     482\n",
       "2002     829\n",
       "2003     775\n",
       "2004     744\n",
       "2005     936\n",
       "2006    1008\n",
       "2007    1201\n",
       "2008    1428\n",
       "2009    1431\n",
       "2010    1257\n",
       "2011    1136\n",
       "2012     655\n",
       "2013     546\n",
       "2014     580\n",
       "2015     614\n",
       "2016     342\n",
       "2017       3\n",
       "2020       1\n",
       "dtype: int64"
      ]
     },
     "execution_count": 37,
     "metadata": {},
     "output_type": "execute_result"
    }
   ],
   "source": [
    "# Agrupando los datos por año me doy cuenta que para los \n",
    "# 2 ultimos años del dataset no hay bastante datos\n",
    "# 3 para el 2017 y 1 para el 2020. Por tal motivo, prefiero\n",
    "# cancelarlos del data set antes que continuar a hacer un\n",
    "# analisis precario. \n",
    "df.groupby('Year').size()"
   ]
  },
  {
   "cell_type": "code",
   "execution_count": 38,
   "metadata": {},
   "outputs": [
    {
     "data": {
      "text/html": [
       "<div>\n",
       "<style scoped>\n",
       "    .dataframe tbody tr th:only-of-type {\n",
       "        vertical-align: middle;\n",
       "    }\n",
       "\n",
       "    .dataframe tbody tr th {\n",
       "        vertical-align: top;\n",
       "    }\n",
       "\n",
       "    .dataframe thead th {\n",
       "        text-align: right;\n",
       "    }\n",
       "</style>\n",
       "<table border=\"1\" class=\"dataframe\">\n",
       "  <thead>\n",
       "    <tr style=\"text-align: right;\">\n",
       "      <th></th>\n",
       "      <th>Rank</th>\n",
       "      <th>Name</th>\n",
       "      <th>Platform</th>\n",
       "      <th>Year</th>\n",
       "      <th>Genre</th>\n",
       "      <th>Publisher</th>\n",
       "      <th>NA_Sales</th>\n",
       "      <th>EU_Sales</th>\n",
       "      <th>JP_Sales</th>\n",
       "      <th>Other_Sales</th>\n",
       "      <th>Global_Sales</th>\n",
       "    </tr>\n",
       "  </thead>\n",
       "  <tbody>\n",
       "    <tr>\n",
       "      <th>5860</th>\n",
       "      <td>5959</td>\n",
       "      <td>Imagine: Makeup Artist</td>\n",
       "      <td>DS</td>\n",
       "      <td>2020</td>\n",
       "      <td>Simulation</td>\n",
       "      <td>Ubisoft</td>\n",
       "      <td>0.27</td>\n",
       "      <td>0.0</td>\n",
       "      <td>0.00</td>\n",
       "      <td>0.02</td>\n",
       "      <td>0.29</td>\n",
       "    </tr>\n",
       "    <tr>\n",
       "      <th>14136</th>\n",
       "      <td>14393</td>\n",
       "      <td>Phantasy Star Online 2 Episode 4: Deluxe Package</td>\n",
       "      <td>PS4</td>\n",
       "      <td>2017</td>\n",
       "      <td>Role-Playing</td>\n",
       "      <td>Sega</td>\n",
       "      <td>0.00</td>\n",
       "      <td>0.0</td>\n",
       "      <td>0.03</td>\n",
       "      <td>0.00</td>\n",
       "      <td>0.03</td>\n",
       "    </tr>\n",
       "    <tr>\n",
       "      <th>15944</th>\n",
       "      <td>16244</td>\n",
       "      <td>Phantasy Star Online 2 Episode 4: Deluxe Package</td>\n",
       "      <td>PSV</td>\n",
       "      <td>2017</td>\n",
       "      <td>Role-Playing</td>\n",
       "      <td>Sega</td>\n",
       "      <td>0.00</td>\n",
       "      <td>0.0</td>\n",
       "      <td>0.01</td>\n",
       "      <td>0.00</td>\n",
       "      <td>0.01</td>\n",
       "    </tr>\n",
       "    <tr>\n",
       "      <th>16135</th>\n",
       "      <td>16441</td>\n",
       "      <td>Brothers Conflict: Precious Baby</td>\n",
       "      <td>PSV</td>\n",
       "      <td>2017</td>\n",
       "      <td>Action</td>\n",
       "      <td>Idea Factory</td>\n",
       "      <td>0.00</td>\n",
       "      <td>0.0</td>\n",
       "      <td>0.01</td>\n",
       "      <td>0.00</td>\n",
       "      <td>0.01</td>\n",
       "    </tr>\n",
       "  </tbody>\n",
       "</table>\n",
       "</div>"
      ],
      "text/plain": [
       "        Rank                                              Name Platform  Year  \\\n",
       "5860    5959                            Imagine: Makeup Artist       DS  2020   \n",
       "14136  14393  Phantasy Star Online 2 Episode 4: Deluxe Package      PS4  2017   \n",
       "15944  16244  Phantasy Star Online 2 Episode 4: Deluxe Package      PSV  2017   \n",
       "16135  16441                  Brothers Conflict: Precious Baby      PSV  2017   \n",
       "\n",
       "              Genre     Publisher  NA_Sales  EU_Sales  JP_Sales  Other_Sales  \\\n",
       "5860     Simulation       Ubisoft      0.27       0.0      0.00         0.02   \n",
       "14136  Role-Playing          Sega      0.00       0.0      0.03         0.00   \n",
       "15944  Role-Playing          Sega      0.00       0.0      0.01         0.00   \n",
       "16135        Action  Idea Factory      0.00       0.0      0.01         0.00   \n",
       "\n",
       "       Global_Sales  \n",
       "5860           0.29  \n",
       "14136          0.03  \n",
       "15944          0.01  \n",
       "16135          0.01  "
      ]
     },
     "execution_count": 38,
     "metadata": {},
     "output_type": "execute_result"
    }
   ],
   "source": [
    "# Estas son las filas que tendría que eliminar\n",
    "df.loc[df['Year']>=2017]"
   ]
  },
  {
   "cell_type": "code",
   "execution_count": 39,
   "metadata": {},
   "outputs": [
    {
     "data": {
      "text/plain": [
       "<AxesSubplot: title={'center': 'Ventas globales de video juegos por año'}, xlabel='Año', ylabel='Ventas globales en millones'>"
      ]
     },
     "execution_count": 39,
     "metadata": {},
     "output_type": "execute_result"
    },
    {
     "data": {
      "image/png": "[encoded data removed]",
      "text/plain": [
       "<Figure size 640x480 with 1 Axes>"
      ]
     },
     "metadata": {},
     "output_type": "display_data"
    }
   ],
   "source": [
    "df.loc[df['Year']<2017].groupby('Year').size().plot.bar(xlabel='Año',ylabel='Ventas globales en millones',color='g',title='Ventas globales de video juegos por año')\n",
    "# Gráfico de soporte para la presentación en Power Point."
   ]
  },
  {
   "cell_type": "code",
   "execution_count": 40,
   "metadata": {},
   "outputs": [
    {
     "data": {
      "text/plain": [
       "Year\n",
       "2013    546\n",
       "2014    580\n",
       "2015    614\n",
       "2016    342\n",
       "dtype: int64"
      ]
     },
     "execution_count": 40,
     "metadata": {},
     "output_type": "execute_result"
    }
   ],
   "source": [
    "# Reducir el dataset para los ultimos 4 años.\n",
    "\n",
    "df=df[(df['Year']<2017)&(df['Year']>2012)]\n",
    "\n",
    "df.groupby('Year').size()"
   ]
  },
  {
   "cell_type": "code",
   "execution_count": 41,
   "metadata": {},
   "outputs": [
    {
     "data": {
      "text/plain": [
       "(2082, 11)"
      ]
     },
     "execution_count": 41,
     "metadata": {},
     "output_type": "execute_result"
    }
   ],
   "source": [
    "df.shape"
   ]
  },
  {
   "cell_type": "code",
   "execution_count": 42,
   "metadata": {},
   "outputs": [
    {
     "name": "stdout",
     "output_type": "stream",
     "text": [
      "<class 'pandas.core.frame.DataFrame'>\n",
      "Int64Index: 2082 entries, 16 to 16282\n",
      "Data columns (total 11 columns):\n",
      " #   Column        Non-Null Count  Dtype  \n",
      "---  ------        --------------  -----  \n",
      " 0   Rank          2082 non-null   int64  \n",
      " 1   Name          2082 non-null   object \n",
      " 2   Platform      2082 non-null   object \n",
      " 3   Year          2082 non-null   int64  \n",
      " 4   Genre         2082 non-null   object \n",
      " 5   Publisher     2082 non-null   object \n",
      " 6   NA_Sales      2082 non-null   float64\n",
      " 7   EU_Sales      2082 non-null   float64\n",
      " 8   JP_Sales      2082 non-null   float64\n",
      " 9   Other_Sales   2082 non-null   float64\n",
      " 10  Global_Sales  2082 non-null   float64\n",
      "dtypes: float64(5), int64(2), object(4)\n",
      "memory usage: 195.2+ KB\n"
     ]
    }
   ],
   "source": [
    "df.info()"
   ]
  },
  {
   "cell_type": "code",
   "execution_count": 43,
   "metadata": {},
   "outputs": [
    {
     "data": {
      "text/html": [
       "<div>\n",
       "<style scoped>\n",
       "    .dataframe tbody tr th:only-of-type {\n",
       "        vertical-align: middle;\n",
       "    }\n",
       "\n",
       "    .dataframe tbody tr th {\n",
       "        vertical-align: top;\n",
       "    }\n",
       "\n",
       "    .dataframe thead th {\n",
       "        text-align: right;\n",
       "    }\n",
       "</style>\n",
       "<table border=\"1\" class=\"dataframe\">\n",
       "  <thead>\n",
       "    <tr style=\"text-align: right;\">\n",
       "      <th></th>\n",
       "      <th>Rank</th>\n",
       "      <th>Name</th>\n",
       "      <th>Platform</th>\n",
       "      <th>Year</th>\n",
       "      <th>Genre</th>\n",
       "      <th>Publisher</th>\n",
       "      <th>NA_Sales</th>\n",
       "      <th>EU_Sales</th>\n",
       "      <th>JP_Sales</th>\n",
       "      <th>Other_Sales</th>\n",
       "      <th>Global_Sales</th>\n",
       "    </tr>\n",
       "  </thead>\n",
       "  <tbody>\n",
       "    <tr>\n",
       "      <th>13387</th>\n",
       "      <td>13626</td>\n",
       "      <td>Amagami</td>\n",
       "      <td>PSV</td>\n",
       "      <td>2014</td>\n",
       "      <td>Adventure</td>\n",
       "      <td>Kadokawa Games</td>\n",
       "      <td>0.00</td>\n",
       "      <td>0.00</td>\n",
       "      <td>0.04</td>\n",
       "      <td>0.00</td>\n",
       "      <td>0.04</td>\n",
       "    </tr>\n",
       "    <tr>\n",
       "      <th>1651</th>\n",
       "      <td>1672</td>\n",
       "      <td>Just Dance 2016</td>\n",
       "      <td>Wii</td>\n",
       "      <td>2015</td>\n",
       "      <td>Misc</td>\n",
       "      <td>Ubisoft</td>\n",
       "      <td>0.52</td>\n",
       "      <td>0.59</td>\n",
       "      <td>0.00</td>\n",
       "      <td>0.10</td>\n",
       "      <td>1.20</td>\n",
       "    </tr>\n",
       "    <tr>\n",
       "      <th>10402</th>\n",
       "      <td>10593</td>\n",
       "      <td>Total War: WARHAMMER</td>\n",
       "      <td>PC</td>\n",
       "      <td>2016</td>\n",
       "      <td>Strategy</td>\n",
       "      <td>Sega</td>\n",
       "      <td>0.00</td>\n",
       "      <td>0.10</td>\n",
       "      <td>0.00</td>\n",
       "      <td>0.01</td>\n",
       "      <td>0.10</td>\n",
       "    </tr>\n",
       "    <tr>\n",
       "      <th>12593</th>\n",
       "      <td>12823</td>\n",
       "      <td>Legend of Kay</td>\n",
       "      <td>WiiU</td>\n",
       "      <td>2015</td>\n",
       "      <td>Action</td>\n",
       "      <td>Nordic Games</td>\n",
       "      <td>0.03</td>\n",
       "      <td>0.02</td>\n",
       "      <td>0.00</td>\n",
       "      <td>0.00</td>\n",
       "      <td>0.05</td>\n",
       "    </tr>\n",
       "    <tr>\n",
       "      <th>643</th>\n",
       "      <td>651</td>\n",
       "      <td>Need for Speed (2015)</td>\n",
       "      <td>PS4</td>\n",
       "      <td>2015</td>\n",
       "      <td>Racing</td>\n",
       "      <td>Electronic Arts</td>\n",
       "      <td>0.49</td>\n",
       "      <td>1.49</td>\n",
       "      <td>0.05</td>\n",
       "      <td>0.36</td>\n",
       "      <td>2.39</td>\n",
       "    </tr>\n",
       "  </tbody>\n",
       "</table>\n",
       "</div>"
      ],
      "text/plain": [
       "        Rank                   Name Platform  Year      Genre  \\\n",
       "13387  13626                Amagami      PSV  2014  Adventure   \n",
       "1651    1672        Just Dance 2016      Wii  2015       Misc   \n",
       "10402  10593   Total War: WARHAMMER       PC  2016   Strategy   \n",
       "12593  12823          Legend of Kay     WiiU  2015     Action   \n",
       "643      651  Need for Speed (2015)      PS4  2015     Racing   \n",
       "\n",
       "             Publisher  NA_Sales  EU_Sales  JP_Sales  Other_Sales  \\\n",
       "13387   Kadokawa Games      0.00      0.00      0.04         0.00   \n",
       "1651           Ubisoft      0.52      0.59      0.00         0.10   \n",
       "10402             Sega      0.00      0.10      0.00         0.01   \n",
       "12593     Nordic Games      0.03      0.02      0.00         0.00   \n",
       "643    Electronic Arts      0.49      1.49      0.05         0.36   \n",
       "\n",
       "       Global_Sales  \n",
       "13387          0.04  \n",
       "1651           1.20  \n",
       "10402          0.10  \n",
       "12593          0.05  \n",
       "643            2.39  "
      ]
     },
     "execution_count": 43,
     "metadata": {},
     "output_type": "execute_result"
    }
   ],
   "source": [
    "df.sample(5)"
   ]
  },
  {
   "cell_type": "code",
   "execution_count": 45,
   "metadata": {},
   "outputs": [],
   "source": [
    "pd.options.display.float_format = '{:.2f}'.format\n",
    "\n",
    "# Ahora el dataset esta listo para realizar el correspondiente análisis."
   ]
  },
  {
   "attachments": {},
   "cell_type": "markdown",
   "metadata": {},
   "source": [
    "# Crecimiento"
   ]
  },
  {
   "attachments": {},
   "cell_type": "markdown",
   "metadata": {},
   "source": [
    "### 1) qué género ha tenido el mayor y menor crecimiento"
   ]
  },
  {
   "cell_type": "code",
   "execution_count": 47,
   "metadata": {},
   "outputs": [
    {
     "data": {
      "text/html": [
       "<div>\n",
       "<style scoped>\n",
       "    .dataframe tbody tr th:only-of-type {\n",
       "        vertical-align: middle;\n",
       "    }\n",
       "\n",
       "    .dataframe tbody tr th {\n",
       "        vertical-align: top;\n",
       "    }\n",
       "\n",
       "    .dataframe thead th {\n",
       "        text-align: right;\n",
       "    }\n",
       "</style>\n",
       "<table border=\"1\" class=\"dataframe\">\n",
       "  <thead>\n",
       "    <tr style=\"text-align: right;\">\n",
       "      <th>Genre</th>\n",
       "      <th>Action</th>\n",
       "      <th>Adventure</th>\n",
       "      <th>Fighting</th>\n",
       "      <th>Misc</th>\n",
       "      <th>Platform</th>\n",
       "      <th>Puzzle</th>\n",
       "      <th>Racing</th>\n",
       "      <th>Role-Playing</th>\n",
       "      <th>Shooter</th>\n",
       "      <th>Simulation</th>\n",
       "      <th>Sports</th>\n",
       "      <th>Strategy</th>\n",
       "    </tr>\n",
       "    <tr>\n",
       "      <th>Year</th>\n",
       "      <th></th>\n",
       "      <th></th>\n",
       "      <th></th>\n",
       "      <th></th>\n",
       "      <th></th>\n",
       "      <th></th>\n",
       "      <th></th>\n",
       "      <th></th>\n",
       "      <th></th>\n",
       "      <th></th>\n",
       "      <th></th>\n",
       "      <th></th>\n",
       "    </tr>\n",
       "  </thead>\n",
       "  <tbody>\n",
       "    <tr>\n",
       "      <th>2013</th>\n",
       "      <td>125.22</td>\n",
       "      <td>6.61</td>\n",
       "      <td>7.21</td>\n",
       "      <td>25.65</td>\n",
       "      <td>25.12</td>\n",
       "      <td>0.99</td>\n",
       "      <td>13.04</td>\n",
       "      <td>44.92</td>\n",
       "      <td>62.80</td>\n",
       "      <td>8.67</td>\n",
       "      <td>41.55</td>\n",
       "      <td>6.33</td>\n",
       "    </tr>\n",
       "    <tr>\n",
       "      <th>2014</th>\n",
       "      <td>99.02</td>\n",
       "      <td>6.06</td>\n",
       "      <td>16.15</td>\n",
       "      <td>23.68</td>\n",
       "      <td>8.89</td>\n",
       "      <td>1.49</td>\n",
       "      <td>16.69</td>\n",
       "      <td>45.85</td>\n",
       "      <td>66.00</td>\n",
       "      <td>5.55</td>\n",
       "      <td>46.66</td>\n",
       "      <td>0.99</td>\n",
       "    </tr>\n",
       "    <tr>\n",
       "      <th>2015</th>\n",
       "      <td>70.70</td>\n",
       "      <td>8.03</td>\n",
       "      <td>7.78</td>\n",
       "      <td>11.69</td>\n",
       "      <td>6.05</td>\n",
       "      <td>0.70</td>\n",
       "      <td>7.92</td>\n",
       "      <td>36.44</td>\n",
       "      <td>66.15</td>\n",
       "      <td>5.62</td>\n",
       "      <td>41.54</td>\n",
       "      <td>1.82</td>\n",
       "    </tr>\n",
       "    <tr>\n",
       "      <th>2016</th>\n",
       "      <td>19.90</td>\n",
       "      <td>1.79</td>\n",
       "      <td>3.86</td>\n",
       "      <td>1.17</td>\n",
       "      <td>2.07</td>\n",
       "      <td>NaN</td>\n",
       "      <td>1.64</td>\n",
       "      <td>6.76</td>\n",
       "      <td>18.22</td>\n",
       "      <td>0.39</td>\n",
       "      <td>14.60</td>\n",
       "      <td>0.50</td>\n",
       "    </tr>\n",
       "  </tbody>\n",
       "</table>\n",
       "</div>"
      ],
      "text/plain": [
       "Genre  Action  Adventure  Fighting  Misc  Platform  Puzzle  Racing  \\\n",
       "Year                                                                 \n",
       "2013   125.22       6.61      7.21 25.65     25.12    0.99   13.04   \n",
       "2014    99.02       6.06     16.15 23.68      8.89    1.49   16.69   \n",
       "2015    70.70       8.03      7.78 11.69      6.05    0.70    7.92   \n",
       "2016    19.90       1.79      3.86  1.17      2.07     NaN    1.64   \n",
       "\n",
       "Genre  Role-Playing  Shooter  Simulation  Sports  Strategy  \n",
       "Year                                                        \n",
       "2013          44.92    62.80        8.67   41.55      6.33  \n",
       "2014          45.85    66.00        5.55   46.66      0.99  \n",
       "2015          36.44    66.15        5.62   41.54      1.82  \n",
       "2016           6.76    18.22        0.39   14.60      0.50  "
      ]
     },
     "execution_count": 47,
     "metadata": {},
     "output_type": "execute_result"
    }
   ],
   "source": [
    "df_genre=pd.crosstab(df['Year'],df['Genre'], values=df['Global_Sales'], aggfunc='sum')#, margins=True)\n",
    "df_genre"
   ]
  },
  {
   "cell_type": "code",
   "execution_count": 48,
   "metadata": {},
   "outputs": [
    {
     "data": {
      "text/html": [
       "<div>\n",
       "<style scoped>\n",
       "    .dataframe tbody tr th:only-of-type {\n",
       "        vertical-align: middle;\n",
       "    }\n",
       "\n",
       "    .dataframe tbody tr th {\n",
       "        vertical-align: top;\n",
       "    }\n",
       "\n",
       "    .dataframe thead th {\n",
       "        text-align: right;\n",
       "    }\n",
       "</style>\n",
       "<table border=\"1\" class=\"dataframe\">\n",
       "  <thead>\n",
       "    <tr style=\"text-align: right;\">\n",
       "      <th>Genre</th>\n",
       "      <th>Action</th>\n",
       "      <th>Adventure</th>\n",
       "      <th>Fighting</th>\n",
       "      <th>Misc</th>\n",
       "      <th>Platform</th>\n",
       "      <th>Puzzle</th>\n",
       "      <th>Racing</th>\n",
       "      <th>Role-Playing</th>\n",
       "      <th>Shooter</th>\n",
       "      <th>Simulation</th>\n",
       "      <th>Sports</th>\n",
       "      <th>Strategy</th>\n",
       "    </tr>\n",
       "    <tr>\n",
       "      <th>Year</th>\n",
       "      <th></th>\n",
       "      <th></th>\n",
       "      <th></th>\n",
       "      <th></th>\n",
       "      <th></th>\n",
       "      <th></th>\n",
       "      <th></th>\n",
       "      <th></th>\n",
       "      <th></th>\n",
       "      <th></th>\n",
       "      <th></th>\n",
       "      <th></th>\n",
       "    </tr>\n",
       "  </thead>\n",
       "  <tbody>\n",
       "    <tr>\n",
       "      <th>2013</th>\n",
       "      <td>NaN</td>\n",
       "      <td>NaN</td>\n",
       "      <td>NaN</td>\n",
       "      <td>NaN</td>\n",
       "      <td>NaN</td>\n",
       "      <td>NaN</td>\n",
       "      <td>NaN</td>\n",
       "      <td>NaN</td>\n",
       "      <td>NaN</td>\n",
       "      <td>NaN</td>\n",
       "      <td>NaN</td>\n",
       "      <td>NaN</td>\n",
       "    </tr>\n",
       "    <tr>\n",
       "      <th>2014</th>\n",
       "      <td>-0.21</td>\n",
       "      <td>-0.08</td>\n",
       "      <td>1.24</td>\n",
       "      <td>-0.08</td>\n",
       "      <td>-0.65</td>\n",
       "      <td>0.51</td>\n",
       "      <td>0.28</td>\n",
       "      <td>0.02</td>\n",
       "      <td>0.05</td>\n",
       "      <td>-0.36</td>\n",
       "      <td>0.12</td>\n",
       "      <td>-0.84</td>\n",
       "    </tr>\n",
       "    <tr>\n",
       "      <th>2015</th>\n",
       "      <td>-0.29</td>\n",
       "      <td>0.33</td>\n",
       "      <td>-0.52</td>\n",
       "      <td>-0.51</td>\n",
       "      <td>-0.32</td>\n",
       "      <td>-0.53</td>\n",
       "      <td>-0.53</td>\n",
       "      <td>-0.21</td>\n",
       "      <td>0.00</td>\n",
       "      <td>0.01</td>\n",
       "      <td>-0.11</td>\n",
       "      <td>0.84</td>\n",
       "    </tr>\n",
       "    <tr>\n",
       "      <th>2016</th>\n",
       "      <td>-0.72</td>\n",
       "      <td>-0.78</td>\n",
       "      <td>-0.50</td>\n",
       "      <td>-0.90</td>\n",
       "      <td>-0.66</td>\n",
       "      <td>0.00</td>\n",
       "      <td>-0.79</td>\n",
       "      <td>-0.81</td>\n",
       "      <td>-0.72</td>\n",
       "      <td>-0.93</td>\n",
       "      <td>-0.65</td>\n",
       "      <td>-0.73</td>\n",
       "    </tr>\n",
       "  </tbody>\n",
       "</table>\n",
       "</div>"
      ],
      "text/plain": [
       "Genre  Action  Adventure  Fighting  Misc  Platform  Puzzle  Racing  \\\n",
       "Year                                                                 \n",
       "2013      NaN        NaN       NaN   NaN       NaN     NaN     NaN   \n",
       "2014    -0.21      -0.08      1.24 -0.08     -0.65    0.51    0.28   \n",
       "2015    -0.29       0.33     -0.52 -0.51     -0.32   -0.53   -0.53   \n",
       "2016    -0.72      -0.78     -0.50 -0.90     -0.66    0.00   -0.79   \n",
       "\n",
       "Genre  Role-Playing  Shooter  Simulation  Sports  Strategy  \n",
       "Year                                                        \n",
       "2013            NaN      NaN         NaN     NaN       NaN  \n",
       "2014           0.02     0.05       -0.36    0.12     -0.84  \n",
       "2015          -0.21     0.00        0.01   -0.11      0.84  \n",
       "2016          -0.81    -0.72       -0.93   -0.65     -0.73  "
      ]
     },
     "execution_count": 48,
     "metadata": {},
     "output_type": "execute_result"
    }
   ],
   "source": [
    "df_genrepct=df_genre.pct_change()\n",
    "df_genrepct"
   ]
  },
  {
   "cell_type": "code",
   "execution_count": 49,
   "metadata": {},
   "outputs": [
    {
     "data": {
      "text/html": [
       "<style type=\"text/css\">\n",
       "#T_568d8_row0_col0, #T_568d8_row0_col1, #T_568d8_row0_col2, #T_568d8_row0_col3, #T_568d8_row0_col4, #T_568d8_row0_col5, #T_568d8_row0_col6, #T_568d8_row0_col7, #T_568d8_row0_col8, #T_568d8_row0_col9, #T_568d8_row0_col10, #T_568d8_row0_col11 {\n",
       "  background-color: #000000;\n",
       "  color: #f1f1f1;\n",
       "}\n",
       "#T_568d8_row1_col0, #T_568d8_row1_col2, #T_568d8_row1_col3, #T_568d8_row1_col5, #T_568d8_row1_col6, #T_568d8_row1_col7, #T_568d8_row1_col8, #T_568d8_row1_col10, #T_568d8_row2_col1, #T_568d8_row2_col4, #T_568d8_row2_col9, #T_568d8_row2_col11 {\n",
       "  background-color: #08306b;\n",
       "  color: #f1f1f1;\n",
       "}\n",
       "#T_568d8_row1_col1 {\n",
       "  background-color: #4090c5;\n",
       "  color: #f1f1f1;\n",
       "}\n",
       "#T_568d8_row1_col4 {\n",
       "  background-color: #f1f7fd;\n",
       "  color: #000000;\n",
       "}\n",
       "#T_568d8_row1_col9 {\n",
       "  background-color: #4997c9;\n",
       "  color: #f1f1f1;\n",
       "}\n",
       "#T_568d8_row1_col11, #T_568d8_row2_col2, #T_568d8_row2_col5, #T_568d8_row3_col0, #T_568d8_row3_col1, #T_568d8_row3_col3, #T_568d8_row3_col4, #T_568d8_row3_col6, #T_568d8_row3_col7, #T_568d8_row3_col8, #T_568d8_row3_col9, #T_568d8_row3_col10 {\n",
       "  background-color: #f7fbff;\n",
       "  color: #000000;\n",
       "}\n",
       "#T_568d8_row2_col0 {\n",
       "  background-color: #0d57a1;\n",
       "  color: #f1f1f1;\n",
       "}\n",
       "#T_568d8_row2_col3 {\n",
       "  background-color: #74b3d8;\n",
       "  color: #000000;\n",
       "}\n",
       "#T_568d8_row2_col6 {\n",
       "  background-color: #c7dbef;\n",
       "  color: #000000;\n",
       "}\n",
       "#T_568d8_row2_col7 {\n",
       "  background-color: #2676b8;\n",
       "  color: #f1f1f1;\n",
       "}\n",
       "#T_568d8_row2_col8 {\n",
       "  background-color: #084184;\n",
       "  color: #f1f1f1;\n",
       "}\n",
       "#T_568d8_row2_col10 {\n",
       "  background-color: #2f7fbc;\n",
       "  color: #f1f1f1;\n",
       "}\n",
       "#T_568d8_row3_col2 {\n",
       "  background-color: #f5fafe;\n",
       "  color: #000000;\n",
       "}\n",
       "#T_568d8_row3_col5 {\n",
       "  background-color: #66abd4;\n",
       "  color: #f1f1f1;\n",
       "}\n",
       "#T_568d8_row3_col11 {\n",
       "  background-color: #e9f2fa;\n",
       "  color: #000000;\n",
       "}\n",
       "</style>\n",
       "<table id=\"T_568d8\">\n",
       "  <thead>\n",
       "    <tr>\n",
       "      <th class=\"index_name level0\" >Genre</th>\n",
       "      <th id=\"T_568d8_level0_col0\" class=\"col_heading level0 col0\" >Action</th>\n",
       "      <th id=\"T_568d8_level0_col1\" class=\"col_heading level0 col1\" >Adventure</th>\n",
       "      <th id=\"T_568d8_level0_col2\" class=\"col_heading level0 col2\" >Fighting</th>\n",
       "      <th id=\"T_568d8_level0_col3\" class=\"col_heading level0 col3\" >Misc</th>\n",
       "      <th id=\"T_568d8_level0_col4\" class=\"col_heading level0 col4\" >Platform</th>\n",
       "      <th id=\"T_568d8_level0_col5\" class=\"col_heading level0 col5\" >Puzzle</th>\n",
       "      <th id=\"T_568d8_level0_col6\" class=\"col_heading level0 col6\" >Racing</th>\n",
       "      <th id=\"T_568d8_level0_col7\" class=\"col_heading level0 col7\" >Role-Playing</th>\n",
       "      <th id=\"T_568d8_level0_col8\" class=\"col_heading level0 col8\" >Shooter</th>\n",
       "      <th id=\"T_568d8_level0_col9\" class=\"col_heading level0 col9\" >Simulation</th>\n",
       "      <th id=\"T_568d8_level0_col10\" class=\"col_heading level0 col10\" >Sports</th>\n",
       "      <th id=\"T_568d8_level0_col11\" class=\"col_heading level0 col11\" >Strategy</th>\n",
       "    </tr>\n",
       "    <tr>\n",
       "      <th class=\"index_name level0\" >Year</th>\n",
       "      <th class=\"blank col0\" >&nbsp;</th>\n",
       "      <th class=\"blank col1\" >&nbsp;</th>\n",
       "      <th class=\"blank col2\" >&nbsp;</th>\n",
       "      <th class=\"blank col3\" >&nbsp;</th>\n",
       "      <th class=\"blank col4\" >&nbsp;</th>\n",
       "      <th class=\"blank col5\" >&nbsp;</th>\n",
       "      <th class=\"blank col6\" >&nbsp;</th>\n",
       "      <th class=\"blank col7\" >&nbsp;</th>\n",
       "      <th class=\"blank col8\" >&nbsp;</th>\n",
       "      <th class=\"blank col9\" >&nbsp;</th>\n",
       "      <th class=\"blank col10\" >&nbsp;</th>\n",
       "      <th class=\"blank col11\" >&nbsp;</th>\n",
       "    </tr>\n",
       "  </thead>\n",
       "  <tbody>\n",
       "    <tr>\n",
       "      <th id=\"T_568d8_level0_row0\" class=\"row_heading level0 row0\" >2013</th>\n",
       "      <td id=\"T_568d8_row0_col0\" class=\"data row0 col0\" >nan</td>\n",
       "      <td id=\"T_568d8_row0_col1\" class=\"data row0 col1\" >nan</td>\n",
       "      <td id=\"T_568d8_row0_col2\" class=\"data row0 col2\" >nan</td>\n",
       "      <td id=\"T_568d8_row0_col3\" class=\"data row0 col3\" >nan</td>\n",
       "      <td id=\"T_568d8_row0_col4\" class=\"data row0 col4\" >nan</td>\n",
       "      <td id=\"T_568d8_row0_col5\" class=\"data row0 col5\" >nan</td>\n",
       "      <td id=\"T_568d8_row0_col6\" class=\"data row0 col6\" >nan</td>\n",
       "      <td id=\"T_568d8_row0_col7\" class=\"data row0 col7\" >nan</td>\n",
       "      <td id=\"T_568d8_row0_col8\" class=\"data row0 col8\" >nan</td>\n",
       "      <td id=\"T_568d8_row0_col9\" class=\"data row0 col9\" >nan</td>\n",
       "      <td id=\"T_568d8_row0_col10\" class=\"data row0 col10\" >nan</td>\n",
       "      <td id=\"T_568d8_row0_col11\" class=\"data row0 col11\" >nan</td>\n",
       "    </tr>\n",
       "    <tr>\n",
       "      <th id=\"T_568d8_level0_row1\" class=\"row_heading level0 row1\" >2014</th>\n",
       "      <td id=\"T_568d8_row1_col0\" class=\"data row1 col0\" >-0.209232</td>\n",
       "      <td id=\"T_568d8_row1_col1\" class=\"data row1 col1\" >-0.083207</td>\n",
       "      <td id=\"T_568d8_row1_col2\" class=\"data row1 col2\" >1.239945</td>\n",
       "      <td id=\"T_568d8_row1_col3\" class=\"data row1 col3\" >-0.076803</td>\n",
       "      <td id=\"T_568d8_row1_col4\" class=\"data row1 col4\" >-0.646099</td>\n",
       "      <td id=\"T_568d8_row1_col5\" class=\"data row1 col5\" >0.505051</td>\n",
       "      <td id=\"T_568d8_row1_col6\" class=\"data row1 col6\" >0.279908</td>\n",
       "      <td id=\"T_568d8_row1_col7\" class=\"data row1 col7\" >0.020703</td>\n",
       "      <td id=\"T_568d8_row1_col8\" class=\"data row1 col8\" >0.050955</td>\n",
       "      <td id=\"T_568d8_row1_col9\" class=\"data row1 col9\" >-0.359862</td>\n",
       "      <td id=\"T_568d8_row1_col10\" class=\"data row1 col10\" >0.122984</td>\n",
       "      <td id=\"T_568d8_row1_col11\" class=\"data row1 col11\" >-0.843602</td>\n",
       "    </tr>\n",
       "    <tr>\n",
       "      <th id=\"T_568d8_level0_row2\" class=\"row_heading level0 row2\" >2015</th>\n",
       "      <td id=\"T_568d8_row2_col0\" class=\"data row2 col0\" >-0.286003</td>\n",
       "      <td id=\"T_568d8_row2_col1\" class=\"data row2 col1\" >0.325083</td>\n",
       "      <td id=\"T_568d8_row2_col2\" class=\"data row2 col2\" >-0.518266</td>\n",
       "      <td id=\"T_568d8_row2_col3\" class=\"data row2 col3\" >-0.506334</td>\n",
       "      <td id=\"T_568d8_row2_col4\" class=\"data row2 col4\" >-0.319460</td>\n",
       "      <td id=\"T_568d8_row2_col5\" class=\"data row2 col5\" >-0.530201</td>\n",
       "      <td id=\"T_568d8_row2_col6\" class=\"data row2 col6\" >-0.525464</td>\n",
       "      <td id=\"T_568d8_row2_col7\" class=\"data row2 col7\" >-0.205234</td>\n",
       "      <td id=\"T_568d8_row2_col8\" class=\"data row2 col8\" >0.002273</td>\n",
       "      <td id=\"T_568d8_row2_col9\" class=\"data row2 col9\" >0.012613</td>\n",
       "      <td id=\"T_568d8_row2_col10\" class=\"data row2 col10\" >-0.109730</td>\n",
       "      <td id=\"T_568d8_row2_col11\" class=\"data row2 col11\" >0.838384</td>\n",
       "    </tr>\n",
       "    <tr>\n",
       "      <th id=\"T_568d8_level0_row3\" class=\"row_heading level0 row3\" >2016</th>\n",
       "      <td id=\"T_568d8_row3_col0\" class=\"data row3 col0\" >-0.718529</td>\n",
       "      <td id=\"T_568d8_row3_col1\" class=\"data row3 col1\" >-0.777086</td>\n",
       "      <td id=\"T_568d8_row3_col2\" class=\"data row3 col2\" >-0.503856</td>\n",
       "      <td id=\"T_568d8_row3_col3\" class=\"data row3 col3\" >-0.899914</td>\n",
       "      <td id=\"T_568d8_row3_col4\" class=\"data row3 col4\" >-0.657851</td>\n",
       "      <td id=\"T_568d8_row3_col5\" class=\"data row3 col5\" >0.000000</td>\n",
       "      <td id=\"T_568d8_row3_col6\" class=\"data row3 col6\" >-0.792929</td>\n",
       "      <td id=\"T_568d8_row3_col7\" class=\"data row3 col7\" >-0.814490</td>\n",
       "      <td id=\"T_568d8_row3_col8\" class=\"data row3 col8\" >-0.724565</td>\n",
       "      <td id=\"T_568d8_row3_col9\" class=\"data row3 col9\" >-0.930605</td>\n",
       "      <td id=\"T_568d8_row3_col10\" class=\"data row3 col10\" >-0.648532</td>\n",
       "      <td id=\"T_568d8_row3_col11\" class=\"data row3 col11\" >-0.725275</td>\n",
       "    </tr>\n",
       "  </tbody>\n",
       "</table>\n"
      ],
      "text/plain": [
       "<pandas.io.formats.style.Styler at 0x1dd04e07c10>"
      ]
     },
     "execution_count": 49,
     "metadata": {},
     "output_type": "execute_result"
    }
   ],
   "source": [
    "df_genrepct.style.background_gradient(cmap='Blues')"
   ]
  },
  {
   "cell_type": "code",
   "execution_count": 51,
   "metadata": {},
   "outputs": [
    {
     "data": {
      "text/plain": [
       "Genre\n",
       "Fighting        0.07\n",
       "Puzzle         -0.01\n",
       "Adventure      -0.18\n",
       "Sports         -0.21\n",
       "Shooter        -0.22\n",
       "Strategy       -0.24\n",
       "Role-Playing   -0.33\n",
       "Racing         -0.35\n",
       "Action         -0.40\n",
       "Simulation     -0.43\n",
       "Misc           -0.49\n",
       "Platform       -0.54\n",
       "dtype: float64"
      ]
     },
     "execution_count": 51,
     "metadata": {},
     "output_type": "execute_result"
    }
   ],
   "source": [
    "df_genrepct.mean().sort_values(ascending=False)\n",
    " # En la siguiente tabla se puede apreciar que el unico genero \n",
    " # que tuvo un crecimiento fue 'Fighting' mientras que 'Puzzle \n",
    " # y adventure' tuvieron el menor dececimiento. Por otro lado,\n",
    " # 'Simulation', 'Misc' y 'Platform' fueron los generos con el\n",
    " # la mayor tasas de decrecimiento. "
   ]
  },
  {
   "attachments": {},
   "cell_type": "markdown",
   "metadata": {},
   "source": [
    "### 2) qué plataforma ha tenido el mayor y menor crecimiento"
   ]
  },
  {
   "cell_type": "code",
   "execution_count": 52,
   "metadata": {},
   "outputs": [
    {
     "data": {
      "text/html": [
       "<div>\n",
       "<style scoped>\n",
       "    .dataframe tbody tr th:only-of-type {\n",
       "        vertical-align: middle;\n",
       "    }\n",
       "\n",
       "    .dataframe tbody tr th {\n",
       "        vertical-align: top;\n",
       "    }\n",
       "\n",
       "    .dataframe thead th {\n",
       "        text-align: right;\n",
       "    }\n",
       "</style>\n",
       "<table border=\"1\" class=\"dataframe\">\n",
       "  <thead>\n",
       "    <tr style=\"text-align: right;\">\n",
       "      <th>Platform</th>\n",
       "      <th>3DS</th>\n",
       "      <th>DS</th>\n",
       "      <th>PC</th>\n",
       "      <th>PS3</th>\n",
       "      <th>PS4</th>\n",
       "      <th>PSP</th>\n",
       "      <th>PSV</th>\n",
       "      <th>Wii</th>\n",
       "      <th>WiiU</th>\n",
       "      <th>X360</th>\n",
       "      <th>XOne</th>\n",
       "    </tr>\n",
       "    <tr>\n",
       "      <th>Year</th>\n",
       "      <th></th>\n",
       "      <th></th>\n",
       "      <th></th>\n",
       "      <th></th>\n",
       "      <th></th>\n",
       "      <th></th>\n",
       "      <th></th>\n",
       "      <th></th>\n",
       "      <th></th>\n",
       "      <th></th>\n",
       "      <th></th>\n",
       "    </tr>\n",
       "  </thead>\n",
       "  <tbody>\n",
       "    <tr>\n",
       "      <th>2013</th>\n",
       "      <td>55.88</td>\n",
       "      <td>1.96</td>\n",
       "      <td>12.83</td>\n",
       "      <td>117.39</td>\n",
       "      <td>24.76</td>\n",
       "      <td>3.19</td>\n",
       "      <td>12.69</td>\n",
       "      <td>9.36</td>\n",
       "      <td>21.84</td>\n",
       "      <td>89.61</td>\n",
       "      <td>18.60</td>\n",
       "    </tr>\n",
       "    <tr>\n",
       "      <th>2014</th>\n",
       "      <td>43.13</td>\n",
       "      <td>0.02</td>\n",
       "      <td>13.39</td>\n",
       "      <td>50.96</td>\n",
       "      <td>98.76</td>\n",
       "      <td>0.24</td>\n",
       "      <td>14.74</td>\n",
       "      <td>4.44</td>\n",
       "      <td>22.51</td>\n",
       "      <td>36.41</td>\n",
       "      <td>52.43</td>\n",
       "    </tr>\n",
       "    <tr>\n",
       "      <th>2015</th>\n",
       "      <td>26.99</td>\n",
       "      <td>NaN</td>\n",
       "      <td>8.07</td>\n",
       "      <td>18.22</td>\n",
       "      <td>115.30</td>\n",
       "      <td>0.12</td>\n",
       "      <td>7.10</td>\n",
       "      <td>1.55</td>\n",
       "      <td>16.38</td>\n",
       "      <td>13.05</td>\n",
       "      <td>57.66</td>\n",
       "    </tr>\n",
       "    <tr>\n",
       "      <th>2016</th>\n",
       "      <td>6.60</td>\n",
       "      <td>NaN</td>\n",
       "      <td>2.60</td>\n",
       "      <td>2.59</td>\n",
       "      <td>39.25</td>\n",
       "      <td>NaN</td>\n",
       "      <td>3.37</td>\n",
       "      <td>NaN</td>\n",
       "      <td>3.29</td>\n",
       "      <td>0.83</td>\n",
       "      <td>12.37</td>\n",
       "    </tr>\n",
       "  </tbody>\n",
       "</table>\n",
       "</div>"
      ],
      "text/plain": [
       "Platform   3DS   DS    PC    PS3    PS4  PSP   PSV  Wii  WiiU  X360  XOne\n",
       "Year                                                                     \n",
       "2013     55.88 1.96 12.83 117.39  24.76 3.19 12.69 9.36 21.84 89.61 18.60\n",
       "2014     43.13 0.02 13.39  50.96  98.76 0.24 14.74 4.44 22.51 36.41 52.43\n",
       "2015     26.99  NaN  8.07  18.22 115.30 0.12  7.10 1.55 16.38 13.05 57.66\n",
       "2016      6.60  NaN  2.60   2.59  39.25  NaN  3.37  NaN  3.29  0.83 12.37"
      ]
     },
     "execution_count": 52,
     "metadata": {},
     "output_type": "execute_result"
    }
   ],
   "source": [
    "df_platform=pd.crosstab(df['Year'],df['Platform'], values=df['Global_Sales'], aggfunc='sum')#, margins=True)\n",
    "df_platform"
   ]
  },
  {
   "cell_type": "code",
   "execution_count": 53,
   "metadata": {},
   "outputs": [
    {
     "data": {
      "text/html": [
       "<div>\n",
       "<style scoped>\n",
       "    .dataframe tbody tr th:only-of-type {\n",
       "        vertical-align: middle;\n",
       "    }\n",
       "\n",
       "    .dataframe tbody tr th {\n",
       "        vertical-align: top;\n",
       "    }\n",
       "\n",
       "    .dataframe thead th {\n",
       "        text-align: right;\n",
       "    }\n",
       "</style>\n",
       "<table border=\"1\" class=\"dataframe\">\n",
       "  <thead>\n",
       "    <tr style=\"text-align: right;\">\n",
       "      <th>Platform</th>\n",
       "      <th>3DS</th>\n",
       "      <th>DS</th>\n",
       "      <th>PC</th>\n",
       "      <th>PS3</th>\n",
       "      <th>PS4</th>\n",
       "      <th>PSP</th>\n",
       "      <th>PSV</th>\n",
       "      <th>Wii</th>\n",
       "      <th>WiiU</th>\n",
       "      <th>X360</th>\n",
       "      <th>XOne</th>\n",
       "    </tr>\n",
       "    <tr>\n",
       "      <th>Year</th>\n",
       "      <th></th>\n",
       "      <th></th>\n",
       "      <th></th>\n",
       "      <th></th>\n",
       "      <th></th>\n",
       "      <th></th>\n",
       "      <th></th>\n",
       "      <th></th>\n",
       "      <th></th>\n",
       "      <th></th>\n",
       "      <th></th>\n",
       "    </tr>\n",
       "  </thead>\n",
       "  <tbody>\n",
       "    <tr>\n",
       "      <th>2013</th>\n",
       "      <td>NaN</td>\n",
       "      <td>NaN</td>\n",
       "      <td>NaN</td>\n",
       "      <td>NaN</td>\n",
       "      <td>NaN</td>\n",
       "      <td>NaN</td>\n",
       "      <td>NaN</td>\n",
       "      <td>NaN</td>\n",
       "      <td>NaN</td>\n",
       "      <td>NaN</td>\n",
       "      <td>NaN</td>\n",
       "    </tr>\n",
       "    <tr>\n",
       "      <th>2014</th>\n",
       "      <td>-0.23</td>\n",
       "      <td>-0.99</td>\n",
       "      <td>0.04</td>\n",
       "      <td>-0.57</td>\n",
       "      <td>2.99</td>\n",
       "      <td>-0.92</td>\n",
       "      <td>0.16</td>\n",
       "      <td>-0.53</td>\n",
       "      <td>0.03</td>\n",
       "      <td>-0.59</td>\n",
       "      <td>1.82</td>\n",
       "    </tr>\n",
       "    <tr>\n",
       "      <th>2015</th>\n",
       "      <td>-0.37</td>\n",
       "      <td>0.00</td>\n",
       "      <td>-0.40</td>\n",
       "      <td>-0.64</td>\n",
       "      <td>0.17</td>\n",
       "      <td>-0.50</td>\n",
       "      <td>-0.52</td>\n",
       "      <td>-0.65</td>\n",
       "      <td>-0.27</td>\n",
       "      <td>-0.64</td>\n",
       "      <td>0.10</td>\n",
       "    </tr>\n",
       "    <tr>\n",
       "      <th>2016</th>\n",
       "      <td>-0.76</td>\n",
       "      <td>0.00</td>\n",
       "      <td>-0.68</td>\n",
       "      <td>-0.86</td>\n",
       "      <td>-0.66</td>\n",
       "      <td>0.00</td>\n",
       "      <td>-0.53</td>\n",
       "      <td>0.00</td>\n",
       "      <td>-0.80</td>\n",
       "      <td>-0.94</td>\n",
       "      <td>-0.79</td>\n",
       "    </tr>\n",
       "  </tbody>\n",
       "</table>\n",
       "</div>"
      ],
      "text/plain": [
       "Platform   3DS    DS    PC   PS3   PS4   PSP   PSV   Wii  WiiU  X360  XOne\n",
       "Year                                                                      \n",
       "2013       NaN   NaN   NaN   NaN   NaN   NaN   NaN   NaN   NaN   NaN   NaN\n",
       "2014     -0.23 -0.99  0.04 -0.57  2.99 -0.92  0.16 -0.53  0.03 -0.59  1.82\n",
       "2015     -0.37  0.00 -0.40 -0.64  0.17 -0.50 -0.52 -0.65 -0.27 -0.64  0.10\n",
       "2016     -0.76  0.00 -0.68 -0.86 -0.66  0.00 -0.53  0.00 -0.80 -0.94 -0.79"
      ]
     },
     "execution_count": 53,
     "metadata": {},
     "output_type": "execute_result"
    }
   ],
   "source": [
    "df_platformpct=df_platform.pct_change()\n",
    "df_platformpct"
   ]
  },
  {
   "cell_type": "code",
   "execution_count": 54,
   "metadata": {},
   "outputs": [
    {
     "data": {
      "text/html": [
       "<style type=\"text/css\">\n",
       "#T_c9ac7_row0_col0, #T_c9ac7_row0_col1, #T_c9ac7_row0_col2, #T_c9ac7_row0_col3, #T_c9ac7_row0_col4, #T_c9ac7_row0_col5, #T_c9ac7_row0_col6, #T_c9ac7_row0_col7, #T_c9ac7_row0_col8, #T_c9ac7_row0_col9, #T_c9ac7_row0_col10 {\n",
       "  background-color: #000000;\n",
       "  color: #f1f1f1;\n",
       "}\n",
       "#T_c9ac7_row1_col0, #T_c9ac7_row1_col2, #T_c9ac7_row1_col3, #T_c9ac7_row1_col4, #T_c9ac7_row1_col6, #T_c9ac7_row1_col8, #T_c9ac7_row1_col9, #T_c9ac7_row1_col10, #T_c9ac7_row2_col1, #T_c9ac7_row3_col1, #T_c9ac7_row3_col5, #T_c9ac7_row3_col7 {\n",
       "  background-color: #08306b;\n",
       "  color: #f1f1f1;\n",
       "}\n",
       "#T_c9ac7_row1_col1, #T_c9ac7_row1_col5, #T_c9ac7_row2_col7, #T_c9ac7_row3_col0, #T_c9ac7_row3_col2, #T_c9ac7_row3_col3, #T_c9ac7_row3_col4, #T_c9ac7_row3_col6, #T_c9ac7_row3_col8, #T_c9ac7_row3_col9, #T_c9ac7_row3_col10 {\n",
       "  background-color: #f7fbff;\n",
       "  color: #000000;\n",
       "}\n",
       "#T_c9ac7_row1_col7 {\n",
       "  background-color: #d1e2f3;\n",
       "  color: #000000;\n",
       "}\n",
       "#T_c9ac7_row2_col0 {\n",
       "  background-color: #2777b8;\n",
       "  color: #f1f1f1;\n",
       "}\n",
       "#T_c9ac7_row2_col2 {\n",
       "  background-color: #99c7e0;\n",
       "  color: #000000;\n",
       "}\n",
       "#T_c9ac7_row2_col3 {\n",
       "  background-color: #2474b7;\n",
       "  color: #f1f1f1;\n",
       "}\n",
       "#T_c9ac7_row2_col4 {\n",
       "  background-color: #cadef0;\n",
       "  color: #000000;\n",
       "}\n",
       "#T_c9ac7_row2_col5 {\n",
       "  background-color: #7cb7da;\n",
       "  color: #000000;\n",
       "}\n",
       "#T_c9ac7_row2_col6 {\n",
       "  background-color: #f5fafe;\n",
       "  color: #000000;\n",
       "}\n",
       "#T_c9ac7_row2_col8 {\n",
       "  background-color: #3f8fc5;\n",
       "  color: #f1f1f1;\n",
       "}\n",
       "#T_c9ac7_row2_col9 {\n",
       "  background-color: #0a549e;\n",
       "  color: #f1f1f1;\n",
       "}\n",
       "#T_c9ac7_row2_col10 {\n",
       "  background-color: #a9cfe5;\n",
       "  color: #000000;\n",
       "}\n",
       "</style>\n",
       "<table id=\"T_c9ac7\">\n",
       "  <thead>\n",
       "    <tr>\n",
       "      <th class=\"index_name level0\" >Platform</th>\n",
       "      <th id=\"T_c9ac7_level0_col0\" class=\"col_heading level0 col0\" >3DS</th>\n",
       "      <th id=\"T_c9ac7_level0_col1\" class=\"col_heading level0 col1\" >DS</th>\n",
       "      <th id=\"T_c9ac7_level0_col2\" class=\"col_heading level0 col2\" >PC</th>\n",
       "      <th id=\"T_c9ac7_level0_col3\" class=\"col_heading level0 col3\" >PS3</th>\n",
       "      <th id=\"T_c9ac7_level0_col4\" class=\"col_heading level0 col4\" >PS4</th>\n",
       "      <th id=\"T_c9ac7_level0_col5\" class=\"col_heading level0 col5\" >PSP</th>\n",
       "      <th id=\"T_c9ac7_level0_col6\" class=\"col_heading level0 col6\" >PSV</th>\n",
       "      <th id=\"T_c9ac7_level0_col7\" class=\"col_heading level0 col7\" >Wii</th>\n",
       "      <th id=\"T_c9ac7_level0_col8\" class=\"col_heading level0 col8\" >WiiU</th>\n",
       "      <th id=\"T_c9ac7_level0_col9\" class=\"col_heading level0 col9\" >X360</th>\n",
       "      <th id=\"T_c9ac7_level0_col10\" class=\"col_heading level0 col10\" >XOne</th>\n",
       "    </tr>\n",
       "    <tr>\n",
       "      <th class=\"index_name level0\" >Year</th>\n",
       "      <th class=\"blank col0\" >&nbsp;</th>\n",
       "      <th class=\"blank col1\" >&nbsp;</th>\n",
       "      <th class=\"blank col2\" >&nbsp;</th>\n",
       "      <th class=\"blank col3\" >&nbsp;</th>\n",
       "      <th class=\"blank col4\" >&nbsp;</th>\n",
       "      <th class=\"blank col5\" >&nbsp;</th>\n",
       "      <th class=\"blank col6\" >&nbsp;</th>\n",
       "      <th class=\"blank col7\" >&nbsp;</th>\n",
       "      <th class=\"blank col8\" >&nbsp;</th>\n",
       "      <th class=\"blank col9\" >&nbsp;</th>\n",
       "      <th class=\"blank col10\" >&nbsp;</th>\n",
       "    </tr>\n",
       "  </thead>\n",
       "  <tbody>\n",
       "    <tr>\n",
       "      <th id=\"T_c9ac7_level0_row0\" class=\"row_heading level0 row0\" >2013</th>\n",
       "      <td id=\"T_c9ac7_row0_col0\" class=\"data row0 col0\" >nan</td>\n",
       "      <td id=\"T_c9ac7_row0_col1\" class=\"data row0 col1\" >nan</td>\n",
       "      <td id=\"T_c9ac7_row0_col2\" class=\"data row0 col2\" >nan</td>\n",
       "      <td id=\"T_c9ac7_row0_col3\" class=\"data row0 col3\" >nan</td>\n",
       "      <td id=\"T_c9ac7_row0_col4\" class=\"data row0 col4\" >nan</td>\n",
       "      <td id=\"T_c9ac7_row0_col5\" class=\"data row0 col5\" >nan</td>\n",
       "      <td id=\"T_c9ac7_row0_col6\" class=\"data row0 col6\" >nan</td>\n",
       "      <td id=\"T_c9ac7_row0_col7\" class=\"data row0 col7\" >nan</td>\n",
       "      <td id=\"T_c9ac7_row0_col8\" class=\"data row0 col8\" >nan</td>\n",
       "      <td id=\"T_c9ac7_row0_col9\" class=\"data row0 col9\" >nan</td>\n",
       "      <td id=\"T_c9ac7_row0_col10\" class=\"data row0 col10\" >nan</td>\n",
       "    </tr>\n",
       "    <tr>\n",
       "      <th id=\"T_c9ac7_level0_row1\" class=\"row_heading level0 row1\" >2014</th>\n",
       "      <td id=\"T_c9ac7_row1_col0\" class=\"data row1 col0\" >-0.228168</td>\n",
       "      <td id=\"T_c9ac7_row1_col1\" class=\"data row1 col1\" >-0.989796</td>\n",
       "      <td id=\"T_c9ac7_row1_col2\" class=\"data row1 col2\" >0.043648</td>\n",
       "      <td id=\"T_c9ac7_row1_col3\" class=\"data row1 col3\" >-0.565891</td>\n",
       "      <td id=\"T_c9ac7_row1_col4\" class=\"data row1 col4\" >2.988691</td>\n",
       "      <td id=\"T_c9ac7_row1_col5\" class=\"data row1 col5\" >-0.924765</td>\n",
       "      <td id=\"T_c9ac7_row1_col6\" class=\"data row1 col6\" >0.161545</td>\n",
       "      <td id=\"T_c9ac7_row1_col7\" class=\"data row1 col7\" >-0.525641</td>\n",
       "      <td id=\"T_c9ac7_row1_col8\" class=\"data row1 col8\" >0.030678</td>\n",
       "      <td id=\"T_c9ac7_row1_col9\" class=\"data row1 col9\" >-0.593684</td>\n",
       "      <td id=\"T_c9ac7_row1_col10\" class=\"data row1 col10\" >1.818817</td>\n",
       "    </tr>\n",
       "    <tr>\n",
       "      <th id=\"T_c9ac7_level0_row2\" class=\"row_heading level0 row2\" >2015</th>\n",
       "      <td id=\"T_c9ac7_row2_col0\" class=\"data row2 col0\" >-0.374217</td>\n",
       "      <td id=\"T_c9ac7_row2_col1\" class=\"data row2 col1\" >0.000000</td>\n",
       "      <td id=\"T_c9ac7_row2_col2\" class=\"data row2 col2\" >-0.397311</td>\n",
       "      <td id=\"T_c9ac7_row2_col3\" class=\"data row2 col3\" >-0.642465</td>\n",
       "      <td id=\"T_c9ac7_row2_col4\" class=\"data row2 col4\" >0.167477</td>\n",
       "      <td id=\"T_c9ac7_row2_col5\" class=\"data row2 col5\" >-0.500000</td>\n",
       "      <td id=\"T_c9ac7_row2_col6\" class=\"data row2 col6\" >-0.518318</td>\n",
       "      <td id=\"T_c9ac7_row2_col7\" class=\"data row2 col7\" >-0.650901</td>\n",
       "      <td id=\"T_c9ac7_row2_col8\" class=\"data row2 col8\" >-0.272323</td>\n",
       "      <td id=\"T_c9ac7_row2_col9\" class=\"data row2 col9\" >-0.641582</td>\n",
       "      <td id=\"T_c9ac7_row2_col10\" class=\"data row2 col10\" >0.099752</td>\n",
       "    </tr>\n",
       "    <tr>\n",
       "      <th id=\"T_c9ac7_level0_row3\" class=\"row_heading level0 row3\" >2016</th>\n",
       "      <td id=\"T_c9ac7_row3_col0\" class=\"data row3 col0\" >-0.755465</td>\n",
       "      <td id=\"T_c9ac7_row3_col1\" class=\"data row3 col1\" >0.000000</td>\n",
       "      <td id=\"T_c9ac7_row3_col2\" class=\"data row3 col2\" >-0.677819</td>\n",
       "      <td id=\"T_c9ac7_row3_col3\" class=\"data row3 col3\" >-0.857849</td>\n",
       "      <td id=\"T_c9ac7_row3_col4\" class=\"data row3 col4\" >-0.659584</td>\n",
       "      <td id=\"T_c9ac7_row3_col5\" class=\"data row3 col5\" >0.000000</td>\n",
       "      <td id=\"T_c9ac7_row3_col6\" class=\"data row3 col6\" >-0.525352</td>\n",
       "      <td id=\"T_c9ac7_row3_col7\" class=\"data row3 col7\" >0.000000</td>\n",
       "      <td id=\"T_c9ac7_row3_col8\" class=\"data row3 col8\" >-0.799145</td>\n",
       "      <td id=\"T_c9ac7_row3_col9\" class=\"data row3 col9\" >-0.936398</td>\n",
       "      <td id=\"T_c9ac7_row3_col10\" class=\"data row3 col10\" >-0.785467</td>\n",
       "    </tr>\n",
       "  </tbody>\n",
       "</table>\n"
      ],
      "text/plain": [
       "<pandas.io.formats.style.Styler at 0x1dd05023730>"
      ]
     },
     "execution_count": 54,
     "metadata": {},
     "output_type": "execute_result"
    }
   ],
   "source": [
    "df_platformpct.style.background_gradient(cmap='Blues')"
   ]
  },
  {
   "cell_type": "code",
   "execution_count": 56,
   "metadata": {},
   "outputs": [
    {
     "data": {
      "text/plain": [
       "Platform\n",
       "PS4     0.83\n",
       "XOne    0.38\n",
       "PSV    -0.29\n",
       "DS     -0.33\n",
       "PC     -0.34\n",
       "WiiU   -0.35\n",
       "Wii    -0.39\n",
       "3DS    -0.45\n",
       "PSP    -0.47\n",
       "PS3    -0.69\n",
       "X360   -0.72\n",
       "dtype: float64"
      ]
     },
     "execution_count": 56,
     "metadata": {},
     "output_type": "execute_result"
    }
   ],
   "source": [
    "df_platformpct.mean().sort_values(ascending=False)\n",
    "# En la siguiente tabla se encuentran las tasas de\n",
    "# crecimiento promedio de las consolas de video\n",
    "# juegos comprendidos entre el periodo 2013-2016.\n",
    "# En dicha tabla se puede observar que el 'PS4'y\n",
    "# el 'XOne' son las consolas con mayor crecimiento.\n",
    "# Mientras que el 'PS3' y el 'X360' tuvieron las \n",
    "# mayores tasas de decrecimiento."
   ]
  },
  {
   "attachments": {},
   "cell_type": "markdown",
   "metadata": {},
   "source": [
    "### 3) qué videojuego ha tenido el mayor y menor crecimiento"
   ]
  },
  {
   "cell_type": "code",
   "execution_count": 57,
   "metadata": {},
   "outputs": [
    {
     "data": {
      "text/plain": [
       "(4, 1174)"
      ]
     },
     "execution_count": 57,
     "metadata": {},
     "output_type": "execute_result"
    }
   ],
   "source": [
    "df_videogame=pd.crosstab(df['Year'],df['Name'], values=df['Global_Sales'], aggfunc='sum')#, margins=True)\n",
    "df_videogame.shape"
   ]
  },
  {
   "cell_type": "code",
   "execution_count": 64,
   "metadata": {},
   "outputs": [
    {
     "data": {
      "text/plain": [
       "Name\n",
       "Divinity: Original Sin                                      8.00\n",
       "Don Bradman Cricket 14                                      2.17\n",
       "The Elder Scrolls Online                                    1.16\n",
       "Dead or Alive 5                                             1.03\n",
       "The Walking Dead: Season One                                0.80\n",
       "Warriors Orochi 3                                           0.57\n",
       "Dungeon Travelers 2: The Royal Library & The Monster Seal   0.42\n",
       "The Legend of Heroes: Trails in the Sky Third Chapter       0.33\n",
       "Tropico 5                                                   0.29\n",
       "One Piece: Unlimited World Red                              0.14\n",
       "dtype: float64"
      ]
     },
     "execution_count": 64,
     "metadata": {},
     "output_type": "execute_result"
    }
   ],
   "source": [
    "df_videogamepct=df_videogame.pct_change()\n",
    "df_videogamepct.mean().sort_values(ascending=False)[0:10]\n",
    "\n",
    "# Aqui se pueden apreciar los videojuegos con las mayores\n",
    "# tasas de crecimiento. Importante recalcar el hecho de que\n",
    "# los primeros 4 juegos tuvieron un crecimiento mayor al\n",
    "# 100% llegando por ejemplo hasta aumentar 8 veces el crecimiento\n",
    "# de la tasa de ventas."
   ]
  },
  {
   "cell_type": "code",
   "execution_count": 62,
   "metadata": {},
   "outputs": [
    {
     "data": {
      "text/plain": [
       "Name                           0\n",
       "Tasa media de crecimiento    198\n",
       "dtype: int64"
      ]
     },
     "execution_count": 62,
     "metadata": {},
     "output_type": "execute_result"
    }
   ],
   "source": [
    "df_helper=df_videogamepct.mean().sort_values(ascending=False).rename('Tasa media de crecimiento').reset_index()\n",
    "missing_values_count=df_helper.isnull().sum()\n",
    "missing_values_count"
   ]
  },
  {
   "cell_type": "code",
   "execution_count": 63,
   "metadata": {},
   "outputs": [
    {
     "data": {
      "text/plain": [
       "Name\n",
       "World of Warcraft: Legion        NaN\n",
       "Worms: WMD                       NaN\n",
       "XCOM 2                           NaN\n",
       "Yakuza Kiwami                    NaN\n",
       "Yokai Sangokushi                 NaN\n",
       "Yokai Watch 3                    NaN\n",
       "Ys VIII: Lacrimosa of Dana       NaN\n",
       "Yuusha Shisu.                    NaN\n",
       "Zero Escape: Zero Time Dilemma   NaN\n",
       "ZombiU                           NaN\n",
       "dtype: float64"
      ]
     },
     "execution_count": 63,
     "metadata": {},
     "output_type": "execute_result"
    }
   ],
   "source": [
    "df_videogamepct.mean().sort_values(ascending=False)[-10:]\n",
    "\n",
    "# En teoria los videojuegos listados en la siguiente tabla\n",
    "# corresponde a los ultimos 10 video juegos con el mayor\n",
    "# decrecimiento. Sin embargo, en realidad son 198 los video\n",
    "# juegos que no tienen una tasa de crecimiento porque probablemente\n",
    "# fueron vendidos solo durante un ano en particular."
   ]
  },
  {
   "attachments": {},
   "cell_type": "markdown",
   "metadata": {},
   "source": [
    "## 2 elementos adicionales que muestren oportunidades de mercado"
   ]
  },
  {
   "cell_type": "code",
   "execution_count": 65,
   "metadata": {},
   "outputs": [
    {
     "data": {
      "text/plain": [
       "([<matplotlib.axis.XTick at 0x1dd05425520>,\n",
       "  <matplotlib.axis.XTick at 0x1dd05425940>,\n",
       "  <matplotlib.axis.XTick at 0x1dd05435af0>,\n",
       "  <matplotlib.axis.XTick at 0x1dd0547ebb0>],\n",
       " [Text(2013.0, 0, '2013'),\n",
       "  Text(2014.0, 0, '2014'),\n",
       "  Text(2015.0, 0, '2015'),\n",
       "  Text(2016.0, 0, '2016')])"
      ]
     },
     "execution_count": 65,
     "metadata": {},
     "output_type": "execute_result"
    },
    {
     "data": {
      "image/png": "[encoded data removed]",
      "text/plain": [
       "<Figure size 640x480 with 1 Axes>"
      ]
     },
     "metadata": {},
     "output_type": "display_data"
    }
   ],
   "source": [
    "df_genre.plot(xlabel='Año',ylabel='Ventas globales en millones',title='Ventas globales según el genero de los videojuegos por año')\n",
    "plt.xticks(np.arange(df['Year'].min(),df['Year'].max()+1,1.0))"
   ]
  },
  {
   "cell_type": "code",
   "execution_count": 66,
   "metadata": {},
   "outputs": [
    {
     "data": {
      "text/plain": [
       "([<matplotlib.axis.XTick at 0x1dd0560ee20>,\n",
       "  <matplotlib.axis.XTick at 0x1dd0560edf0>,\n",
       "  <matplotlib.axis.XTick at 0x1dd0561c940>,\n",
       "  <matplotlib.axis.XTick at 0x1dd054e5f40>],\n",
       " [Text(2013.0, 0, '2013'),\n",
       "  Text(2014.0, 0, '2014'),\n",
       "  Text(2015.0, 0, '2015'),\n",
       "  Text(2016.0, 0, '2016')])"
      ]
     },
     "execution_count": 66,
     "metadata": {},
     "output_type": "execute_result"
    },
    {
     "data": {
      "image/png": "[encoded data removed]",
      "text/plain": [
       "<Figure size 640x480 with 1 Axes>"
      ]
     },
     "metadata": {},
     "output_type": "display_data"
    }
   ],
   "source": [
    "df_platform.plot(xlabel='Año',ylabel='Ventas globales en millones',title='Ventas globales según la consola usada para los videojuegos por año')\n",
    "plt.xticks(np.arange(df['Year'].min(),df['Year'].max()+1,1.0))"
   ]
  }
 ],
 "metadata": {
  "kernelspec": {
   "display_name": "analyticscourse",
   "language": "python",
   "name": "python3"
  },
  "language_info": {
   "codemirror_mode": {
    "name": "ipython",
    "version": 3
   },
   "file_extension": ".py",
   "mimetype": "text/x-python",
   "name": "python",
   "nbconvert_exporter": "python",
   "pygments_lexer": "ipython3",
   "version": "3.9.16"
  },
  "orig_nbformat": 4,
  "vscode": {
   "interpreter": {
    "hash": "32d77dde0977e009dbd1464021704d0d35c1a79fcd29b1a59dac3922ff115826"
   }
  }
 },
 "nbformat": 4,
 "nbformat_minor": 2
}

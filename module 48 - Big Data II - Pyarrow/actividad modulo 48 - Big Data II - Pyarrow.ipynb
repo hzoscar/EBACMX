{
 "cells": [
  {
   "cell_type": "markdown",
   "metadata": {},
   "source": [
    "## Actividad modulo 48 - Big Data II - PyArrow"
   ]
  },
  {
   "cell_type": "markdown",
   "metadata": {},
   "source": [
    "○ Exportación de datos desde Spark"
   ]
  },
  {
   "cell_type": "code",
   "execution_count": 2,
   "metadata": {},
   "outputs": [],
   "source": [
    "from pyarrow import csv\n",
    "import pyarrow as pa"
   ]
  },
  {
   "cell_type": "markdown",
   "metadata": {},
   "source": [
    "○ Conexión desde Python al servicio Spark donde se instaló la información"
   ]
  },
  {
   "cell_type": "code",
   "execution_count": 4,
   "metadata": {},
   "outputs": [],
   "source": [
    "archivo = \"D:/WORK IN PROGRESS/Data Analytics course/Archivos ejercicios/Housing.csv\"\n",
    "tab_housing = csv.read_csv(archivo)"
   ]
  },
  {
   "cell_type": "code",
   "execution_count": 5,
   "metadata": {},
   "outputs": [
    {
     "data": {
      "text/plain": [
       "pyarrow.Table\n",
       "price: int64\n",
       "area: int64\n",
       "bedrooms: int64\n",
       "bathrooms: int64\n",
       "stories: int64\n",
       "mainroad: string\n",
       "guestroom: string\n",
       "basement: string\n",
       "hotwaterheating: string\n",
       "airconditioning: string\n",
       "parking: int64\n",
       "prefarea: string\n",
       "furnishingstatus: string\n",
       "----\n",
       "price: [[13300000,12250000,12250000,12215000,11410000,...,1820000,1767150,1750000,1750000,1750000]]\n",
       "area: [[7420,8960,9960,7500,7420,...,3000,2400,3620,2910,3850]]\n",
       "bedrooms: [[4,4,3,4,4,...,2,3,2,3,3]]\n",
       "bathrooms: [[2,4,2,2,1,...,1,1,1,1,1]]\n",
       "stories: [[3,4,2,2,2,...,1,1,1,1,2]]\n",
       "mainroad: [[\"yes\",\"yes\",\"yes\",\"yes\",\"yes\",...,\"yes\",\"no\",\"yes\",\"no\",\"yes\"]]\n",
       "guestroom: [[\"no\",\"no\",\"no\",\"no\",\"yes\",...,\"no\",\"no\",\"no\",\"no\",\"no\"]]\n",
       "basement: [[\"no\",\"no\",\"yes\",\"yes\",\"yes\",...,\"yes\",\"no\",\"no\",\"no\",\"no\"]]\n",
       "hotwaterheating: [[\"no\",\"no\",\"no\",\"no\",\"no\",...,\"no\",\"no\",\"no\",\"no\",\"no\"]]\n",
       "airconditioning: [[\"yes\",\"yes\",\"no\",\"yes\",\"yes\",...,\"no\",\"no\",\"no\",\"no\",\"no\"]]\n",
       "..."
      ]
     },
     "execution_count": 5,
     "metadata": {},
     "output_type": "execute_result"
    }
   ],
   "source": [
    "# Estructura de Housing visto desde PyArrow\n",
    "tab_housing"
   ]
  },
  {
   "cell_type": "markdown",
   "metadata": {},
   "source": [
    "○ Selección de datos de housing con filtros simples:"
   ]
  },
  {
   "cell_type": "markdown",
   "metadata": {},
   "source": [
    "1) listado completo de columnas ordenado \n",
    "por price"
   ]
  },
  {
   "cell_type": "code",
   "execution_count": 14,
   "metadata": {},
   "outputs": [],
   "source": [
    "sorted_table = tab_housing.sort_by([('price','descending')])"
   ]
  },
  {
   "cell_type": "code",
   "execution_count": 35,
   "metadata": {},
   "outputs": [
    {
     "data": {
      "text/plain": [
       "pyarrow.Table\n",
       "price: int64\n",
       "area: int64\n",
       "bedrooms: int64\n",
       "bathrooms: int64\n",
       "stories: int64\n",
       "mainroad: string\n",
       "guestroom: string\n",
       "basement: string\n",
       "hotwaterheating: string\n",
       "airconditioning: string\n",
       "parking: int64\n",
       "prefarea: string\n",
       "furnishingstatus: string\n",
       "----\n",
       "price: [[13300000,12250000,12250000,12215000,11410000,...,1820000,1767150,1750000,1750000,1750000]]\n",
       "area: [[7420,8960,9960,7500,7420,...,3000,2400,3620,2910,3850]]\n",
       "bedrooms: [[4,4,3,4,4,...,2,3,2,3,3]]\n",
       "bathrooms: [[2,4,2,2,1,...,1,1,1,1,1]]\n",
       "stories: [[3,4,2,2,2,...,1,1,1,1,2]]\n",
       "mainroad: [[\"yes\",\"yes\",\"yes\",\"yes\",\"yes\",...,\"yes\",\"no\",\"yes\",\"no\",\"yes\"]]\n",
       "guestroom: [[\"no\",\"no\",\"no\",\"no\",\"yes\",...,\"no\",\"no\",\"no\",\"no\",\"no\"]]\n",
       "basement: [[\"no\",\"no\",\"yes\",\"yes\",\"yes\",...,\"yes\",\"no\",\"no\",\"no\",\"no\"]]\n",
       "hotwaterheating: [[\"no\",\"no\",\"no\",\"no\",\"no\",...,\"no\",\"no\",\"no\",\"no\",\"no\"]]\n",
       "airconditioning: [[\"yes\",\"yes\",\"no\",\"yes\",\"yes\",...,\"no\",\"no\",\"no\",\"no\",\"no\"]]\n",
       "..."
      ]
     },
     "execution_count": 35,
     "metadata": {},
     "output_type": "execute_result"
    }
   ],
   "source": [
    "sorted_table"
   ]
  },
  {
   "cell_type": "code",
   "execution_count": 15,
   "metadata": {},
   "outputs": [
    {
     "data": {
      "text/html": [
       "<div>\n",
       "<style scoped>\n",
       "    .dataframe tbody tr th:only-of-type {\n",
       "        vertical-align: middle;\n",
       "    }\n",
       "\n",
       "    .dataframe tbody tr th {\n",
       "        vertical-align: top;\n",
       "    }\n",
       "\n",
       "    .dataframe thead th {\n",
       "        text-align: right;\n",
       "    }\n",
       "</style>\n",
       "<table border=\"1\" class=\"dataframe\">\n",
       "  <thead>\n",
       "    <tr style=\"text-align: right;\">\n",
       "      <th></th>\n",
       "      <th>price</th>\n",
       "      <th>area</th>\n",
       "      <th>bedrooms</th>\n",
       "      <th>bathrooms</th>\n",
       "      <th>stories</th>\n",
       "      <th>mainroad</th>\n",
       "      <th>guestroom</th>\n",
       "      <th>basement</th>\n",
       "      <th>hotwaterheating</th>\n",
       "      <th>airconditioning</th>\n",
       "      <th>parking</th>\n",
       "      <th>prefarea</th>\n",
       "      <th>furnishingstatus</th>\n",
       "    </tr>\n",
       "  </thead>\n",
       "  <tbody>\n",
       "    <tr>\n",
       "      <th>0</th>\n",
       "      <td>13300000</td>\n",
       "      <td>7420</td>\n",
       "      <td>4</td>\n",
       "      <td>2</td>\n",
       "      <td>3</td>\n",
       "      <td>yes</td>\n",
       "      <td>no</td>\n",
       "      <td>no</td>\n",
       "      <td>no</td>\n",
       "      <td>yes</td>\n",
       "      <td>2</td>\n",
       "      <td>yes</td>\n",
       "      <td>furnished</td>\n",
       "    </tr>\n",
       "    <tr>\n",
       "      <th>1</th>\n",
       "      <td>12250000</td>\n",
       "      <td>8960</td>\n",
       "      <td>4</td>\n",
       "      <td>4</td>\n",
       "      <td>4</td>\n",
       "      <td>yes</td>\n",
       "      <td>no</td>\n",
       "      <td>no</td>\n",
       "      <td>no</td>\n",
       "      <td>yes</td>\n",
       "      <td>3</td>\n",
       "      <td>no</td>\n",
       "      <td>furnished</td>\n",
       "    </tr>\n",
       "    <tr>\n",
       "      <th>2</th>\n",
       "      <td>12250000</td>\n",
       "      <td>9960</td>\n",
       "      <td>3</td>\n",
       "      <td>2</td>\n",
       "      <td>2</td>\n",
       "      <td>yes</td>\n",
       "      <td>no</td>\n",
       "      <td>yes</td>\n",
       "      <td>no</td>\n",
       "      <td>no</td>\n",
       "      <td>2</td>\n",
       "      <td>yes</td>\n",
       "      <td>semi-furnished</td>\n",
       "    </tr>\n",
       "    <tr>\n",
       "      <th>3</th>\n",
       "      <td>12215000</td>\n",
       "      <td>7500</td>\n",
       "      <td>4</td>\n",
       "      <td>2</td>\n",
       "      <td>2</td>\n",
       "      <td>yes</td>\n",
       "      <td>no</td>\n",
       "      <td>yes</td>\n",
       "      <td>no</td>\n",
       "      <td>yes</td>\n",
       "      <td>3</td>\n",
       "      <td>yes</td>\n",
       "      <td>furnished</td>\n",
       "    </tr>\n",
       "    <tr>\n",
       "      <th>4</th>\n",
       "      <td>11410000</td>\n",
       "      <td>7420</td>\n",
       "      <td>4</td>\n",
       "      <td>1</td>\n",
       "      <td>2</td>\n",
       "      <td>yes</td>\n",
       "      <td>yes</td>\n",
       "      <td>yes</td>\n",
       "      <td>no</td>\n",
       "      <td>yes</td>\n",
       "      <td>2</td>\n",
       "      <td>no</td>\n",
       "      <td>furnished</td>\n",
       "    </tr>\n",
       "  </tbody>\n",
       "</table>\n",
       "</div>"
      ],
      "text/plain": [
       "      price  area  bedrooms  bathrooms  stories mainroad guestroom basement  \\\n",
       "0  13300000  7420         4          2        3      yes        no       no   \n",
       "1  12250000  8960         4          4        4      yes        no       no   \n",
       "2  12250000  9960         3          2        2      yes        no      yes   \n",
       "3  12215000  7500         4          2        2      yes        no      yes   \n",
       "4  11410000  7420         4          1        2      yes       yes      yes   \n",
       "\n",
       "  hotwaterheating airconditioning  parking prefarea furnishingstatus  \n",
       "0              no             yes        2      yes        furnished  \n",
       "1              no             yes        3       no        furnished  \n",
       "2              no              no        2      yes   semi-furnished  \n",
       "3              no             yes        3      yes        furnished  \n",
       "4              no             yes        2       no        furnished  "
      ]
     },
     "execution_count": 15,
     "metadata": {},
     "output_type": "execute_result"
    }
   ],
   "source": [
    "df1= sorted_table.to_pandas()\n",
    "df1.head()"
   ]
  },
  {
   "cell_type": "markdown",
   "metadata": {},
   "source": [
    "2) para las casas con mayor numero de habitaciones, calcular el promedio de precio, y tamaño en m2"
   ]
  },
  {
   "cell_type": "code",
   "execution_count": 32,
   "metadata": {},
   "outputs": [],
   "source": [
    "# Agrupa la tabla por numero de habitaciones, para odentificar que valor tiene el maor numero de inmuebles\n",
    "grouped_table = tab_housing.group_by(\"bedrooms\").aggregate([(\"bedrooms\",\"count\")]).sort_by([('bedrooms_count','descending')])"
   ]
  },
  {
   "cell_type": "code",
   "execution_count": 34,
   "metadata": {},
   "outputs": [
    {
     "data": {
      "text/plain": [
       "pyarrow.Table\n",
       "bedrooms_count: int64\n",
       "bedrooms: int64\n",
       "----\n",
       "bedrooms_count: [[300,136,95,10,2,2]]\n",
       "bedrooms: [[3,2,4,5,6,1]]"
      ]
     },
     "execution_count": 34,
     "metadata": {},
     "output_type": "execute_result"
    }
   ],
   "source": [
    "grouped_table"
   ]
  },
  {
   "cell_type": "code",
   "execution_count": 33,
   "metadata": {},
   "outputs": [
    {
     "data": {
      "text/html": [
       "<div>\n",
       "<style scoped>\n",
       "    .dataframe tbody tr th:only-of-type {\n",
       "        vertical-align: middle;\n",
       "    }\n",
       "\n",
       "    .dataframe tbody tr th {\n",
       "        vertical-align: top;\n",
       "    }\n",
       "\n",
       "    .dataframe thead th {\n",
       "        text-align: right;\n",
       "    }\n",
       "</style>\n",
       "<table border=\"1\" class=\"dataframe\">\n",
       "  <thead>\n",
       "    <tr style=\"text-align: right;\">\n",
       "      <th></th>\n",
       "      <th>bedrooms_count</th>\n",
       "      <th>bedrooms</th>\n",
       "    </tr>\n",
       "  </thead>\n",
       "  <tbody>\n",
       "    <tr>\n",
       "      <th>0</th>\n",
       "      <td>300</td>\n",
       "      <td>3</td>\n",
       "    </tr>\n",
       "    <tr>\n",
       "      <th>1</th>\n",
       "      <td>136</td>\n",
       "      <td>2</td>\n",
       "    </tr>\n",
       "    <tr>\n",
       "      <th>2</th>\n",
       "      <td>95</td>\n",
       "      <td>4</td>\n",
       "    </tr>\n",
       "    <tr>\n",
       "      <th>3</th>\n",
       "      <td>10</td>\n",
       "      <td>5</td>\n",
       "    </tr>\n",
       "    <tr>\n",
       "      <th>4</th>\n",
       "      <td>2</td>\n",
       "      <td>6</td>\n",
       "    </tr>\n",
       "  </tbody>\n",
       "</table>\n",
       "</div>"
      ],
      "text/plain": [
       "   bedrooms_count  bedrooms\n",
       "0             300         3\n",
       "1             136         2\n",
       "2              95         4\n",
       "3              10         5\n",
       "4               2         6"
      ]
     },
     "execution_count": 33,
     "metadata": {},
     "output_type": "execute_result"
    }
   ],
   "source": [
    "df2= grouped_table.to_pandas()\n",
    "df2.head()"
   ]
  },
  {
   "cell_type": "code",
   "execution_count": 36,
   "metadata": {},
   "outputs": [],
   "source": [
    "# Se evidencia que la opcion con mayor numero de ocurrencias es 3 camas."
   ]
  },
  {
   "cell_type": "code",
   "execution_count": 42,
   "metadata": {},
   "outputs": [
    {
     "data": {
      "text/plain": [
       "pyarrow.Table\n",
       "area_mean: double\n",
       "price_mean: double\n",
       "bedrooms: int64\n",
       "----\n",
       "area_mean: [[5226.62]]\n",
       "price_mean: [[4954598.133333334]]\n",
       "bedrooms: [[3]]"
      ]
     },
     "execution_count": 42,
     "metadata": {},
     "output_type": "execute_result"
    }
   ],
   "source": [
    "import pyarrow.compute as pc\n",
    "\n",
    "# Assuming you have a table named 'apartment_table' with columns 'price', 'area', and 'bedrooms'\n",
    "# Filter the table to select only apartments with 3 bedrooms\n",
    "filtered_table = tab_housing.filter(pc.field('bedrooms')== 3)\n",
    "\n",
    "grouped_table_2= filtered_table.group_by(\"bedrooms\").aggregate([\n",
    "   (\"area\", \"mean\"),\n",
    "   (\"price\", \"mean\")\n",
    "])\n",
    "\n",
    "grouped_table_2\n",
    "\n"
   ]
  },
  {
   "cell_type": "code",
   "execution_count": 43,
   "metadata": {},
   "outputs": [
    {
     "data": {
      "text/html": [
       "<div>\n",
       "<style scoped>\n",
       "    .dataframe tbody tr th:only-of-type {\n",
       "        vertical-align: middle;\n",
       "    }\n",
       "\n",
       "    .dataframe tbody tr th {\n",
       "        vertical-align: top;\n",
       "    }\n",
       "\n",
       "    .dataframe thead th {\n",
       "        text-align: right;\n",
       "    }\n",
       "</style>\n",
       "<table border=\"1\" class=\"dataframe\">\n",
       "  <thead>\n",
       "    <tr style=\"text-align: right;\">\n",
       "      <th></th>\n",
       "      <th>area_mean</th>\n",
       "      <th>price_mean</th>\n",
       "      <th>bedrooms</th>\n",
       "    </tr>\n",
       "  </thead>\n",
       "  <tbody>\n",
       "    <tr>\n",
       "      <th>0</th>\n",
       "      <td>5226.62</td>\n",
       "      <td>4.954598e+06</td>\n",
       "      <td>3</td>\n",
       "    </tr>\n",
       "  </tbody>\n",
       "</table>\n",
       "</div>"
      ],
      "text/plain": [
       "   area_mean    price_mean  bedrooms\n",
       "0    5226.62  4.954598e+06         3"
      ]
     },
     "execution_count": 43,
     "metadata": {},
     "output_type": "execute_result"
    }
   ],
   "source": [
    "df3= grouped_table_2.to_pandas()\n",
    "df3.head()"
   ]
  },
  {
   "cell_type": "markdown",
   "metadata": {},
   "source": [
    "○ Agrupamiento en PyArrow, por número de habitaciones y baños, del precio. Ej: # habitaciones | # \n",
    "baños | precio promedio, esto por furnishingstatus"
   ]
  },
  {
   "cell_type": "code",
   "execution_count": 47,
   "metadata": {},
   "outputs": [
    {
     "data": {
      "text/plain": [
       "pyarrow.Table\n",
       "bedrooms_count: int64\n",
       "bathrooms_count: int64\n",
       "price_mean: double\n",
       "furnishingstatus: string\n",
       "----\n",
       "bedrooms_count: [[140,227,178]]\n",
       "bathrooms_count: [[140,227,178]]\n",
       "price_mean: [[5495696,4907524.22907489,4013831.4606741574]]\n",
       "furnishingstatus: [[\"furnished\",\"semi-furnished\",\"unfurnished\"]]"
      ]
     },
     "execution_count": 47,
     "metadata": {},
     "output_type": "execute_result"
    }
   ],
   "source": [
    "grouped_table_3= tab_housing.group_by(\"furnishingstatus\").aggregate([\n",
    "   (\"bedrooms\",\"count\"),\n",
    "   (\"bathrooms\",\"count\"),\n",
    "   (\"price\", \"mean\")\n",
    "])\n",
    "grouped_table_3"
   ]
  },
  {
   "cell_type": "code",
   "execution_count": 48,
   "metadata": {},
   "outputs": [
    {
     "data": {
      "text/html": [
       "<div>\n",
       "<style scoped>\n",
       "    .dataframe tbody tr th:only-of-type {\n",
       "        vertical-align: middle;\n",
       "    }\n",
       "\n",
       "    .dataframe tbody tr th {\n",
       "        vertical-align: top;\n",
       "    }\n",
       "\n",
       "    .dataframe thead th {\n",
       "        text-align: right;\n",
       "    }\n",
       "</style>\n",
       "<table border=\"1\" class=\"dataframe\">\n",
       "  <thead>\n",
       "    <tr style=\"text-align: right;\">\n",
       "      <th></th>\n",
       "      <th>bedrooms_count</th>\n",
       "      <th>bathrooms_count</th>\n",
       "      <th>price_mean</th>\n",
       "      <th>furnishingstatus</th>\n",
       "    </tr>\n",
       "  </thead>\n",
       "  <tbody>\n",
       "    <tr>\n",
       "      <th>0</th>\n",
       "      <td>140</td>\n",
       "      <td>140</td>\n",
       "      <td>5.495696e+06</td>\n",
       "      <td>furnished</td>\n",
       "    </tr>\n",
       "    <tr>\n",
       "      <th>1</th>\n",
       "      <td>227</td>\n",
       "      <td>227</td>\n",
       "      <td>4.907524e+06</td>\n",
       "      <td>semi-furnished</td>\n",
       "    </tr>\n",
       "    <tr>\n",
       "      <th>2</th>\n",
       "      <td>178</td>\n",
       "      <td>178</td>\n",
       "      <td>4.013831e+06</td>\n",
       "      <td>unfurnished</td>\n",
       "    </tr>\n",
       "  </tbody>\n",
       "</table>\n",
       "</div>"
      ],
      "text/plain": [
       "   bedrooms_count  bathrooms_count    price_mean furnishingstatus\n",
       "0             140              140  5.495696e+06        furnished\n",
       "1             227              227  4.907524e+06   semi-furnished\n",
       "2             178              178  4.013831e+06      unfurnished"
      ]
     },
     "execution_count": 48,
     "metadata": {},
     "output_type": "execute_result"
    }
   ],
   "source": [
    "df4= grouped_table_3.to_pandas()\n",
    "df4.head()"
   ]
  }
 ],
 "metadata": {
  "kernelspec": {
   "display_name": "My Spark Environment",
   "language": "python",
   "name": "spark"
  },
  "language_info": {
   "codemirror_mode": {
    "name": "ipython",
    "version": 3
   },
   "file_extension": ".py",
   "mimetype": "text/x-python",
   "name": "python",
   "nbconvert_exporter": "python",
   "pygments_lexer": "ipython3",
   "version": "3.11.4"
  },
  "orig_nbformat": 4
 },
 "nbformat": 4,
 "nbformat_minor": 2
}

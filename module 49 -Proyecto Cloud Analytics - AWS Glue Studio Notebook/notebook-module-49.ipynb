{
	"metadata": {
		"kernelspec": {
			"name": "glue_pyspark",
			"display_name": "Glue PySpark",
			"language": "python"
		},
		"language_info": {
			"name": "Python_Glue_Session",
			"mimetype": "text/x-python",
			"codemirror_mode": {
				"name": "python",
				"version": 3
			},
			"pygments_lexer": "python3",
			"file_extension": ".py"
		}
	},
	"nbformat_minor": 4,
	"nbformat": 4,
	"cells": [
		{
			"cell_type": "markdown",
			"source": "# AWS Glue Studio Notebook\n##### You are now running a AWS Glue Studio notebook; To start using your notebook you need to start an AWS Glue Interactive Session.\n",
			"metadata": {
				"editable": true,
				"trusted": true
			}
		},
		{
			"cell_type": "markdown",
			"source": "#### Optional: Run this cell to see available notebook commands (\"magics\").\n",
			"metadata": {
				"editable": true,
				"trusted": true
			}
		},
		{
			"cell_type": "code",
			"source": "%help",
			"metadata": {
				"trusted": true,
				"editable": true
			},
			"execution_count": null,
			"outputs": []
		},
		{
			"cell_type": "markdown",
			"source": "####  Run this cell to set up and start your interactive session.\n",
			"metadata": {
				"editable": true,
				"trusted": true
			}
		},
		{
			"cell_type": "code",
			"source": "%idle_timeout 2880\n%glue_version 3.0\n%worker_type G.1X\n%number_of_workers 5\n\nimport sys\nfrom awsglue.transforms import *\nfrom awsglue.utils import getResolvedOptions\nfrom pyspark.context import SparkContext\nfrom awsglue.context import GlueContext\nfrom awsglue.job import Job\n  \nsc = SparkContext.getOrCreate()\nglueContext = GlueContext(sc)\nspark = glueContext.spark_session\njob = Job(glueContext)",
			"metadata": {
				"tags": [],
				"editable": true,
				"trusted": true
			},
			"execution_count": 11,
			"outputs": [
				{
					"name": "stderr",
					"text": "You are already connected to a glueetl session bee23146-fdf9-48dc-8695-d672caa6254d.\n\nNo change will be made to the current session that is set as glueetl. The session configuration change will apply to newly created sessions.\n",
					"output_type": "stream"
				},
				{
					"name": "stdout",
					"text": "Current idle_timeout is 2880 minutes.\nidle_timeout has been set to 2880 minutes.\n",
					"output_type": "stream"
				},
				{
					"name": "stderr",
					"text": "You are already connected to a glueetl session bee23146-fdf9-48dc-8695-d672caa6254d.\n\nNo change will be made to the current session that is set as glueetl. The session configuration change will apply to newly created sessions.\n",
					"output_type": "stream"
				},
				{
					"name": "stdout",
					"text": "Setting Glue version to: 3.0\n",
					"output_type": "stream"
				},
				{
					"name": "stderr",
					"text": "You are already connected to a glueetl session bee23146-fdf9-48dc-8695-d672caa6254d.\n\nNo change will be made to the current session that is set as glueetl. The session configuration change will apply to newly created sessions.\n",
					"output_type": "stream"
				},
				{
					"name": "stdout",
					"text": "Previous worker type: G.1X\nSetting new worker type to: G.1X\n",
					"output_type": "stream"
				},
				{
					"name": "stderr",
					"text": "You are already connected to a glueetl session bee23146-fdf9-48dc-8695-d672caa6254d.\n\nNo change will be made to the current session that is set as glueetl. The session configuration change will apply to newly created sessions.\n",
					"output_type": "stream"
				},
				{
					"name": "stdout",
					"text": "Previous number of workers: 5\nSetting new number of workers to: 5\n\n",
					"output_type": "stream"
				}
			]
		},
		{
			"cell_type": "markdown",
			"source": "# ○Exploración de la información de housing utilizando Python, y obteniendo la información del ejercicio anterior",
			"metadata": {}
		},
		{
			"cell_type": "markdown",
			"source": "#### Example: Create a DynamicFrame from a table in the AWS Glue Data Catalog and display its schema\n",
			"metadata": {
				"editable": true,
				"trusted": true
			}
		},
		{
			"cell_type": "code",
			"source": "dyf = glueContext.create_dynamic_frame.from_catalog(database='ebac-dl-housing', table_name='module_49')\ndyf.printSchema()",
			"metadata": {
				"trusted": true,
				"editable": true
			},
			"execution_count": 2,
			"outputs": [
				{
					"name": "stdout",
					"text": "root\n|-- price: long\n|-- area: long\n|-- bedrooms: long\n|-- bathrooms: long\n|-- stories: long\n|-- mainroad: string\n|-- guestroom: string\n|-- basement: string\n|-- hotwaterheating: string\n|-- airconditioning: string\n|-- parking: long\n|-- prefarea: string\n|-- furnishingstatus: string\n",
					"output_type": "stream"
				}
			]
		},
		{
			"cell_type": "markdown",
			"source": "#### Example: Convert the DynamicFrame to a Spark DataFrame and display a sample of the data\n",
			"metadata": {
				"editable": true,
				"trusted": true
			}
		},
		{
			"cell_type": "code",
			"source": "df = dyf.toDF()\ndf.show()",
			"metadata": {
				"trusted": true,
				"editable": true
			},
			"execution_count": 3,
			"outputs": [
				{
					"name": "stdout",
					"text": "+--------+-----+--------+---------+-------+--------+---------+--------+---------------+---------------+-------+--------+----------------+\n|   price| area|bedrooms|bathrooms|stories|mainroad|guestroom|basement|hotwaterheating|airconditioning|parking|prefarea|furnishingstatus|\n+--------+-----+--------+---------+-------+--------+---------+--------+---------------+---------------+-------+--------+----------------+\n|13300000| 7420|       4|        2|      3|     yes|       no|      no|             no|            yes|      2|     yes|       furnished|\n|12250000| 8960|       4|        4|      4|     yes|       no|      no|             no|            yes|      3|      no|       furnished|\n|12250000| 9960|       3|        2|      2|     yes|       no|     yes|             no|             no|      2|     yes|  semi-furnished|\n|12215000| 7500|       4|        2|      2|     yes|       no|     yes|             no|            yes|      3|     yes|       furnished|\n|11410000| 7420|       4|        1|      2|     yes|      yes|     yes|             no|            yes|      2|      no|       furnished|\n|10850000| 7500|       3|        3|      1|     yes|       no|     yes|             no|            yes|      2|     yes|  semi-furnished|\n|10150000| 8580|       4|        3|      4|     yes|       no|      no|             no|            yes|      2|     yes|  semi-furnished|\n|10150000|16200|       5|        3|      2|     yes|       no|      no|             no|             no|      0|      no|     unfurnished|\n| 9870000| 8100|       4|        1|      2|     yes|      yes|     yes|             no|            yes|      2|     yes|       furnished|\n| 9800000| 5750|       3|        2|      4|     yes|      yes|      no|             no|            yes|      1|     yes|     unfurnished|\n| 9800000|13200|       3|        1|      2|     yes|       no|     yes|             no|            yes|      2|     yes|       furnished|\n| 9681000| 6000|       4|        3|      2|     yes|      yes|     yes|            yes|             no|      2|      no|  semi-furnished|\n| 9310000| 6550|       4|        2|      2|     yes|       no|      no|             no|            yes|      1|     yes|  semi-furnished|\n| 9240000| 3500|       4|        2|      2|     yes|       no|      no|            yes|             no|      2|      no|       furnished|\n| 9240000| 7800|       3|        2|      2|     yes|       no|      no|             no|             no|      0|     yes|  semi-furnished|\n| 9100000| 6000|       4|        1|      2|     yes|       no|     yes|             no|             no|      2|      no|  semi-furnished|\n| 9100000| 6600|       4|        2|      2|     yes|      yes|     yes|             no|            yes|      1|     yes|     unfurnished|\n| 8960000| 8500|       3|        2|      4|     yes|       no|      no|             no|            yes|      2|      no|       furnished|\n| 8890000| 4600|       3|        2|      2|     yes|      yes|      no|             no|            yes|      2|      no|       furnished|\n| 8855000| 6420|       3|        2|      2|     yes|       no|      no|             no|            yes|      1|     yes|  semi-furnished|\n+--------+-----+--------+---------+-------+--------+---------+--------+---------------+---------------+-------+--------+----------------+\nonly showing top 20 rows\n",
					"output_type": "stream"
				}
			]
		},
		{
			"cell_type": "markdown",
			"source": "## ○ Selección de datos de housing con filtros simples:\n\n### 1) listado completo de columnas ordenado por price",
			"metadata": {}
		},
		{
			"cell_type": "code",
			"source": "# Se importa el objeto functions en F1 para seleccionar la columna\nimport pyspark.sql.functions as F1\n# Se ordena por una columna\ndf.sort(F1.col('price').desc()).show(10)",
			"metadata": {
				"trusted": true,
				"tags": []
			},
			"execution_count": 6,
			"outputs": [
				{
					"name": "stdout",
					"text": "+--------+-----+--------+---------+-------+--------+---------+--------+---------------+---------------+-------+--------+----------------+\n|   price| area|bedrooms|bathrooms|stories|mainroad|guestroom|basement|hotwaterheating|airconditioning|parking|prefarea|furnishingstatus|\n+--------+-----+--------+---------+-------+--------+---------+--------+---------------+---------------+-------+--------+----------------+\n|13300000| 7420|       4|        2|      3|     yes|       no|      no|             no|            yes|      2|     yes|       furnished|\n|12250000| 9960|       3|        2|      2|     yes|       no|     yes|             no|             no|      2|     yes|  semi-furnished|\n|12250000| 8960|       4|        4|      4|     yes|       no|      no|             no|            yes|      3|      no|       furnished|\n|12215000| 7500|       4|        2|      2|     yes|       no|     yes|             no|            yes|      3|     yes|       furnished|\n|11410000| 7420|       4|        1|      2|     yes|      yes|     yes|             no|            yes|      2|      no|       furnished|\n|10850000| 7500|       3|        3|      1|     yes|       no|     yes|             no|            yes|      2|     yes|  semi-furnished|\n|10150000|16200|       5|        3|      2|     yes|       no|      no|             no|             no|      0|      no|     unfurnished|\n|10150000| 8580|       4|        3|      4|     yes|       no|      no|             no|            yes|      2|     yes|  semi-furnished|\n| 9870000| 8100|       4|        1|      2|     yes|      yes|     yes|             no|            yes|      2|     yes|       furnished|\n| 9800000| 5750|       3|        2|      4|     yes|      yes|      no|             no|            yes|      1|     yes|     unfurnished|\n+--------+-----+--------+---------+-------+--------+---------+--------+---------------+---------------+-------+--------+----------------+\nonly showing top 10 rows\n",
					"output_type": "stream"
				}
			]
		},
		{
			"cell_type": "markdown",
			"source": "### 2) para las casas con mayor numero de habitaciones, calcular el promedio de precio, y tamaño en m2",
			"metadata": {}
		},
		{
			"cell_type": "code",
			"source": "from pyspark.sql.functions import desc\n\ndf.groupBy('bedrooms').count().orderBy(desc(\"count\")).show()\n\n# Los apartamentos que tienen el mayor numero de habitaciones son los de 3 habitaciones",
			"metadata": {
				"trusted": true,
				"tags": []
			},
			"execution_count": 7,
			"outputs": [
				{
					"name": "stdout",
					"text": "+--------+-----+\n|bedrooms|count|\n+--------+-----+\n|       3|  300|\n|       2|  136|\n|       4|   95|\n|       5|   10|\n|       6|    2|\n|       1|    2|\n+--------+-----+\n",
					"output_type": "stream"
				}
			]
		},
		{
			"cell_type": "code",
			"source": "# Tabla temporal\ndf.createOrReplaceTempView(\"apartamentos3habitaciones\")\n# Comando SQL\nsql_str = \"select bedrooms, avg(price), avg(area) from apartamentos3habitaciones where bedrooms=3 group by 1\"\n# Ejecuto SQL\nspark.sql(sql_str).show()",
			"metadata": {
				"tags": [],
				"trusted": true
			},
			"execution_count": 9,
			"outputs": [
				{
					"name": "stdout",
					"text": "+--------+-----------------+---------+\n|bedrooms|       avg(price)|avg(area)|\n+--------+-----------------+---------+\n|       3|4954598.133333334|  5226.62|\n+--------+-----------------+---------+\n",
					"output_type": "stream"
				}
			]
		},
		{
			"cell_type": "markdown",
			"source": "### ○ Agrupamiento en Spark, por número de habitaciones y baños, del precio. Ej: # habitaciones | # baños | precio promedio, esto por furnishingstatus",
			"metadata": {}
		},
		{
			"cell_type": "code",
			"source": "# Tabla temporal\ndf.createOrReplaceTempView(\"agrupamientos\")\n# Comando SQL\nsql_str = \"select furnishingstatus, count(bedrooms) as numero_habitaciones, count(bathrooms) as numero_banos, avg(price) as precio_promedio from agrupamientos group by 1\"\n# Ejecuto SQL\nspark.sql(sql_str).show()",
			"metadata": {
				"trusted": true,
				"tags": []
			},
			"execution_count": 10,
			"outputs": [
				{
					"name": "stdout",
					"text": "+----------------+-------------------+------------+------------------+\n|furnishingstatus|numero_habitaciones|numero_banos|   precio_promedio|\n+----------------+-------------------+------------+------------------+\n|       furnished|                140|         140|         5495696.0|\n|     unfurnished|                178|         178|4013831.4606741574|\n|  semi-furnished|                227|         227|  4907524.22907489|\n+----------------+-------------------+------------+------------------+\n",
					"output_type": "stream"
				}
			]
		},
		{
			"cell_type": "markdown",
			"source": "# ○Incluir 3 análisis adicionales seleccionados por el estudiante, que respondan a preguntas que el negocio quisiera hacer.  Incluir KPIs y datos que permitan a una persona sin conocer el negocio a fondo, dares cuenta de sus magnitudes (e.g. promedio del tamaño de una casa)",
			"metadata": {}
		},
		{
			"cell_type": "code",
			"source": "from pyspark.sql.functions import avg\navg_area = df.agg(avg('area')).collect()[0][0]\n\navg_price =df.agg(avg('price')).collect()[0][0]\n\nprint(f\"The average of the '{'area'}' is: {avg_area}\")\n\nprint(f\"The average of the '{'price'}' is: {avg_price}\")",
			"metadata": {
				"trusted": true,
				"tags": []
			},
			"execution_count": 17,
			"outputs": [
				{
					"name": "stdout",
					"text": "The average of the 'area' is: 5150.54128440367\nThe average of the 'price' is: 4766729.247706422\n",
					"output_type": "stream"
				}
			]
		},
		{
			"cell_type": "code",
			"source": "some_columns= ['bedrooms','bathrooms','stories','mainroad','guestroom','basement','hotwaterheating','airconditioning','parking','prefarea','furnishingstatus']\n\nfor column in some_columns:\n    df_helper = df.groupBy(column).count().orderBy(desc(\"count\"))\n    print('El numero de ocurrencias que se tienen para la variable ',column, ' es:')\n    df_helper.show()",
			"metadata": {
				"trusted": true,
				"tags": []
			},
			"execution_count": 23,
			"outputs": [
				{
					"name": "stdout",
					"text": "El numero de ocurrencias que se tienen para la variable  bedrooms  es:\n+--------+-----+\n|bedrooms|count|\n+--------+-----+\n|       3|  300|\n|       2|  136|\n|       4|   95|\n|       5|   10|\n|       6|    2|\n|       1|    2|\n+--------+-----+\n\nEl numero de ocurrencias que se tienen para la variable  bathrooms  es:\n+---------+-----+\n|bathrooms|count|\n+---------+-----+\n|        1|  401|\n|        2|  133|\n|        3|   10|\n|        4|    1|\n+---------+-----+\n\nEl numero de ocurrencias que se tienen para la variable  stories  es:\n+-------+-----+\n|stories|count|\n+-------+-----+\n|      2|  238|\n|      1|  227|\n|      4|   41|\n|      3|   39|\n+-------+-----+\n\nEl numero de ocurrencias que se tienen para la variable  mainroad  es:\n+--------+-----+\n|mainroad|count|\n+--------+-----+\n|     yes|  468|\n|      no|   77|\n+--------+-----+\n\nEl numero de ocurrencias que se tienen para la variable  guestroom  es:\n+---------+-----+\n|guestroom|count|\n+---------+-----+\n|       no|  448|\n|      yes|   97|\n+---------+-----+\n\nEl numero de ocurrencias que se tienen para la variable  basement  es:\n+--------+-----+\n|basement|count|\n+--------+-----+\n|      no|  354|\n|     yes|  191|\n+--------+-----+\n\nEl numero de ocurrencias que se tienen para la variable  hotwaterheating  es:\n+---------------+-----+\n|hotwaterheating|count|\n+---------------+-----+\n|             no|  520|\n|            yes|   25|\n+---------------+-----+\n\nEl numero de ocurrencias que se tienen para la variable  airconditioning  es:\n+---------------+-----+\n|airconditioning|count|\n+---------------+-----+\n|             no|  373|\n|            yes|  172|\n+---------------+-----+\n\nEl numero de ocurrencias que se tienen para la variable  parking  es:\n+-------+-----+\n|parking|count|\n+-------+-----+\n|      0|  299|\n|      1|  126|\n|      2|  108|\n|      3|   12|\n+-------+-----+\n\nEl numero de ocurrencias que se tienen para la variable  prefarea  es:\n+--------+-----+\n|prefarea|count|\n+--------+-----+\n|      no|  417|\n|     yes|  128|\n+--------+-----+\n\nEl numero de ocurrencias que se tienen para la variable  furnishingstatus  es:\n+----------------+-----+\n|furnishingstatus|count|\n+----------------+-----+\n|  semi-furnished|  227|\n|     unfurnished|  178|\n|       furnished|  140|\n+----------------+-----+\n",
					"output_type": "stream"
				}
			]
		},
		{
			"cell_type": "code",
			"source": "",
			"metadata": {},
			"execution_count": null,
			"outputs": []
		}
	]
}